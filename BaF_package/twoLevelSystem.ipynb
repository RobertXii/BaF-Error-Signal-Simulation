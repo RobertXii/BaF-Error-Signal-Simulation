{
 "cells": [
  {
   "cell_type": "code",
   "execution_count": 1,
   "id": "7534a79c",
   "metadata": {},
   "outputs": [],
   "source": [
    "#Importing the standard libraries\n",
    "import numpy as np\n",
    "import matplotlib.pyplot as plt\n",
    "%matplotlib tk"
   ]
  },
  {
   "cell_type": "code",
   "execution_count": 2,
   "id": "17ab800a",
   "metadata": {},
   "outputs": [],
   "source": [
    "#Importing the solver modules\n",
    "import system\n",
    "from obe import obe\n",
    "from states import SigmaLevel,PiLevelParity\n",
    "from obe import Excitation\n",
    "import time\n",
    "import warnings\n",
    "warnings.filterwarnings('ignore')"
   ]
  },
  {
   "cell_type": "markdown",
   "id": "40b618ca",
   "metadata": {},
   "source": [
    "##### Defining the system. We construct a 2 level system where <br> the ground state is |G = 0.5, N = 2, F1 = 1.5, F = 2, mF = -1> <br> the excited state is |J = 0.5-, F1 = 0.5, F = 1, mF = -1>. <br> Even though the example here treats the case of 138BaF, the states are written in the Hund's case $b_{\\beta S}$ basis"
   ]
  },
  {
   "cell_type": "code",
   "execution_count": 3,
   "id": "2d87d349",
   "metadata": {},
   "outputs": [],
   "source": [
    "b=system.System([],[]) \n",
    "\n",
    "#We will generate a ground state first. In a BaF molecule it is a Sigma level\n",
    "b.sigma_states.append(SigmaLevel(0.5,2,3/2,2,-1))     #state0 = (G,N,F1,F,mF)\n",
    " \n",
    "#The excited state is a Pi level\n",
    "b.pi_states.append(PiLevelParity(-1,1/2,1/2,1,-1))    #state2 = (parity,J,F1,F,mF)\n"
   ]
  },
  {
   "cell_type": "code",
   "execution_count": 4,
   "id": "1b48e9f8",
   "metadata": {},
   "outputs": [
    {
     "name": "stdout",
     "output_type": "stream",
     "text": [
      "[|G = 0.5, N = 2, F1 = 1.5, F = 2, mF = -1>]\n",
      "[|J = 0.5-, F1 = 0.5, F = 1, mF = -1>]\n"
     ]
    }
   ],
   "source": [
    "print(b.sigma_states)\n",
    "print(b.pi_states)"
   ]
  },
  {
   "cell_type": "code",
   "execution_count": 5,
   "id": "7fc29cf2",
   "metadata": {},
   "outputs": [],
   "source": [
    "#Next we will generate the Hamiltonian for this two level system\n",
    "b.sigma_Hamiltonian.generate_bare()\n",
    "b.pi_Hamiltonian.generate_bare()\n",
    "b.sigma_Hamiltonian.diagonalize()\n",
    "b.pi_Hamiltonian.diagonalize()"
   ]
  },
  {
   "cell_type": "code",
   "execution_count": 6,
   "id": "19146b46",
   "metadata": {},
   "outputs": [
    {
     "name": "stdout",
     "output_type": "stream",
     "text": [
      "Pi branching took : 0.3010411262512207 sec\n",
      "Sigma- branching took : 0.3133969306945801 sec\n",
      "Sigma+ branching took : 0.3033621311187744 sec\n"
     ]
    }
   ],
   "source": [
    "G = b.sigma_Hamiltonian.diagonalized_states\n",
    "GH = b.sigma_Hamiltonian.diagonalized_Hamiltonian\n",
    "E =b.pi_Hamiltonian.diagonalized_states\n",
    "EH = b.pi_Hamiltonian.diagonalized_Hamiltonian\n",
    "b.generate_interaction_Hamiltonian(G,E)\n",
    "b.generate_branching_ratios(G,E)"
   ]
  },
  {
   "cell_type": "code",
   "execution_count": 7,
   "id": "b095f5ee",
   "metadata": {},
   "outputs": [
    {
     "data": {
      "text/plain": [
       "array([[1.]])"
      ]
     },
     "execution_count": 7,
     "metadata": {},
     "output_type": "execute_result"
    }
   ],
   "source": [
    "b.branching_ratios"
   ]
  },
  {
   "cell_type": "code",
   "execution_count": 8,
   "id": "e474f775",
   "metadata": {},
   "outputs": [
    {
     "data": {
      "text/plain": [
       "array([[ 0.        +0.j, -0.28867513+0.j],\n",
       "       [-0.28867513-0.j,  0.        +0.j]])"
      ]
     },
     "execution_count": 8,
     "metadata": {},
     "output_type": "execute_result"
    }
   ],
   "source": [
    "#Constructing the Hamiltonian\n",
    "H0 = np.zeros((len(G)+len(E),len(G)+len(E)))\n",
    "H0[0:len(G),0:len(G)] = GH\n",
    "H0[len(G):,len(G):] = EH\n",
    "\n",
    "Hint=b.interaction_Hamiltonian\n",
    "\n",
    "n0 = [1/len(G)]*len(G)+[0]*len(E)\n",
    "Hint"
   ]
  },
  {
   "cell_type": "code",
   "execution_count": 9,
   "id": "4aea60d8",
   "metadata": {},
   "outputs": [],
   "source": [
    "Gamma = 2*np.pi*2.7"
   ]
  },
  {
   "cell_type": "markdown",
   "id": "23ed4fd3",
   "metadata": {},
   "source": [
    "#### Rabi oscillation when atom interacts with a pulse of light. <br> The pulse is a rectangular function smootened at the transtions extending between $-2t_{\\sigma}$ and $+2t_{\\sigma}$"
   ]
  },
  {
   "cell_type": "code",
   "execution_count": 14,
   "id": "b63e0b19",
   "metadata": {},
   "outputs": [
    {
     "name": "stdout",
     "output_type": "stream",
     "text": [
      "Actual rabi frequency : (-14.433756729740649+0j)\n"
     ]
    },
    {
     "name": "stderr",
     "output_type": "stream",
     "text": [
      "2025-01-28 14:02:03.208 python[12183:523166] error messaging the mach port for IMKCFRunLoopWakeUpReliable\n"
     ]
    }
   ],
   "source": [
    "#Define the em wave interacting with the atom\n",
    "#By default we are using a z-polarized light\n",
    "rabi_prime = 50.0 #this is the overall factor that will multiply the matrix element to produce the actual rabi freqiemncy for the transtion\n",
    "tsigma = 10/Gamma/4 #4t_sigma is time that corresponds to the 1/e^2 diameter of the beam\n",
    "\n",
    "\n",
    "#Define the light field\n",
    "field = Excitation(rabi_prime,pol = 0,ground_state=G[0],excited_state=E[0],detuning = 0,position=0, diameter=tsigma*4,shape = \"Uniform\") \n",
    "rabi = rabi_prime*Hint[0,1]\n",
    "print(f\"Actual rabi frequency : {rabi}\") \n",
    "\n",
    "#Constructing the optical bloch equation system\n",
    "my_obe = obe(field,[G,E],H0,Hint,b.branching_ratios)\n",
    "\n",
    "#initializing the density matrix\n",
    "steps=5000\n",
    "r_init = np.array([[1.0,0],[0,0]]).astype(np.complex128)\n",
    "\n",
    "#calling the solve function of the obe class\n",
    "tim,ans = my_obe.solve(steps,r_init,max_step_size = 1/Gamma, package= 'Python')\n",
    "\n",
    "#Populatiton of the excited state as a function of time\n",
    "pop = ans[:,3]\n",
    "plt.plot(tim,pop);\n",
    "plt.xlabel('Time (us)')\n",
    "plt.ylabel('Population in the excited state');\n"
   ]
  },
  {
   "cell_type": "markdown",
   "id": "45a4601a",
   "metadata": {},
   "source": [
    "#### Rabi oscillation by varying pulse area"
   ]
  },
  {
   "cell_type": "code",
   "execution_count": 16,
   "id": "ba86943f",
   "metadata": {
    "scrolled": true
   },
   "outputs": [],
   "source": [
    "#Observing Rabi fluorescence by varying pulse width\n",
    "steps=5000\n",
    "rabi_prime=100\n",
    "tsigma_array = np.linspace(1e-6/Gamma,2.0/Gamma,1000)\n",
    "\n",
    "pulse_area = np.abs(np.sqrt(4*np.pi)*tsigma_array*2*np.pi*rabi_prime*Hint[0,1])\n",
    "r22  = []\n",
    "\n",
    "for tsigma in tsigma_array:\n",
    "    field = Excitation(rabi_prime,pol = 0,ground_state=G[0],excited_state=E[0],detuning = 0,position=0, diameter=tsigma*4,shape = \"Gaussian\")\n",
    "    my_obe = obe([field],[G,E],H0,Hint,b.branching_ratios)\n",
    "    \n",
    "    r_init = np.zeros(np.shape(H0)).astype(np.complex128)\n",
    "    for i in range(len(G)):\n",
    "        r_init[i,i] = 1.0/len(G)\n",
    "    \n",
    "    t,ans = my_obe.solve(steps,r_init,max_step_size = 1/Gamma)\n",
    "    r22.append(np.sum(ans[:,3])*(t[1]-t[0])/(t[-1]-t[0]))\n",
    "    #print(tsigma*Gamma)"
   ]
  },
  {
   "cell_type": "code",
   "execution_count": null,
   "id": "2964ca36",
   "metadata": {},
   "outputs": [],
   "source": [
    "plt.plot(pulse_area/np.pi,r22,'o-')\n",
    "plt.xlabel(\"Pulse area (in units of π)\")\n",
    "plt.ylabel(\"Integrated fluorsecence (arb unit)\");"
   ]
  },
  {
   "cell_type": "markdown",
   "id": "7732ff7a",
   "metadata": {},
   "source": [
    "#### Frequency scan around resonance"
   ]
  },
  {
   "cell_type": "code",
   "execution_count": 13,
   "id": "96bf4868",
   "metadata": {},
   "outputs": [],
   "source": [
    "#Scan\n",
    "\n",
    "def r22(rabi_prime, det):\n",
    "    \n",
    "    field = Excitation(rabi_prime,0,G[0],E[0],detuning = det,position=0, diameter=40/Gamma,shape = \"Gaussian\")\n",
    "    \n",
    "    my_obe = obe([field],[G,E],H0,Hint,b.branching_ratios)\n",
    "    \n",
    "    steps=5000\n",
    "    #t=np.linspace(0,30.0/Gamma,steps)\n",
    "    r_init = np.zeros(np.shape(H0)).astype(np.complex128)\n",
    "    for i in range(len(G)):\n",
    "        r_init[i,i] = 1.0/len(G)\n",
    "    t,ans = my_obe.solve(steps,r_init,max_step_size = 0.1/Gamma)\n",
    "    return np.sum(ans[:,3])*(t[1]-t[0])/(t[-1]-t[0])\n",
    "\n",
    "\n",
    "rabi_prime = 2\n",
    "detuning = np.linspace(-20,20,100)\n",
    "int_fl = []\n",
    "for det in detuning:\n",
    "    int_fl.append(r22(rabi_prime,det))"
   ]
  },
  {
   "cell_type": "code",
   "execution_count": null,
   "id": "2f407f08",
   "metadata": {},
   "outputs": [],
   "source": [
    "plt.plot(detuning,int_fl)\n",
    "plt.xlabel(\"Detuning from resonace (MHz)\")\n",
    "plt.ylabel(\"Integrated fluorescence \")"
   ]
  },
  {
   "cell_type": "code",
   "execution_count": null,
   "id": "e1ecee14",
   "metadata": {},
   "outputs": [],
   "source": []
  }
 ],
 "metadata": {
  "kernelspec": {
   "display_name": "Python 3 (ipykernel)",
   "language": "python",
   "name": "python3"
  },
  "language_info": {
   "codemirror_mode": {
    "name": "ipython",
    "version": 3
   },
   "file_extension": ".py",
   "mimetype": "text/x-python",
   "name": "python",
   "nbconvert_exporter": "python",
   "pygments_lexer": "ipython3",
   "version": "3.9.12"
  }
 },
 "nbformat": 4,
 "nbformat_minor": 5
}
