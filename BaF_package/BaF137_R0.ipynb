{
 "cells": [
  {
   "cell_type": "code",
   "execution_count": 1,
   "id": "7534a79c",
   "metadata": {},
   "outputs": [],
   "source": [
    "#Importing the standard libraries\n",
    "import numpy as np\n",
    "import matplotlib.pyplot as plt\n",
    "%matplotlib tk\n",
    "\n",
    "#Importing the solver modules\n",
    "import system\n",
    "from obe import obe \n",
    "from states import SigmaLevel,PiLevelParity\n",
    "from obe import Excitation\n",
    "import time\n",
    "import warnings\n",
    "warnings.filterwarnings('ignore')"
   ]
  },
  {
   "cell_type": "code",
   "execution_count": 6,
   "id": "411c26f3",
   "metadata": {},
   "outputs": [
    {
     "name": "stdout",
     "output_type": "stream",
     "text": [
      "12\n",
      "Hamiltonian generated\n",
      "Pi branching took : 1.3874847888946533 sec\n",
      "Sigma- branching took : 1.455503225326538 sec\n",
      "Sigma+ branching took : 1.3720479011535645 sec\n"
     ]
    }
   ],
   "source": [
    "#Create a system and generate all the states with the rotation quantum number 0 and 2, and all the -ve parity pi state with J values from 1/2 to 5/2\n",
    "b=system.System([1],['5/2+'],B_field = [0.0,0.0,4600.0],ignore_mF = False)\n",
    "\n",
    "b.sigma_Hamiltonian.generate_bare()\n",
    "b.sigma_Hamiltonian.Zeeman.generate_Zeeman()\n",
    "b.pi_Hamiltonian.generate_bare()\n",
    "b.pi_Hamiltonian.Zeeman.generate_Zeeman()\n",
    "\n",
    "#Next diagonalize the Hamiltonian for this system\n",
    "b.sigma_Hamiltonian.diagonalize()\n",
    "b.pi_Hamiltonian.diagonalize()\n",
    "\n",
    "G_global = b.sigma_Hamiltonian.diagonalized_states\n",
    "GH_global = np.round(b.sigma_Hamiltonian.diagonalized_Hamiltonian,3)\n",
    "E_global =b.pi_Hamiltonian.diagonalized_states\n",
    "EH_global = np.round(b.pi_Hamiltonian.diagonalized_Hamiltonian,3)\n",
    "\n",
    "print(\"Hamiltonian generated\")\n",
    "\n",
    "b.generate_branching_ratios(G_global,E_global)\n",
    "BR_global = b.branching_ratios"
   ]
  },
  {
   "cell_type": "code",
   "execution_count": null,
   "id": "a42deaa0",
   "metadata": {},
   "outputs": [],
   "source": []
  },
  {
   "cell_type": "code",
   "execution_count": 4,
   "id": "186cb66c",
   "metadata": {},
   "outputs": [
    {
     "data": {
      "text/plain": [
       "(-0.82+0j) |G = 0.5, N = 1, F1 = 0.5, F = 1.0, mF = 1.0> + \n",
       "(-0.29+0j) |G = 0.5, N = 1, F1 = 1.5, F = 1.0, mF = 1.0> + \n",
       "(0.5+0j) |G = 0.5, N = 1, F1 = 1.5, F = 2.0, mF = 1.0>"
      ]
     },
     "execution_count": 4,
     "metadata": {},
     "output_type": "execute_result"
    }
   ],
   "source": [
    "G_global[0]"
   ]
  },
  {
   "cell_type": "code",
   "execution_count": 5,
   "id": "7d39e4bd",
   "metadata": {
    "scrolled": true
   },
   "outputs": [
    {
     "data": {
      "text/plain": [
       "(-0.58+0j) |J = 2.5+, F1 = 2.5, F = 2.0, mF = 1.0> + \n",
       "(0.82+0j) |J = 2.5+, F1 = 2.5, F = 3.0, mF = 1.0>"
      ]
     },
     "execution_count": 5,
     "metadata": {},
     "output_type": "execute_result"
    }
   ],
   "source": [
    "E_global[4]"
   ]
  },
  {
   "cell_type": "markdown",
   "id": "34e727ee",
   "metadata": {},
   "source": [
    "### BaF 138 R0 transitions"
   ]
  },
  {
   "cell_type": "code",
   "execution_count": 20,
   "id": "03759ae2",
   "metadata": {},
   "outputs": [],
   "source": [
    "#Reduce the Hamiltonian to current Hilbert space\n",
    "G  = G_global\n",
    "GH = GH_global\n",
    "E  = E_global\n",
    "EH = EH_global\n",
    "BR = BR_global"
   ]
  },
  {
   "cell_type": "code",
   "execution_count": 21,
   "id": "5ce6b02a",
   "metadata": {},
   "outputs": [],
   "source": [
    "## Drawww energy levels\n",
    "plt.figure()\n",
    "ground_mF = [item.states[np.argmax(np.abs(item.amplitude))].mF+np.linspace(-1/4,1/4,3) for item in G]\n",
    "ground_Energy = np.array([GH[i,i] for i in range(len(G))])\n",
    "ground_Energy -= np.mean(ground_Energy)\n",
    "min_ground_energy = np.amin(ground_Energy)\n",
    "max_ground_energy = np.amax(ground_Energy)\n",
    "\n",
    "excited_mF = [item.states[np.argmax(np.abs(item.amplitude))].mF+np.linspace(-1/4,1/4,3) for item in E]\n",
    "excited_Energy = np.array([EH[i,i] for i in range(len(E))])\n",
    "excited_Energy -= np.mean(excited_Energy) - 1*np.abs(max_ground_energy-min_ground_energy)\n",
    "excited_Energy += 150\n",
    "          \n",
    "#Plot the energy levels\n",
    "for i in range(len(G)):\n",
    "    plt.plot(ground_mF[i],ground_Energy[i]+np.zeros(3))\n",
    "    plt.text(ground_mF[i][1],ground_Energy[i]-8,f\"G[{i}]\",fontsize = 8)\n",
    "for j in range(len(E)):\n",
    "    plt.plot(excited_mF[j],excited_Energy[j]+np.zeros(3))\n",
    "    plt.text(excited_mF[j][1],excited_Energy[j]-8,f\"E[{j}]\",fontsize = 8)\n"
   ]
  },
  {
   "cell_type": "code",
   "execution_count": 22,
   "id": "18f808c8",
   "metadata": {},
   "outputs": [],
   "source": [
    "## Rewrite the Hamiltonian in the current Hilbert space\n",
    "H0 = np.zeros((len(G)+len(E),len(G)+len(E)),dtype=np.complex_)\n",
    "H0[0:len(G),0:len(G)] = GH\n",
    "H0[len(G):,len(G):] = EH\n",
    "b.generate_interaction_Hamiltonian(G,E)\n",
    "Hint_1=np.round(b.interaction_Hamiltonian,3)\n",
    "n0 = [1/len(G)]*len(G)+[0]*len(E)"
   ]
  },
  {
   "cell_type": "code",
   "execution_count": 29,
   "id": "b9e19b61",
   "metadata": {},
   "outputs": [
    {
     "data": {
      "text/plain": [
       "(-0.201+0j)"
      ]
     },
     "execution_count": 29,
     "metadata": {},
     "output_type": "execute_result"
    }
   ],
   "source": [
    "Hint_1[0, len(G)+4]"
   ]
  },
  {
   "cell_type": "code",
   "execution_count": 24,
   "id": "8e6e66bd",
   "metadata": {},
   "outputs": [],
   "source": [
    "## Function to compute the integrated fluorescence\n",
    "Gamma = 2*np.pi*2.7\n",
    "def r22(detuning,rabi_prime): #rabi_det_params was a field earlier\n",
    "    \n",
    "    tsigma = 113/Gamma/4\n",
    "    field = Excitation(rabi_prime,0,G[0],E[0],detuning,position=0, diameter=tsigma*4,shape = \"Gaussian\")\n",
    "\n",
    "    steps=5000\n",
    "    n=len(E)+len(G)\n",
    "    r_init = np.zeros(np.shape(H0)).astype(np.complex128)\n",
    "    for i in range(len(G)):\n",
    "        r_init[i,i] = 1.0/len(G)\n",
    "    \n",
    "    my_obe = obe(field,[G,E],H0,Hint_1,BR)\n",
    "    _,ans = my_obe.solve(steps,r_init,max_step_size = 1/Gamma,package='Python')\n",
    "    \n",
    "    integrated_fluorescence = 0\n",
    "    for i in range(steps):\n",
    "        rho_i = ans[i].reshape(n,n)\n",
    "        integrated_fluorescence += np.sum(np.diag(rho_i)[len(G):n])\n",
    "\n",
    "    print(detuning,end = \",\")\n",
    "    \n",
    "    return np.real(integrated_fluorescence)\n"
   ]
  },
  {
   "cell_type": "code",
   "execution_count": 25,
   "id": "1ac9eb3d",
   "metadata": {},
   "outputs": [
    {
     "name": "stdout",
     "output_type": "stream",
     "text": [
      "2.0\n",
      "\n"
     ]
    }
   ],
   "source": [
    "from joblib import Parallel,delayed\n",
    "detuning_scan = np.arange(-300,100,2)\n",
    "\n",
    "for rabi_prime in [2.0]:\n",
    "    print(rabi_prime)\n",
    "    fluorescence = Parallel(n_jobs = -1)(delayed(r22)(detuning,rabi_prime) for detuning in detuning_scan)\n",
    "    array_to_write = np.array([detuning_scan,fluorescence]).T\n",
    "    fname = f\"BaF138_R0_rabi_{rabi_prime}.csv\"\n",
    "    np.savetxt(fname,array_to_write,delimiter=',')\n",
    "    print(\"\")\n"
   ]
  },
  {
   "cell_type": "code",
   "execution_count": 27,
   "id": "87ee5ee5",
   "metadata": {},
   "outputs": [
    {
     "name": "stdout",
     "output_type": "stream",
     "text": [
      "-300,-272,-264,-248,-234,-216,-202,-186,-170,-154,-138,-122,-106,-90,-74,-58,-42,-26,-10,6,22,36,52,68,84,-290,-284,-268,-252,-236,-220,-204,-188,-172,-156,-140,-124,-108,-92,-76,-60,-44,-28,-12,4,20,38,54,70,86,-292,-274,-258,-240,-230,-214,-198,-182,-166,-152,-136,-120,-104,-88,-70,-54,-40,-24,-8,8,24,40,56,72,88,-286,-282,-266,-250,-232,-218,-200,-184,-168,-148,-134,-118,-100,-84,-72,-52,-38,-20,-6,12,28,44,60,74,90,-296,-276,-260,-238,-222,-206,-192,-180,-164,-146,-132,-116,-102,-86,-68,-56,-36,-22,-4,10,26,42,58,76,92,-288,-270,-256,-244,-224,-212,-196,-178,-158,-144,-128,-112,-96,-82,-66,-50,-34,-18,-2,14,30,46,62,78,94,-294,-278,-254,-242,-226,-208,-190,-174,-160,-142,-126,-110,-94,-78,-62,-46,-30,-14,2,18,34,50,66,82,98,-298,-280,-262,-246,-228,-210,-194,-176,-162,-150,-130,-114,-98,-80,-64,-48,-32,-16,0,16,32,48,64,80,96,"
     ]
    }
   ],
   "source": [
    "plt.figure()\n",
    "for rabi_prime in [2.0]:\n",
    "    fname = f\"BaF138_R0_rabi_{rabi_prime}.csv\"\n",
    "    A = np.genfromtxt(fname,delimiter = \",\")\n",
    "    plt.plot(A[:,0],A[:,1]/np.amax(A[:,1]))"
   ]
  },
  {
   "cell_type": "code",
   "execution_count": null,
   "id": "d8f1f116",
   "metadata": {},
   "outputs": [],
   "source": []
  }
 ],
 "metadata": {
  "kernelspec": {
   "display_name": "Python 3 (ipykernel)",
   "language": "python",
   "name": "python3"
  },
  "language_info": {
   "codemirror_mode": {
    "name": "ipython",
    "version": 3
   },
   "file_extension": ".py",
   "mimetype": "text/x-python",
   "name": "python",
   "nbconvert_exporter": "python",
   "pygments_lexer": "ipython3",
   "version": "3.9.12"
  }
 },
 "nbformat": 4,
 "nbformat_minor": 5
}
