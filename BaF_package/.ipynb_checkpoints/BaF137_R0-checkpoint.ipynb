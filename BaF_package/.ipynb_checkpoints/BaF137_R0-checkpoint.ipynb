{
 "cells": [
  {
   "cell_type": "code",
   "execution_count": 64,
   "id": "7534a79c",
   "metadata": {},
   "outputs": [],
   "source": [
    "#Importing the standard libraries\n",
    "import numpy as np\n",
    "import matplotlib.pyplot as plt\n",
    "%matplotlib qt\n",
    "\n",
    "#Importing the solver modules\n",
    "import system\n",
    "from obe import obe \n",
    "from states import SigmaLevel,PiLevelParity\n",
    "from obe import Excitation\n",
    "import time\n",
    "import warnings\n",
    "import pickle\n",
    "warnings.filterwarnings('ignore')"
   ]
  },
  {
   "cell_type": "code",
   "execution_count": 67,
   "id": "411c26f3",
   "metadata": {},
   "outputs": [
    {
     "name": "stdout",
     "output_type": "stream",
     "text": [
      "Hamiltonian generated\n",
      "Pi branching took : 8.424686908721924 sec\n",
      "Sigma- branching took : 8.264274835586548 sec\n",
      "Sigma+ branching took : 8.594196796417236 sec\n",
      "Variables saved to R0_variables.pkl\n"
     ]
    }
   ],
   "source": [
    "b=system.System([0,2],['1/2-','3/2-','5/2-',],B_field = [0.0,0.0,0.17],ignore_mF = False) #[0.415*0,0.0,0.170*0.01]\n",
    "\n",
    "b.sigma_Hamiltonian.generate_bare()\n",
    "b.sigma_Hamiltonian.Zeeman.generate_Zeeman()\n",
    "b.pi_Hamiltonian.generate_bare()\n",
    "b.pi_Hamiltonian.Zeeman.generate_Zeeman()\n",
    "\n",
    "#Next diagonalize the Hamiltonian for this system\n",
    "b.sigma_Hamiltonian.diagonalize()\n",
    "b.pi_Hamiltonian.diagonalize()\n",
    "\n",
    "\n",
    "G_global = b.sigma_Hamiltonian.diagonalized_states\n",
    "GH_global = np.round(b.sigma_Hamiltonian.diagonalized_Hamiltonian,3)\n",
    "E_global =b.pi_Hamiltonian.diagonalized_states\n",
    "EH_global = np.round(b.pi_Hamiltonian.diagonalized_Hamiltonian,3)\n",
    "\n",
    "print(\"Hamiltonian generated\")\n",
    "\n",
    "b.generate_branching_ratios(G,E)\n",
    "BR_global = b.branching_ratios\n",
    "np.round(BR_global,3)\n",
    "\n",
    "# Edit entries in GH and EH\n",
    "\n",
    "#GH -= np.amin(np.diag(GH))*np.identity(np.shape(GH)[0])\n",
    "#EH -= np.amin(np.diag(EH))*np.identity(np.shape(EH)[0])\n",
    "\n",
    "def is_pkl(obj):\n",
    "    try:\n",
    "        pickle.dump(obj)\n",
    "        return True\n",
    "    except pickle.PicklingError:\n",
    "        return False\n",
    "    except TypeError:\n",
    "        return False\n",
    "    \n",
    "\n",
    "\n",
    "\n",
    "filename = \"R0_variables.pkl\"\n",
    "variables = {key: value for key,value in globals().items() if not key.startswith(\"__\") and key != \"save_variables_to_pickle\" and is_pkl(value)} \n",
    "with open(filename,\"wb\") as f:\n",
    "    pickle.dump(variables,f)\n",
    "print(f\"Variables saved to {filename}\")"
   ]
  },
  {
   "cell_type": "code",
   "execution_count": null,
   "id": "34e727ee",
   "metadata": {},
   "outputs": [],
   "source": []
  },
  {
   "cell_type": "code",
   "execution_count": 9,
   "id": "a597ffcc-b191-4a05-acc0-356979142226",
   "metadata": {},
   "outputs": [
    {
     "data": {
      "text/plain": [
       "(-0.0068+0j) |G = 1.0, N = 0, F1 = 1.0, F = 1.5, mF = -1.5> + \n",
       "(1+0j) |G = 2.0, N = 0, F1 = 2.0, F = 1.5, mF = -1.5> + \n",
       "(-0.0011+0j) |G = 2.0, N = 0, F1 = 2.0, F = 2.5, mF = -1.5> + \n",
       "(-0.0012+0j) |G = 1.0, N = 2, F1 = 2.0, F = 1.5, mF = -1.5>"
      ]
     },
     "execution_count": 9,
     "metadata": {},
     "output_type": "execute_result"
    }
   ],
   "source": [
    "G[6]\n",
    "#b.pi_states"
   ]
  },
  {
   "cell_type": "code",
   "execution_count": 10,
   "id": "18f808c8",
   "metadata": {},
   "outputs": [],
   "source": [
    "#Reduce the Hamiltonian to current Hilbert space\n",
    "G = G[6:16]\n",
    "GH = GH[6:16,6:16]\n",
    "E = E[0:16]\n",
    "EH = EH[0:16,0:16]\n",
    "BR = BR[6:16,0:16]\n"
   ]
  },
  {
   "cell_type": "code",
   "execution_count": 11,
   "id": "e474f775",
   "metadata": {
    "scrolled": true
   },
   "outputs": [],
   "source": [
    "H0 = np.zeros((len(G)+len(E),len(G)+len(E)),dtype=np.complex_)\n",
    "H0[0:len(G),0:len(G)] = GH\n",
    "H0[len(G):,len(G):] = EH\n",
    "b.generate_interaction_Hamiltonian(G,E)\n",
    "Hint_1=np.round(b.interaction_Hamiltonian,3)\n",
    "n0 = [1/len(G)]*len(G)+[0]*len(E)"
   ]
  },
  {
   "cell_type": "code",
   "execution_count": 13,
   "id": "c434be8b",
   "metadata": {},
   "outputs": [
    {
     "data": {
      "text/plain": [
       "(-623.0370000004768+0j)"
      ]
     },
     "execution_count": 13,
     "metadata": {},
     "output_type": "execute_result"
    }
   ],
   "source": [
    "EH[0,0]-EH[-1,-1]"
   ]
  },
  {
   "cell_type": "code",
   "execution_count": 14,
   "id": "ceffb9fb",
   "metadata": {},
   "outputs": [],
   "source": [
    "#Scan\n",
    "Gamma = 2*np.pi*2.7\n",
    "def r22(detuning,rabi_prime): #rabi_det_params was a field earlier\n",
    "    \n",
    "    tsigma = 100/Gamma/4\n",
    "    field = Excitation(rabi_prime,0,G[0],E[0],detuning,position=0, diameter=tsigma*4,shape = \"Gaussian\")\n",
    "\n",
    "    steps=5000\n",
    "    n=len(E)+len(G)\n",
    "    r_init = np.zeros(np.shape(H0)).astype(np.complex128)\n",
    "    for i in range(len(G)):\n",
    "        r_init[i,i] = 1.0/len(G)\n",
    "    \n",
    "    my_obe = obe(field,[G,E],H0,Hint_1,BR)\n",
    "    ans = my_obe.solve(steps,r_init,max_step_size = 1/Gamma,package='Python')\n",
    "    rho = np.array(ans[-1]) #gives the solution at the end of the time\n",
    "\n",
    "    integrated_fluorescence = 0\n",
    "    for i in range(steps):\n",
    "        rho_i = np.array(ans[i].reshape(n,n))\n",
    "        integrated_fluorescence += np.sum(np.diag(rho_i)[len(G):n])\n",
    "\n",
    "    print(detuning,end = \",\")\n",
    "    \n",
    "    return np.real(integrated_fluorescence)"
   ]
  },
  {
   "cell_type": "code",
   "execution_count": 40,
   "id": "1ac9eb3d",
   "metadata": {},
   "outputs": [
    {
     "name": "stdout",
     "output_type": "stream",
     "text": [
      "1.8\n",
      "2.0\n",
      "2.2\n",
      "2.4\n"
     ]
    }
   ],
   "source": [
    "from joblib import Parallel,delayed\n",
    "detuning_scan = np.arange(-100,660,1)\n",
    "\n",
    "for rabi_prime in [1.8,2.0,2.2,2.4]:\n",
    "    print(rabi_prime)\n",
    "    fluorescence = Parallel(n_jobs = -1)(delayed(r22)(detuning,rabi_prime) for detuning in detuning_scan)\n",
    "    array_to_write = np.array([detuning_scan,fluorescence]).T\n",
    "    fname = f\"BaF137_Q0G2_rabi_{rabi_prime}.csv\"\n",
    "    np.savetxt(fname,array_to_write,delimiter=',')\n"
   ]
  },
  {
   "cell_type": "code",
   "execution_count": 61,
   "id": "2ada304b",
   "metadata": {},
   "outputs": [],
   "source": [
    "fname = \"../exp_traces/BaF137_Q0_G2_lower_02_up_scaled.csv\"\n",
    "A = np.genfromtxt(fname,delimiter = \",\")\n",
    "plt.plot(A[:,0]-219-40,A[:,1],'r',alpha  = 0.75)\n",
    "\n",
    "fname = \"../exp_traces/BaF137_Q0_G2_upper_01_up_scaled.csv\"\n",
    "A = np.genfromtxt(fname,delimiter = \",\")\n",
    "plt.plot(A[:,0]+247,A[:,1],'r',alpha  = 0.75)\n",
    "\n",
    "for rabi_prime in [1.8]:\n",
    "    fname = f\"BaF137_Q0G2_rabi_{rabi_prime}.csv\"\n",
    "    A = np.genfromtxt(fname,delimiter = \",\")\n",
    "    plt.plot(A[:,0],A[:,1]*110,'g')\n",
    "    \n",
    "    plt.pause(2)"
   ]
  },
  {
   "cell_type": "code",
   "execution_count": null,
   "id": "923ac7e2",
   "metadata": {},
   "outputs": [],
   "source": [
    "A = np.array([1,2,3,4,5,6])\n",
    "B = [0.1,2.0,4.1,3,2,2]\n",
    "array_to_write = np.array([A,B]).T\n",
    "array_to_write\n",
    "np.savetxt('test.csv',array_to_write,delimiter=',')"
   ]
  },
  {
   "cell_type": "code",
   "execution_count": null,
   "id": "f5060203",
   "metadata": {},
   "outputs": [],
   "source": []
  }
 ],
 "metadata": {
  "kernelspec": {
   "display_name": "Python 3 (ipykernel)",
   "language": "python",
   "name": "python3"
  },
  "language_info": {
   "codemirror_mode": {
    "name": "ipython",
    "version": 3
   },
   "file_extension": ".py",
   "mimetype": "text/x-python",
   "name": "python",
   "nbconvert_exporter": "python",
   "pygments_lexer": "ipython3",
   "version": "3.9.7"
  }
 },
 "nbformat": 4,
 "nbformat_minor": 5
}
