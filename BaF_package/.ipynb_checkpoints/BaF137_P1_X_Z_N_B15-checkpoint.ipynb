{
 "cells": [
  {
   "cell_type": "code",
   "execution_count": 1,
   "id": "7534a79c",
   "metadata": {},
   "outputs": [],
   "source": [
    "#Importing the standard libraries\n",
    "import numpy as np\n",
    "import matplotlib.pyplot as plt\n",
    "%matplotlib qt\n",
    "\n",
    "#Importing the solver modules\n",
    "import system\n",
    "from obe import obe \n",
    "from states import SigmaLevel,PiLevelParity\n",
    "from obe import Excitation\n",
    "import time\n",
    "import warnings\n",
    "warnings.filterwarnings('ignore')"
   ]
  },
  {
   "cell_type": "code",
   "execution_count": null,
   "id": "e757728d",
   "metadata": {},
   "outputs": [],
   "source": []
  },
  {
   "cell_type": "code",
   "execution_count": 5,
   "id": "3b5900b6-3437-442a-bab2-3dd3a8024449",
   "metadata": {},
   "outputs": [
    {
     "name": "stdout",
     "output_type": "stream",
     "text": [
      "Pi branching took : 20.77661681175232 sec\n",
      "Sigma- branching took : 19.100367069244385 sec\n",
      "Sigma+ branching took : 19.14439296722412 sec\n",
      "mF = 2.5\n",
      "35.0 0.029 0.061 0.089\n"
     ]
    }
   ],
   "source": [
    "from field_optimization import *\n",
    "Bz_list = [35.0]#np.arange(0,100,5)+0.001\n",
    "rabi = 10.0\n",
    "detuning = 0\n",
    "for Bz in Bz_list:\n",
    "    sum_z,sum_x,desired_Z,desired_X = field_optimizer(Bz,rabi,detuning,level_to_optimize = 0)\n",
    "    print(np.round(Bz,2),np.round(sum_z,3),np.round(sum_x,3),np.round(sum_z+sum_x,3))\n",
    "    "
   ]
  },
  {
   "cell_type": "code",
   "execution_count": 8,
   "id": "b2dae0e2",
   "metadata": {},
   "outputs": [
    {
     "name": "stdout",
     "output_type": "stream",
     "text": [
      "[(1, 3), (2, 4), (3, 6), (4, 8), (5, 4), (6, 7), (7, 4), (8, 6), (9, 6), (10, 8), (11, 8), (12, 7), (13, 0), (14, 9), (15, 10), (16, 12), (17, 13), (18, 1), (19, 2), (20, 4), (21, 9), (22, 1), (23, 5), (24, 5), (25, 2), (26, 3), (27, 2), (28, 5), (29, 7), (30, 8), (31, 9), (32, 2), (33, 9), (34, 3), (35, 6), (36, 6), (37, 8), (38, 13), (39, 11), (40, 11), (41, 15), (42, 15), (43, 11), (44, 13), (45, 12), (46, 0), (47, 3)]\n"
     ]
    }
   ],
   "source": [
    "print(desired_X)"
   ]
  },
  {
   "cell_type": "markdown",
   "id": "0f00e46d-f17e-46f4-969a-6f7ca0e6fa00",
   "metadata": {},
   "source": [
    "print(desired_Z)\n",
    "print(desired_X)"
   ]
  },
  {
   "cell_type": "markdown",
   "id": "ba19bf8a",
   "metadata": {},
   "source": [
    "Pi branching took : 19.574066877365112 sec\n",
    "Sigma- branching took : 17.243286609649658 sec\n",
    "Sigma+ branching took : 17.538835287094116 sec\n",
    "mF = 2.5\n",
    "0.0 -0.014 0.397 0.383\n",
    "Pi branching took : 63.99335050582886 sec\n",
    "Sigma- branching took : 62.65816140174866 sec\n",
    "Sigma+ branching took : 62.24983859062195 sec\n",
    "mF = 2.5\n",
    "5.0 0.176 0.405 0.581\n",
    "Pi branching took : 66.97849130630493 sec\n",
    "Sigma- branching took : 65.34729433059692 sec\n",
    "Sigma+ branching took : 65.40315127372742 sec\n",
    "mF = 2.5\n",
    "10.0 0.208 0.442 0.649\n",
    "Pi branching took : 69.4548454284668 sec\n",
    "Sigma- branching took : 66.55643653869629 sec\n",
    "Sigma+ branching took : 67.09268379211426 sec\n",
    "mF = 2.5\n",
    "15.0 0.214 0.493 0.708\n",
    "Pi branching took : 73.3771595954895 sec\n",
    "Sigma- branching took : 70.41731286048889 sec\n",
    "Sigma+ branching took : 70.76597929000854 sec\n",
    "mF = 2.5\n",
    "20.0 0.217 0.482 0.699\n",
    "Pi branching took : 70.28291964530945 sec\n",
    "Sigma- branching took : 67.239328622818 sec\n",
    "Sigma+ branching took : 67.23423624038696 sec\n",
    "mF = 2.5\n",
    "25.0 0.209 0.494 0.703\n",
    "Pi branching took : 68.1530134677887 sec\n",
    "Sigma- branching took : 66.3458206653595 sec\n",
    "Sigma+ branching took : 67.02928948402405 sec\n",
    "mF = 2.5\n",
    "30.0 0.21 0.491 0.701\n",
    "Pi branching took : 68.91709566116333 sec\n",
    "Sigma- branching took : 66.58065891265869 sec\n",
    "Sigma+ branching took : 66.56860899925232 sec\n",
    "mF = 2.5\n",
    "35.0 0.213 0.492 0.705\n",
    "Pi branching took : 69.21236181259155 sec\n",
    "Sigma- branching took : 66.4279773235321 sec\n",
    "Sigma+ branching took : 66.93192219734192 sec\n",
    "mF = 2.5\n",
    "40.0 0.216 0.482 0.698\n",
    "Pi branching took : 68.65074729919434 sec\n",
    "Sigma- branching took : 67.03658199310303 sec\n",
    "Sigma+ branching took : 67.08051943778992 sec\n",
    "mF = 2.5\n",
    "45.0 0.222 0.47 0.692\n",
    "Pi branching took : 68.33200693130493 sec\n",
    "Sigma- branching took : 67.12077808380127 sec\n",
    "Sigma+ branching took : 67.28049182891846 sec\n",
    "mF = 2.5\n",
    "50.0 0.23 0.451 0.681\n",
    "Pi branching took : 68.89178848266602 sec\n",
    "Sigma- branching took : 66.70370888710022 sec\n",
    "Sigma+ branching took : 67.06417417526245 sec\n",
    "mF = 2.5\n",
    "55.0 0.225 0.454 0.68\n",
    "Pi branching took : 68.72279572486877 sec\n",
    "Sigma- branching took : 67.13355040550232 sec\n",
    "Sigma+ branching took : 67.33793663978577 sec\n",
    "mF = 2.5\n",
    "60.0 0.233 0.438 0.671\n",
    "Pi branching took : 69.0852427482605 sec\n",
    "Sigma- branching took : 66.88219332695007 sec\n",
    "Sigma+ branching took : 67.41536498069763 sec\n",
    "mF = 2.5\n",
    "65.0 0.234 0.411 0.646\n",
    "Pi branching took : 68.78651690483093 sec\n",
    "Sigma- branching took : 66.9755187034607 sec\n",
    "Sigma+ branching took : 67.26162028312683 sec\n",
    "mF = 2.5\n",
    "70.0 0.241 0.396 0.637\n",
    "Pi branching took : 68.89474701881409 sec\n",
    "Sigma- branching took : 67.0391891002655 sec\n",
    "Sigma+ branching took : 66.80136728286743 sec\n",
    "mF = 2.5\n",
    "75.0 0.248 0.374 0.622\n",
    "Pi branching took : 68.74527406692505 sec\n",
    "Sigma- branching took : 66.60429191589355 sec\n",
    "Sigma+ branching took : 67.38039064407349 sec\n",
    "mF = 2.5\n",
    "80.0 0.254 0.354 0.608\n",
    "Pi branching took : 68.32063412666321 sec\n",
    "Sigma- branching took : 67.05157446861267 sec\n",
    "Sigma+ branching took : 67.2616126537323 sec\n",
    "mF = 2.5\n",
    "85.0 0.265 0.337 0.602\n",
    "Pi branching took : 69.5066819190979 sec\n",
    "Sigma- branching took : 67.2057158946991 sec\n",
    "Sigma+ branching took : 67.30653309822083 sec\n",
    "mF = 2.5\n",
    "90.0 0.279 0.327 0.607\n",
    "Pi branching took : 69.08026957511902 sec\n",
    "Sigma- branching took : 66.86251187324524 sec\n",
    "Sigma+ branching took : 67.22754073143005 sec\n",
    "mF = 2.5\n",
    "95.0 0.287 0.335 0.622"
   ]
  },
  {
   "cell_type": "code",
   "execution_count": 4,
   "id": "411c26f3",
   "metadata": {},
   "outputs": [
    {
     "name": "stdout",
     "output_type": "stream",
     "text": [
      "Pi branching took : 57.55448317527771 sec\n",
      "Sigma- branching took : 56.55499601364136 sec\n",
      "Sigma+ branching took : 56.235843896865845 sec\n"
     ]
    }
   ],
   "source": [
    "Bz = 15.0\n",
    "b=system.System([1],['1/2+'],B_field = [0.0,0.0,Bz],ignore_mF = False)\n",
    "\n",
    "b.sigma_Hamiltonian.generate_bare()\n",
    "b.sigma_Hamiltonian.Zeeman.generate_Zeeman()\n",
    "b.pi_Hamiltonian.generate_bare()\n",
    "b.pi_Hamiltonian.Zeeman.generate_Zeeman()\n",
    "\n",
    "#Next diagonalize the Hamiltonian for this system\n",
    "b.sigma_Hamiltonian.diagonalize()\n",
    "b.pi_Hamiltonian.diagonalize()\n",
    "\n",
    "\n",
    "G = b.sigma_Hamiltonian.diagonalized_states\n",
    "GH = np.round(b.sigma_Hamiltonian.diagonalized_Hamiltonian,3)\n",
    "E =b.pi_Hamiltonian.diagonalized_states\n",
    "EH = np.round(b.pi_Hamiltonian.diagonalized_Hamiltonian,3)\n",
    "\n",
    "b.generate_branching_ratios(G,E)\n",
    "BR = b.branching_ratios\n",
    "np.round(BR,3)\n",
    "\n",
    "# Edit entries in GH and EH\n",
    "\n",
    "GH -= np.amin(np.diag(GH))*np.identity(np.shape(GH)[0])\n",
    "EH -= np.amin(np.diag(EH))*np.identity(np.shape(EH)[0])\n",
    "\n"
   ]
  },
  {
   "cell_type": "code",
   "execution_count": 5,
   "id": "a597ffcc-b191-4a05-acc0-356979142226",
   "metadata": {},
   "outputs": [
    {
     "data": {
      "text/plain": [
       "[|G = 1.0, N = 1, F1 = 0.0, F = 0.5, mF = -0.5>,\n",
       " |G = 1.0, N = 1, F1 = 0.0, F = 0.5, mF = 0.5>,\n",
       " |G = 1.0, N = 1, F1 = 1.0, F = 0.5, mF = -0.5>,\n",
       " |G = 1.0, N = 1, F1 = 1.0, F = 0.5, mF = 0.5>,\n",
       " |G = 1.0, N = 1, F1 = 1.0, F = 1.5, mF = -1.5>,\n",
       " |G = 1.0, N = 1, F1 = 1.0, F = 1.5, mF = -0.5>,\n",
       " |G = 1.0, N = 1, F1 = 1.0, F = 1.5, mF = 0.5>,\n",
       " |G = 1.0, N = 1, F1 = 1.0, F = 1.5, mF = 1.5>,\n",
       " |G = 1.0, N = 1, F1 = 2.0, F = 1.5, mF = -1.5>,\n",
       " |G = 1.0, N = 1, F1 = 2.0, F = 1.5, mF = -0.5>,\n",
       " |G = 1.0, N = 1, F1 = 2.0, F = 1.5, mF = 0.5>,\n",
       " |G = 1.0, N = 1, F1 = 2.0, F = 1.5, mF = 1.5>,\n",
       " |G = 1.0, N = 1, F1 = 2.0, F = 2.5, mF = -2.5>,\n",
       " |G = 1.0, N = 1, F1 = 2.0, F = 2.5, mF = -1.5>,\n",
       " |G = 1.0, N = 1, F1 = 2.0, F = 2.5, mF = -0.5>,\n",
       " |G = 1.0, N = 1, F1 = 2.0, F = 2.5, mF = 0.5>,\n",
       " |G = 1.0, N = 1, F1 = 2.0, F = 2.5, mF = 1.5>,\n",
       " |G = 1.0, N = 1, F1 = 2.0, F = 2.5, mF = 2.5>,\n",
       " |G = 2.0, N = 1, F1 = 1.0, F = 0.5, mF = -0.5>,\n",
       " |G = 2.0, N = 1, F1 = 1.0, F = 0.5, mF = 0.5>,\n",
       " |G = 2.0, N = 1, F1 = 1.0, F = 1.5, mF = -1.5>,\n",
       " |G = 2.0, N = 1, F1 = 1.0, F = 1.5, mF = -0.5>,\n",
       " |G = 2.0, N = 1, F1 = 1.0, F = 1.5, mF = 0.5>,\n",
       " |G = 2.0, N = 1, F1 = 1.0, F = 1.5, mF = 1.5>,\n",
       " |G = 2.0, N = 1, F1 = 2.0, F = 1.5, mF = -1.5>,\n",
       " |G = 2.0, N = 1, F1 = 2.0, F = 1.5, mF = -0.5>,\n",
       " |G = 2.0, N = 1, F1 = 2.0, F = 1.5, mF = 0.5>,\n",
       " |G = 2.0, N = 1, F1 = 2.0, F = 1.5, mF = 1.5>,\n",
       " |G = 2.0, N = 1, F1 = 2.0, F = 2.5, mF = -2.5>,\n",
       " |G = 2.0, N = 1, F1 = 2.0, F = 2.5, mF = -1.5>,\n",
       " |G = 2.0, N = 1, F1 = 2.0, F = 2.5, mF = -0.5>,\n",
       " |G = 2.0, N = 1, F1 = 2.0, F = 2.5, mF = 0.5>,\n",
       " |G = 2.0, N = 1, F1 = 2.0, F = 2.5, mF = 1.5>,\n",
       " |G = 2.0, N = 1, F1 = 2.0, F = 2.5, mF = 2.5>,\n",
       " |G = 2.0, N = 1, F1 = 3.0, F = 2.5, mF = -2.5>,\n",
       " |G = 2.0, N = 1, F1 = 3.0, F = 2.5, mF = -1.5>,\n",
       " |G = 2.0, N = 1, F1 = 3.0, F = 2.5, mF = -0.5>,\n",
       " |G = 2.0, N = 1, F1 = 3.0, F = 2.5, mF = 0.5>,\n",
       " |G = 2.0, N = 1, F1 = 3.0, F = 2.5, mF = 1.5>,\n",
       " |G = 2.0, N = 1, F1 = 3.0, F = 2.5, mF = 2.5>,\n",
       " |G = 2.0, N = 1, F1 = 3.0, F = 3.5, mF = -3.5>,\n",
       " |G = 2.0, N = 1, F1 = 3.0, F = 3.5, mF = -2.5>,\n",
       " |G = 2.0, N = 1, F1 = 3.0, F = 3.5, mF = -1.5>,\n",
       " |G = 2.0, N = 1, F1 = 3.0, F = 3.5, mF = -0.5>,\n",
       " |G = 2.0, N = 1, F1 = 3.0, F = 3.5, mF = 0.5>,\n",
       " |G = 2.0, N = 1, F1 = 3.0, F = 3.5, mF = 1.5>,\n",
       " |G = 2.0, N = 1, F1 = 3.0, F = 3.5, mF = 2.5>,\n",
       " |G = 2.0, N = 1, F1 = 3.0, F = 3.5, mF = 3.5>]"
      ]
     },
     "execution_count": 5,
     "metadata": {},
     "output_type": "execute_result"
    }
   ],
   "source": [
    "dir(b)\n",
    "b.sigma_states\n",
    "#b.pi_states"
   ]
  },
  {
   "cell_type": "code",
   "execution_count": 6,
   "id": "21f41044-86b7-4f0b-9ab8-11f0b0f6ef93",
   "metadata": {},
   "outputs": [
    {
     "data": {
      "text/plain": [
       "(0.9999+0j) |G = 1.0, N = 1, F1 = 2.0, F = 2.5, mF = 2.5> + \n",
       "(0.0121+0j) |G = 2.0, N = 1, F1 = 2.0, F = 2.5, mF = 2.5> + \n",
       "(0.0078+0j) |G = 2.0, N = 1, F1 = 3.0, F = 2.5, mF = 2.5> + \n",
       "(-0.0029+0j) |G = 2.0, N = 1, F1 = 3.0, F = 3.5, mF = 2.5>"
      ]
     },
     "execution_count": 6,
     "metadata": {},
     "output_type": "execute_result"
    }
   ],
   "source": [
    "G[0]"
   ]
  },
  {
   "cell_type": "code",
   "execution_count": 7,
   "id": "41f4df18-f0da-4885-b238-5303f3479f6b",
   "metadata": {},
   "outputs": [
    {
     "data": {
      "text/plain": [
       "(20.34099999999853+0j)"
      ]
     },
     "execution_count": 7,
     "metadata": {},
     "output_type": "execute_result"
    }
   ],
   "source": [
    "GH[19,19]-GH[18,18]"
   ]
  },
  {
   "cell_type": "code",
   "execution_count": 8,
   "id": "7578a0aa-bef1-4f3e-af02-384c93a6a9d4",
   "metadata": {},
   "outputs": [
    {
     "data": {
      "text/plain": [
       "(2.190999984741211+0j)"
      ]
     },
     "execution_count": 8,
     "metadata": {},
     "output_type": "execute_result"
    }
   ],
   "source": [
    "EH[3,3]-EH[2,2]"
   ]
  },
  {
   "cell_type": "code",
   "execution_count": 9,
   "id": "e474f775",
   "metadata": {
    "scrolled": true
   },
   "outputs": [],
   "source": [
    "H0 = np.zeros((len(G)+len(E),len(G)+len(E)),dtype=np.complex_)\n",
    "H0[0:len(G),0:len(G)] = GH\n",
    "H0[len(G):,len(G):] = EH\n",
    "b.generate_interaction_Hamiltonian(G,E)\n",
    "Hint_1=np.round(b.interaction_Hamiltonian,3)\n",
    "n0 = [1/len(G)]*len(G)+[0]*len(E)\n",
    "\n",
    "b.generate_interaction_Hamiltonian(G,E,pol=+1)\n",
    "Hint_2 = np.round(b.interaction_Hamiltonian,3)\n",
    "\n",
    "b.generate_interaction_Hamiltonian(G,E,pol=-1)\n",
    "Hint_3 = np.round(b.interaction_Hamiltonian,3)"
   ]
  },
  {
   "cell_type": "code",
   "execution_count": 10,
   "id": "5bb01588",
   "metadata": {},
   "outputs": [],
   "source": [
    "level_to_optimize = 0\n",
    "myList_1 = []\n",
    "myList_2 = []\n",
    "for i in range(0,len(G)):\n",
    "    if i != level_to_optimize:\n",
    "        tempList_1 = []\n",
    "        tempList_2 = []\n",
    "        for j in range(len(E)):\n",
    "            #look at the Hint element for z pol light\n",
    "            if np.abs(Hint_1[i,len(G)+j])> 1e-2:\n",
    "                tempList_1.append((i,j))\n",
    "            if np.abs(Hint_2[i,len(G)+j])> 1e-2 or np.abs(Hint_3[i,len(G)+j])> 1e-2:\n",
    "                tempList_2.append((i,j))\n",
    "            \n",
    "        myList_1.append(tempList_1)\n",
    "        myList_2.append(tempList_2)"
   ]
  },
  {
   "cell_type": "code",
   "execution_count": 11,
   "id": "fc726a0c",
   "metadata": {},
   "outputs": [
    {
     "data": {
      "text/plain": [
       "[[(1, 1), (1, 4), (1, 6), (1, 12), (1, 15)],\n",
       " [(2, 0), (2, 2), (2, 5), (2, 7), (2, 11), (2, 14)],\n",
       " [(3, 1), (3, 4), (3, 6), (3, 12), (3, 15)],\n",
       " [(4, 1), (4, 3), (4, 6), (4, 8), (4, 10), (4, 12), (4, 15)],\n",
       " [(5, 0), (5, 2), (5, 5), (5, 7), (5, 11), (5, 13), (5, 14)],\n",
       " [(6, 2), (6, 7), (6, 9), (6, 11), (6, 14)],\n",
       " [(7, 1), (7, 3), (7, 6), (7, 8), (7, 10), (7, 12), (7, 15)],\n",
       " [(8, 3), (8, 8), (8, 10)],\n",
       " [(9, 2), (9, 7), (9, 9), (9, 11), (9, 14)],\n",
       " [(10, 0), (10, 2), (10, 5), (10, 7), (10, 11), (10, 13), (10, 14)],\n",
       " [(11, 1), (11, 4), (11, 6), (11, 12), (11, 15)],\n",
       " [(12, 1), (12, 6), (12, 8), (12, 10), (12, 12), (12, 15)],\n",
       " [(13, 0), (13, 2), (13, 5), (13, 7), (13, 11), (13, 13), (13, 14)],\n",
       " [(14, 2), (14, 7), (14, 9), (14, 11), (14, 14)],\n",
       " [(15, 1), (15, 3), (15, 6), (15, 8), (15, 10), (15, 12), (15, 15)],\n",
       " [(16, 1), (16, 6), (16, 8), (16, 10), (16, 12), (16, 15)],\n",
       " [(17, 0), (17, 2), (17, 5), (17, 7), (17, 11), (17, 13), (17, 14)],\n",
       " [(18, 1), (18, 3), (18, 6), (18, 8), (18, 10), (18, 12), (18, 15)],\n",
       " [(19, 0), (19, 2), (19, 5), (19, 7), (19, 11), (19, 13), (19, 14)],\n",
       " [(20, 2), (20, 7), (20, 9), (20, 11), (20, 14)],\n",
       " [(21, 1), (21, 3), (21, 6), (21, 8), (21, 10), (21, 12), (21, 15)],\n",
       " [(22, 2), (22, 7), (22, 9), (22, 11), (22, 14)],\n",
       " [(23, 0), (23, 2), (23, 5), (23, 7), (23, 11), (23, 13), (23, 14)],\n",
       " [(24, 1), (24, 4), (24, 6), (24, 12), (24, 15)],\n",
       " [(25, 1), (25, 3), (25, 6), (25, 8), (25, 10), (25, 12), (25, 15)],\n",
       " [(26, 2), (26, 5), (26, 7), (26, 11), (26, 13), (26, 14)],\n",
       " [(27, 3), (27, 8), (27, 10)],\n",
       " [(28, 2), (28, 7), (28, 9), (28, 11), (28, 14)],\n",
       " [(29, 1), (29, 4), (29, 6), (29, 12), (29, 15)],\n",
       " [(30, 1), (30, 3), (30, 6), (30, 8), (30, 10), (30, 12), (30, 15)],\n",
       " [(31, 0), (31, 2), (31, 5), (31, 7), (31, 11), (31, 13), (31, 14)],\n",
       " [(32, 3), (32, 8), (32, 10)],\n",
       " [(33, 1), (33, 4), (33, 6), (33, 12), (33, 15)],\n",
       " [(34, 0), (34, 5), (34, 13)],\n",
       " [(35, 2), (35, 7), (35, 9), (35, 11)],\n",
       " [(36, 1), (36, 3), (36, 6), (36, 8), (36, 10), (36, 12)],\n",
       " [(37, 0), (37, 2), (37, 11), (37, 13), (37, 14)],\n",
       " [(38, 1), (38, 4), (38, 12), (38, 15)],\n",
       " [(39, 9)],\n",
       " [(40, 3), (40, 8), (40, 10)],\n",
       " [(41, 0), (41, 5), (41, 13)],\n",
       " [(42, 2), (42, 7), (42, 9), (42, 11), (42, 14)],\n",
       " [(43, 1), (43, 3), (43, 6), (43, 8), (43, 10), (43, 12), (43, 15)],\n",
       " [(44, 0), (44, 2), (44, 5), (44, 7), (44, 11), (44, 13), (44, 14)],\n",
       " [(45, 1), (45, 4), (45, 6), (45, 12), (45, 15)],\n",
       " [(46, 0), (46, 5), (46, 13)],\n",
       " [(47, 4)]]"
      ]
     },
     "execution_count": 11,
     "metadata": {},
     "output_type": "execute_result"
    }
   ],
   "source": [
    "myList_2"
   ]
  },
  {
   "cell_type": "code",
   "execution_count": 12,
   "id": "c1aaca17",
   "metadata": {},
   "outputs": [],
   "source": [
    "#to select a random neighbour\n",
    "Gamma = 2*np.pi*2.7\n",
    "tsigma = 8.192/4\n",
    "import random\n",
    "def randomize_transition(myList,polarization):\n",
    "    \"\"\" returns a list where each element is  tuple of ground and excited state index for the transition\"\"\"\n",
    "    candidate_fields = []\n",
    "    for item in myList:\n",
    "        if len(item) != 0:\n",
    "            candidate_fields.append(random.choice(item))\n",
    "    #print(candidate_fields)\n",
    "    field = []\n",
    "    for item in candidate_fields:\n",
    "        if len(item) != 0:\n",
    "            (i,j) = item\n",
    "        else:\n",
    "            continue\n",
    "        rabi = random.uniform(0.1, 5.0)*Gamma\n",
    "        pol = polarization\n",
    "        groundState = G[i]\n",
    "        excitedState = E[j]\n",
    "        det = random.uniform(-1,1)*Gamma\n",
    "        pos = 0\n",
    "        dia = 4*tsigma\n",
    "        temp_field = Excitation(rabi,pol,groundState,excitedState,detuning = det,position = pos,diameter = dia ,shape = \"Uniform\")\n",
    "        field.append(temp_field)\n",
    "    \n",
    "    return field,candidate_fields\n"
   ]
  },
  {
   "cell_type": "code",
   "execution_count": 13,
   "id": "5a522ad9",
   "metadata": {},
   "outputs": [],
   "source": [
    "#to select a desired set of transitions\n",
    "Gamma = 2*np.pi*2.7\n",
    "tsigma = 8.192/4\n",
    "import random\n",
    "def generate_transition(desired_transitions,polarization):\n",
    "    \n",
    "    field = []\n",
    "    for item in desired_transitions:\n",
    "        (i,j) = item\n",
    "        rabi = random.uniform(0.1, 5.0)*Gamma\n",
    "        pol = polarization\n",
    "        groundState = G[i]\n",
    "        excitedState = E[j]\n",
    "        det = random.uniform(-1,1)*Gamma\n",
    "        pos = 0\n",
    "        dia = 4*tsigma\n",
    "        temp_field = Excitation(rabi,pol,groundState,excitedState,detuning = det,position = pos,diameter = dia ,shape = \"Uniform\")\n",
    "        field.append(temp_field)\n",
    "    \n",
    "    return field,desired_transitions"
   ]
  },
  {
   "cell_type": "code",
   "execution_count": 14,
   "id": "8a3bb212",
   "metadata": {},
   "outputs": [],
   "source": [
    "def flatten(x):\n",
    "    temp_list = []\n",
    "    for item in x:\n",
    "        if type(item) == list:\n",
    "            for temp_item in item:\n",
    "                temp_list.append(temp_item)\n",
    "        else:\n",
    "            temp_list.append(item)\n",
    "    return temp_list\n"
   ]
  },
  {
   "cell_type": "code",
   "execution_count": 15,
   "id": "e61074e8-f137-4a5d-b040-e2dc19fbfd5b",
   "metadata": {},
   "outputs": [],
   "source": [
    "import copy\n",
    "current_field,transitions_Z = randomize_transition(myList_1,0)\n",
    "N_z= len(current_field)\n",
    "temp_field,transitions_sigma = randomize_transition(myList_2,1)\n",
    "current_field.append(temp_field)\n",
    "N_sigma = len(current_field[-1])\n",
    "current_field=flatten(current_field)"
   ]
  },
  {
   "cell_type": "code",
   "execution_count": 16,
   "id": "9c349562",
   "metadata": {},
   "outputs": [],
   "source": [
    "### only when we want to force a choice of transition\n",
    "\n",
    "desired_Z = [(1, 13), (2, 15), (3, 13), (4, 14), (5, 15), (6, 10), (7, 14), (8, 9), (9, 10), (10, 15), (11, 0), (12, 2), (13, 1), (14, 3), (15, 2), (16, 2), (17, 1), (18, 7), (19, 1), (20, 3), (21, 2), (22, 3), (23, 1), (24, 0), (25, 2), (26, 1), (27, 9), (28, 3), (29, 0), (30, 2), (31, 6), (32, 9), (33, 5), (34, 4), (35, 8), (36, 7), (37, 1), (38, 0), (40, 9), (41, 4), (42, 8), (43, 11), (44, 12), (45, 13), (46, 4)]\n",
    "desired_X = [(1, 6), (2, 0), (3, 12), (4, 10), (5, 11), (6, 11), (7, 10), (8, 10), (9, 11), (10, 11), (11, 12), (12, 1), (13, 0), (14, 2), (15, 1), (16, 6), (17, 5), (18, 1), (19, 0), (20, 2), (21, 1), (22, 2), (23, 2), (24, 4), (25, 1), (26, 2), (27, 3), (28, 2), (29, 4), (30, 6), (31, 7), (32, 8), (33, 4), (34, 5), (35, 9), (36, 10), (37, 14), (38, 12), (39, 9), (40, 10), (41, 13), (42, 11), (43, 12), (44, 14), (45, 15), (46, 13), (47, 4)]\n",
    "\n",
    "current_field,transitions_Z = generate_transition(desired_Z,0)\n",
    "N_z= len(current_field)\n",
    "temp_field,transitions_X = generate_transition(desired_X,1) \n",
    "current_field.append(temp_field)\n",
    "N_sigma = len(current_field[-1])\n",
    "current_field=flatten(current_field)\n"
   ]
  },
  {
   "cell_type": "code",
   "execution_count": 17,
   "id": "d60cf14b",
   "metadata": {},
   "outputs": [
    {
     "data": {
      "text/plain": [
       "rabi = 79.67143729108366, pol = 1, Ground = (-0.0002+0j) |G = 1.0, N = 1, F1 = 1.0, F = 1.5, mF = -0.5> + \n",
       "(-0.0002+0j) |G = 1.0, N = 1, F1 = 2.0, F = 1.5, mF = -0.5> + \n",
       "(-0.0028+0j) |G = 1.0, N = 1, F1 = 2.0, F = 2.5, mF = -0.5> + \n",
       "(-0.0006+0j) |G = 2.0, N = 1, F1 = 1.0, F = 0.5, mF = -0.5> + \n",
       "(-0.0055+0j) |G = 2.0, N = 1, F1 = 1.0, F = 1.5, mF = -0.5> + \n",
       "(-0.0072+0j) |G = 2.0, N = 1, F1 = 2.0, F = 1.5, mF = -0.5> + \n",
       "(-0.0916+0j) |G = 2.0, N = 1, F1 = 2.0, F = 2.5, mF = -0.5> + \n",
       "(-0.0616+0j) |G = 2.0, N = 1, F1 = 3.0, F = 2.5, mF = -0.5> + \n",
       "(-0.9938+0j) |G = 2.0, N = 1, F1 = 3.0, F = 3.5, mF = -0.5>, Excited = (0.1955+0j) |J = 0.5+, F1 = 1.0, F = 0.5, mF = 0.5> + \n",
       "(-0.975+0j) |J = 0.5+, F1 = 1.0, F = 1.5, mF = 0.5> + \n",
       "(0.091+0j) |J = 0.5+, F1 = 2.0, F = 1.5, mF = 0.5> + \n",
       "(0.0543+0j) |J = 0.5+, F1 = 2.0, F = 2.5, mF = 0.5>, detuning  = 8.953982315973969, position = 0, diameter = 8.192, shape = Uniform"
      ]
     },
     "execution_count": 17,
     "metadata": {},
     "output_type": "execute_result"
    }
   ],
   "source": [
    "current_field[87]"
   ]
  },
  {
   "cell_type": "code",
   "execution_count": 18,
   "id": "27b6a17c",
   "metadata": {},
   "outputs": [],
   "source": [
    "for item in transitions_Z:\n",
    "        g = item[0]"
   ]
  },
  {
   "cell_type": "code",
   "execution_count": 19,
   "id": "761bdc9b",
   "metadata": {},
   "outputs": [
    {
     "name": "stdout",
     "output_type": "stream",
     "text": [
      "17 28\n",
      "17 30\n"
     ]
    }
   ],
   "source": [
    "#Count the number of transitions from the different G levels\n",
    "Nz_1,Nz_2 = 0,0\n",
    "for item in transitions_Z:\n",
    "    g = item[0]                 #index of the ground state\n",
    "    \n",
    "    max_G_idx = np.argmax(np.abs(G[g].amplitude))\n",
    "    \n",
    "    G_g = G[g].states[max_G_idx].G\n",
    "    if G_g == 1.0:\n",
    "        Nz_1 += 1\n",
    "    elif G_g == 2.0:\n",
    "        Nz_2 += 1\n",
    "print(Nz_1,Nz_2)\n",
    "\n",
    "\n",
    "Nx_1,Nx_2 = 0,0\n",
    "for item in transitions_X:\n",
    "    g = item[0]\n",
    "    max_G_idx = np.argmax(np.abs(G[g].amplitude))\n",
    "    \n",
    "    G_g = G[g].states[max_G_idx].G\n",
    "    if G_g == 1.0:\n",
    "        Nx_1 += 1\n",
    "    elif G_g == 2.0:\n",
    "        Nx_2 += 1\n",
    "print(Nx_1,Nx_2)\n",
    "Ns = [Nz_1,Nx_1,Nz_2,Nx_2]\n"
   ]
  },
  {
   "cell_type": "code",
   "execution_count": 20,
   "id": "2eb05359-80d4-4492-af05-652689d54ef1",
   "metadata": {},
   "outputs": [],
   "source": [
    "# Temporary function to get the position of the beaM GIVEN THE SEQUENCE AND DIAMETER OF THE BEAM\n",
    "def get_pos(A):\n",
    "    cumsum_arr = np.cumsum(A)\n",
    "    pos = [A[0]/2]\n",
    "    for i in range(1,len(A)):\n",
    "        temp_pos = np.round((cumsum_arr[i]+cumsum_arr[i-1])*0.5,2)\n",
    "        pos.append(temp_pos)\n",
    "    return pos"
   ]
  },
  {
   "cell_type": "code",
   "execution_count": 21,
   "id": "ceffb9fb",
   "metadata": {},
   "outputs": [],
   "source": [
    "#Scan\n",
    "def r22(rabi_det_params:list,Ns,Omega_z_0 = 10.0, Omega_x_0 = 10.0,Omega_z_2 = 10.0, Omega_x_2 = 10.0,passes=1): #rabi_det_params was a field earlier\n",
    "    Omega_z_0 , Omega_x_0 ,Omega_z_2, Omega_x_2\n",
    "    package = 'Python'\n",
    "    [Nz_1,Nx_1,Nz_2,Nx_2] = Ns\n",
    "    \n",
    "    #modify the current fields here for the G=1 transitions\n",
    "    P_z_1 = []\n",
    "    P_x_1 = []\n",
    "    P_z_2 = []\n",
    "    P_x_2 = []\n",
    "    for i in range(len(current_field)):\n",
    "            current_field[i].rabi = rabi_det_params[i][0]\n",
    "            current_field[i].detuning = rabi_det_params[i][1]\n",
    "            if i < Nz_1:\n",
    "                P_z_1.append(rabi_det_params[i][0]**2)\n",
    "            elif i >= Nz_1 and i < (Nz_1 + Nz_2):\n",
    "                P_z_2.append(rabi_det_params[i][0]**2)\n",
    "            elif i >= (Nz_1 + Nz_2) and i< (Nz_1 + Nz_2)+Nx_1:\n",
    "                P_x_1.append(rabi_det_params[i][0]**2)\n",
    "            else:\n",
    "                P_x_2.append(rabi_det_params[i][0]**2)\n",
    "    total_pow_z_1 = np.sum(P_z_1)\n",
    "    total_pow_x_1 = np.sum(P_x_1)\n",
    "    P_z_1 = np.array(P_z_1)/total_pow_z_1*4*tsigma\n",
    "    P_x_1 = np.array(P_x_1)/total_pow_x_1*4*tsigma\n",
    "    pos_z_1 = np.round(get_pos(P_z_1),3)\n",
    "    pos_x_1 = np.round(get_pos(P_x_1),3)\n",
    "\n",
    "    #modify the current fields here for the G = 2 transitions\n",
    "    \n",
    "    total_pow_z_2 = np.sum(P_z_2)\n",
    "    total_pow_x_2 = np.sum(P_x_2)\n",
    "    P_z_2 = np.array(P_z_2)/total_pow_z_2*4*tsigma\n",
    "    P_x_2 = np.array(P_x_2)/total_pow_x_2*4*tsigma\n",
    "    pos_z_2 = np.round(get_pos(P_z_2),3)\n",
    "    pos_x_2 = np.round(get_pos(P_x_2),3)\n",
    "\n",
    "    #print(pos_z_0)\n",
    "    #print(pos_x_0)\n",
    "    #print(pos_z_2)\n",
    "    #print(pos_x_2)\n",
    "    \n",
    "\n",
    "    field = current_field\n",
    "    field_N1Z = field[0:Nz_1]\n",
    "    field_N2Z = field[Nz_1 : Nz_2 + Nz_1]\n",
    "    field_N1X = field[Nz_2 + Nz_1:(Nz_2 + Nz_1) + Nx_1]\n",
    "    \n",
    "    field_N2X = field[(Nz_2 + Nz_1) + Nx_1:]\n",
    "\n",
    "    #Modify fields for N = 0\n",
    "    for i in range(len(field_N1Z)):\n",
    "        field_N1Z[i].position = pos_z_1[i]\n",
    "        field_N1Z[i].diameter = P_z_1[i]\n",
    "        field_N1Z[i].rabi = Omega_z_1\n",
    "    for i in range(len(field_N1X)):\n",
    "        field_N1X[i].position = pos_x_1[i]\n",
    "        field_N1X[i].diameter = P_x_1[i]\n",
    "        field_N1X[i].rabi = 1/np.sqrt(2)*Omega_x_1\n",
    "    \n",
    "    X_field_1 = []\n",
    "    for field_N1X_item in field_N1X:\n",
    "        X_field_1.append(field_N1X_item)\n",
    "        field_N1X_item_pol_reversed = copy.copy(field_N1X_item)\n",
    "        field_N1X_item_pol_reversed.pol *= -1\n",
    "        X_field_1.append(field_N1X_item_pol_reversed)\n",
    "\n",
    "    #Modify fields for N = 2\n",
    "    for i in range(len(field_N2Z)):\n",
    "        field_N2Z[i].position = pos_z_2[i]\n",
    "        field_N2Z[i].diameter = P_z_2[i]\n",
    "        field_N2Z[i].rabi = Omega_z_2\n",
    "    for i in range(len(field_N2X)):\n",
    "        field_N2X[i].position = pos_x_2[i]\n",
    "        field_N2X[i].diameter = P_x_2[i]\n",
    "        field_N2X[i].rabi = 1/np.sqrt(2)*Omega_x_2\n",
    "    \n",
    "    X_field_2 = []\n",
    "    for field_N2X_item in field_N2X:\n",
    "        X_field_2.append(field_N2X_item)\n",
    "        field_N2X_item_pol_reversed = copy.copy(field_N2X_item)\n",
    "        field_N2X_item_pol_reversed.pol *= -1\n",
    "        X_field_2.append(field_N2X_item_pol_reversed)\n",
    "\n",
    "    \"\"\"\n",
    "    for i,item in enumerate(X_field_0):\n",
    "        print(f\"-------- {i} ----------\")\n",
    "        print(item)\n",
    "    \"\"\"\n",
    "    \n",
    "    steps=5000\n",
    "    n=len(E)+len(G)\n",
    "    r_init = np.zeros(np.shape(H0)).astype(np.complex128)\n",
    "    for i in range(len(G)):\n",
    "        r_init[i,i] = 1.0/len(G)\n",
    "    \n",
    "    Hint_Z = None\n",
    "    Hint_X = None\n",
    "    for count in range(passes):\n",
    "        start = time.time()\n",
    "        my_obe_1 = obe(field_N1Z + field_N2Z,[G,E],H0,Hint_1,BR,Hint_func = Hint_Z)\n",
    "        Hint_Z = my_obe_1.Hint\n",
    "        \n",
    "        ans = my_obe_1.solve(steps,r_init,max_step_size = 1/Gamma,package=package)\n",
    "        rho = np.array(ans[-1]) #gives the solution at the end of the time\n",
    "        r_init = rho.reshape(n,n)\n",
    "    \n",
    "        my_obe_2 = obe(X_field_1 + X_field_2,[G,E],H0,[Hint_2,Hint_3],BR,Hint_func =Hint_X)\n",
    "        Hint_X = my_obe_2.Hint\n",
    "        \n",
    "        ans = my_obe_2.solve(steps,r_init,max_step_size = 1/Gamma,package=package)\n",
    "        rho = np.array(ans[-1]) #gives the solution at the end of the time\n",
    "        r_init = rho.reshape(n,n)\n",
    "        \n",
    "    \n",
    "    r_level2optimize=np.real(r_init[level_to_optimize,level_to_optimize])\n",
    "    rgg = 0\n",
    "\n",
    "    for temp_count in range(len(G)):\n",
    "        if temp_count != level_to_optimize:\n",
    "            rgg += np.real(r_init[temp_count,temp_count])\n",
    "\n",
    "    \n",
    "    for i in range(len(G)):\n",
    "        print(f\"r_{i}: {np.round(r_init[i,i],5)}\",end = \",\")\n",
    "    print(\"----------\")\n",
    "    \n",
    "    return (r_level2optimize-rgg) #the new version of ax by default maximizes"
   ]
  },
  {
   "cell_type": "markdown",
   "id": "55847771",
   "metadata": {},
   "source": [
    "# Optimization continues here"
   ]
  },
  {
   "cell_type": "markdown",
   "id": "abe8813a",
   "metadata": {
    "scrolled": true
   },
   "source": [
    "from ax.service.ax_client import AxClient\n",
    "ax_client = AxClient()\n",
    "\n",
    "#Create bounds\n",
    "bounds = []\n",
    "for i in range(len(current_field)):\n",
    "    #bounds.append({\"name\":\"omega\"+str(i),\"type\":\"range\",\"bounds\":[0.0,20.0],\"value_type\":\"float\"})\n",
    "    bounds.append({\"name\":\"omega\"+str(i),\"type\":\"range\",\"bounds\":[0.0,10.0],\"value_type\":\"float\"})\n",
    "    bounds.append({\"name\":\"det\"+str(i),\"type\":\"choice\",\"values\":np.round(np.arange(-15.0,15.0,0.2),1).tolist(),\"value_type\":\"float\"})\n",
    "bounds.append({\"name\":\"Omega_z_1\",\"type\":\"range\",\"bounds\":[0.0,20.0],\"value_type\":\"float\"})\n",
    "bounds.append({\"name\":\"Omega_x_1\",\"type\":\"range\",\"bounds\":[0.0,20.0],\"value_type\":\"float\"})\n",
    "bounds.append({\"name\":\"Omega_z_2\",\"type\":\"range\",\"bounds\":[0.0,20.0],\"value_type\":\"float\"})\n",
    "bounds.append({\"name\":\"Omega_x_2\",\"type\":\"range\",\"bounds\":[0.0,20.0],\"value_type\":\"float\"})\n",
    "\n",
    "ax_client.create_experiment(\n",
    "    name = \"pumping_experiment\",\n",
    "    parameters = bounds,\n",
    "    #parameter_constraints = constraint_array,\n",
    "    )"
   ]
  },
  {
   "cell_type": "markdown",
   "id": "6ab86761",
   "metadata": {},
   "source": [
    "[(n_trials_random,n_parallel_random),(_,n_parallel_systematic)] = ax_client.get_max_parallelism()\n",
    "print(n_parallel_random,n_parallel_systematic)"
   ]
  },
  {
   "cell_type": "markdown",
   "id": "e5db32ea",
   "metadata": {},
   "source": [
    "#Run the optimization in parallel\n",
    "import copy\n",
    "import csv\n",
    "\n",
    "from joblib import Parallel, delayed\n",
    "plt.ion()\n",
    "\n",
    "arr_pop=[]\n",
    "\n",
    "def evaluate_trial(ax_client,parameters,trial_index,Ns,passes):\n",
    "    rabi_det_array = [(parameters[f\"omega{i}\"],parameters[f\"det{i}\"]) for i in range(len(current_field))]\n",
    "    Omega_z_1 = parameters['Omega_z_1']\n",
    "    Omega_x_1 = parameters['Omega_x_1']\n",
    "    Omega_z_2 = parameters['Omega_z_2']\n",
    "    Omega_x_2 = parameters['Omega_x_2']\n",
    "    pop = r22(rabi_det_array,Ns,Omega_z_1,Omega_x_1,Omega_z_2,Omega_x_2,passes=passes)\n",
    "    \n",
    "    ax_client.complete_trial(\n",
    "        trial_index = trial_index,\n",
    "        raw_data = pop,\n",
    "        )\n",
    "    \n",
    "    return pop,rabi_det_array, (Omega_z_1,Omega_x_1,Omega_z_2,Omega_x_2)\n",
    "\n",
    "passes = 1\n",
    "\n",
    "fname = f\"./Bz_variation/XZ_rabi_det_N1_0_Bz_{Bz}_tsigma_{tsigma}_passes_{passes}.csv\"\n",
    "\n",
    "# For the initial random search\n",
    "num_trials = n_parallel_random\n",
    "with open(fname,'w') as file2write:\n",
    "    file2write.write(\"Pop, (rabi, det) for the fields\\n\")\n",
    "    file2write.write(\"transitions_Z :\"+str(transitions_Z)+\"\\n\")\n",
    "    file2write.write(\"transitions_X :\"+str(transitions_X)+\"\\n\")\n",
    "\n",
    "    n_jobs = 8\n",
    "\n",
    "    for it in range(int(num_trials/n_jobs)):\n",
    "\n",
    "        #Generate all the trials\n",
    "        trials = [ax_client.get_next_trial() for _ in range(n_jobs)]\n",
    "\n",
    "        #Run the trials in parallel\n",
    "        results = Parallel(n_jobs = n_jobs)(\n",
    "                delayed(evaluate_trial)(ax_client,parameters,trial_index,Ns,passes)\n",
    "                for parameters,trial_index in trials)\n",
    "        for pop,rabi_det_array,omega_values in results:\n",
    "            # Write results to the file\n",
    "            array_to_write = copy.deepcopy(rabi_det_array)\n",
    "            array_to_write.insert(0, pop)\n",
    "            array_to_write.append(omega_values)\n",
    "            file2write.write(str(array_to_write) + '\\n')\n",
    "            \n",
    "            # Append population for plotting and update the plot\n",
    "            arr_pop.append(pop)\n",
    "            plt.plot(arr_pop, 'o-r')\n",
    "            plt.pause(0.01)\n",
    "            \n",
    "            print(\"------------------------------------------------------------------------------\")\n",
    "\"\"\"\n",
    "# For the initial random search\n",
    "num_bayesian_trials = 600\n",
    "with open(fname,'a') as file2write:\n",
    "    #file2write.write(\"Pop, (rabi, det) for the fields\\n\")\n",
    "    #file2write.write(\"transitions_Z :\"+str(transitions_Z)+\"\\n\")\n",
    "    #file2write.write(\"transitions_X :\"+str(transitions_X)+\"\\n\")\n",
    "    for it in range(num_bayesian_trials):\n",
    "        parameters,trial_index = ax_client.get_next_trial() #parameters is returned as a dict with kets omega{i} and det{i}\n",
    "        rabi_det_array = [(parameters[f\"omega{i}\"],parameters[f\"det{i}\"]) for i in range(len(current_field))]\n",
    "        Omega_z_1 = parameters['Omega_z_1']\n",
    "        Omega_x_1 = parameters['Omega_x_1']\n",
    "        Omega_z_2 = parameters['Omega_z_2']\n",
    "        Omega_x_2 = parameters['Omega_x_2']\n",
    "\n",
    "        pop = r22(rabi_det_array,Ns,Omega_z_1,Omega_x_1,Omega_z_2,Omega_x_2,passes=passes)\n",
    "        \n",
    "        ax_client.complete_trial(\n",
    "            trial_index = trial_index,\n",
    "            raw_data = pop,\n",
    "            )\n",
    "\n",
    "        array_to_write = copy.deepcopy(rabi_det_array)\n",
    "        array_to_write.insert(0,pop)\n",
    "        array_to_write.append((Omega_z_1,Omega_x_1,Omega_z_2,Omega_x_2))\n",
    "        \n",
    "        #print(pop)\n",
    "        file2write.write(str(array_to_write)+'\\n')\n",
    "        print(\"------------------------------------------------------------------------------\")\n",
    "        arr_pop.append(pop)\n",
    "        plt.plot(arr_pop,'o-r')\n",
    "        plt.pause(0.01)\n",
    "\"\"\"    "
   ]
  },
  {
   "cell_type": "markdown",
   "id": "ab131c45-72b9-4a1d-88a2-cec917ebe984",
   "metadata": {},
   "source": [
    "import copy\n",
    "plt.ion()\n",
    "\n",
    "arr_pop=[]\n",
    "\n",
    "start = time.time()\n",
    "import csv\n",
    "passes = 1\n",
    "fname = f\"./Bz_variation/XZ_rabi_det_N1_0_Bz_{Bz}_tsigma_{tsigma}_passes_{passes}.csv\"\n",
    "with open(fname,'w') as file2write:\n",
    "    file2write.write(\"Pop, (rabi, det) for the fields\\n\")\n",
    "    file2write.write(\"transitions_Z :\"+str(transitions_Z)+\"\\n\")\n",
    "    file2write.write(\"transitions_X :\"+str(transitions_X)+\"\\n\")\n",
    "    for it in range(1000):\n",
    "        parameters,trial_index = ax_client.get_next_trial() #parameters is returned as a dict with kets omega{i} and det{i}\n",
    "        rabi_det_array = [(parameters[f\"omega{i}\"],parameters[f\"det{i}\"]) for i in range(len(current_field))]\n",
    "        Omega_z_1 = parameters['Omega_z_1']\n",
    "        Omega_x_1 = parameters['Omega_x_1']\n",
    "        Omega_z_2 = parameters['Omega_z_2']\n",
    "        Omega_x_2 = parameters['Omega_x_2']\n",
    "\n",
    "        pop = r22(rabi_det_array,Ns,Omega_z_1,Omega_x_1,Omega_z_2,Omega_x_2,passes=passes)\n",
    "        \n",
    "        ax_client.complete_trial(\n",
    "            trial_index = trial_index,\n",
    "            raw_data = pop,\n",
    "            )\n",
    "\n",
    "        array_to_write = copy.deepcopy(rabi_det_array)\n",
    "        array_to_write.insert(0,pop)\n",
    "        array_to_write.append((Omega_z_1,Omega_x_1,Omega_z_2,Omega_x_2))\n",
    "        \n",
    "        #print(pop)\n",
    "        file2write.write(str(array_to_write)+'\\n')\n",
    "        print(\"------------------------------------------------------------------------------\")\n",
    "        arr_pop.append(pop)\n",
    "        plt.plot(arr_pop,'o-r')\n",
    "        plt.pause(0.01)\n",
    "stop = time.time()\n",
    "print(f\"Execution took {stop-start} s.\")"
   ]
  },
  {
   "cell_type": "markdown",
   "id": "b7e0563c-6e0c-4fff-b537-25136fc3c17b",
   "metadata": {
    "scrolled": true
   },
   "source": [
    "import copy\n",
    "plt.ion()\n",
    "\n",
    "arr_pop=[]\n",
    "\n",
    "start = time.time()\n",
    "import csv\n",
    "passes = 3\n",
    "fname = f\"./Bz_variation/XZ_rabi_det_N0_Bz_{Bz}_tsigma_{tsigma}_passes_{passes}.csv\"\n",
    "with open(fname,'w') as file2write:\n",
    "    file2write.write(\"Pop, (rabi, det) for the fields\\n\")\n",
    "    file2write.write(\"transitions_Z :\"+str(transitions_Z)+\"\\n\")\n",
    "    file2write.write(\"transitions_X :\"+str(transitions_X)+\"\\n\")\n",
    "    for it in range(1000):\n",
    "        parameters,trial_index = ax_client.get_next_trial() #parameters is returned as a dict with kets omega{i} and det{i}\n",
    "        rabi_det_array = [(parameters[f\"omega{i}\"],parameters[f\"det{i}\"]) for i in range(len(current_field))]\n",
    "        Omega_z_1 = parameters['Omega_z_1']\n",
    "        Omega_x_1 = parameters['Omega_x_1']\n",
    "        Omega_z_2 = parameters['Omega_z_2']\n",
    "        Omega_x_2 = parameters['Omega_x_2']\n",
    "        pop = r22(rabi_det_array,Ns,Omega_z_1,Omega_x_1,Omega_z_2,Omega_x_2,passes=passes)\n",
    "        \n",
    "        ax_client.complete_trial(\n",
    "            trial_index = trial_index,\n",
    "            raw_data = pop,\n",
    "            )\n",
    "\n",
    "        array_to_write = copy.deepcopy(rabi_det_array)\n",
    "        array_to_write.insert(0,pop)\n",
    "        array_to_write.append((Omega_z_1,Omega_x_1,Omega_z_2,Omega_x_2))\n",
    "        \n",
    "        #print(pop)\n",
    "        file2write.write(str(array_to_write)+'\\n')\n",
    "        print(\"------------------------------------------------------------------------------\")\n",
    "        arr_pop.append(pop)\n",
    "        plt.plot(arr_pop,'o-r')\n",
    "        plt.pause(0.01)\n",
    "stop = time.time()\n",
    "print(f\"Execution took {stop-start} s.\")"
   ]
  },
  {
   "cell_type": "code",
   "execution_count": 22,
   "id": "4c1afe9f-bf44-4548-8305-2782bb409250",
   "metadata": {},
   "outputs": [],
   "source": [
    "Bz = 15.0\n",
    "passes=1\n",
    "t_sigma = 8.192/4\n",
    "fname = f\"./Bz_variation/dontdelete.csv\"\n",
    "f=open(fname)\n",
    "plot_list=[]\n",
    "param_list = []\n",
    "for i,line in enumerate(f):\n",
    "    if i<3:\n",
    "        continue\n",
    "    mylist = eval(line)\n",
    "    output_val = mylist.pop(0)\n",
    "    plot_list.append(output_val)\n",
    "    #print(mylist)\n",
    "    my_dict = {}\n",
    "    for j,item in enumerate(mylist):\n",
    "        if j == len(mylist)-1:\n",
    "            my_dict['Omega_z_1'] = item[0]\n",
    "            my_dict['Omega_x_1'] = item[1]\n",
    "            my_dict['Omega_z_2'] = item[2]\n",
    "            my_dict['Omega_x_2'] = item[3]\n",
    "        else:\n",
    "\n",
    "            my_dict[f'omega{j}'] = item[0]\n",
    "            my_dict[f'det{j}'] = item[1]\n",
    "    param_list.append(my_dict)\n",
    "    \n",
    "    \n"
   ]
  },
  {
   "cell_type": "code",
   "execution_count": 27,
   "id": "b68262c6",
   "metadata": {},
   "outputs": [
    {
     "name": "stderr",
     "output_type": "stream",
     "text": [
      "[INFO 11-17 17:43:26] ax.service.ax_client: Starting optimization with verbose logging. To disable logging, set the `verbose_logging` argument to `False`. Note that float values in the logs are rounded to 6 decimal points.\n",
      "[INFO 11-17 17:43:26] ax.service.utils.instantiation: Created search space: SearchSpace(parameters=[RangeParameter(name='omega0', parameter_type=FLOAT, range=[0.0, 10.0]), ChoiceParameter(name='det0', parameter_type=FLOAT, values=[-15.0, -14.8, -14.6, -14.4, -14.2, -14.0, -13.8, -13.6, -13.4, -13.2, -13.0, -12.8, -12.6, -12.4, -12.2, -12.0, -11.8, -11.6, -11.4, -11.2, -11.0, -10.8, -10.6, -10.4, -10.2, -10.0, -9.8, -9.6, -9.4, -9.2, -9.0, -8.8, -8.6, -8.4, -8.2, -8.0, -7.8, -7.6, -7.4, -7.2, -7.0, -6.8, -6.6, -6.4, -6.2, -6.0, -5.8, -5.6, -5.4, -5.2, -5.0, -4.8, -4.6, -4.4, -4.2, -4.0, -3.8, -3.6, -3.4, -3.2, -3.0, -2.8, -2.6, -2.4, -2.2, -2.0, -1.8, -1.6, -1.4, -1.2, -1.0, -0.8, -0.6, -0.4, -0.2, -0.0, 0.2, 0.4, 0.6, 0.8, 1.0, 1.2, 1.4, 1.6, 1.8, 2.0, 2.2, 2.4, 2.6, 2.8, 3.0, 3.2, 3.4, 3.6, 3.8, 4.0, 4.2, 4.4, 4.6, 4.8, 5.0, 5.2, 5.4, 5.6, 5.8, 6.0, 6.2, 6.4, 6.6, 6.8, 7.0, 7.2, 7.4, 7.6, 7.8, 8.0, 8.2, 8.4, 8.6, 8.8, 9.0, 9.2, 9.4, 9.6, 9.8, 10.0, 10.2, 10.4, 10.6, 10.8, 11.0, 11.2, 11.4, 11.6, 11.8, 12.0, 12.2, 12.4, 12.6, 12.8, 13.0, 13.2, 13.4, 13.6, 13.8, 14.0, 14.2, 14.4, 14.6, 14.8], is_ordered=True, sort_values=True), RangeParameter(name='omega1', parameter_type=FLOAT, range=[0.0, 10.0]), ChoiceParameter(name='det1', parameter_type=FLOAT, values=[-15.0, -14.8, -14.6, -14.4, -14.2, -14.0, -13.8, -13.6, -13.4, -13.2, -13.0, -12.8, -12.6, -12.4, -12.2, -12.0, -11.8, -11.6, -11.4, -11.2, -11.0, -10.8, -10.6, -10.4, -10.2, -10.0, -9.8, -9.6, -9.4, -9.2, -9.0, -8.8, -8.6, -8.4, -8.2, -8.0, -7.8, -7.6, -7.4, -7.2, -7.0, -6.8, -6.6, -6.4, -6.2, -6.0, -5.8, -5.6, -5.4, -5.2, -5.0, -4.8, -4.6, -4.4, -4.2, -4.0, -3.8, -3.6, -3.4, -3.2, -3.0, -2.8, -2.6, -2.4, -2.2, -2.0, -1.8, -1.6, -1.4, -1.2, -1.0, -0.8, -0.6, -0.4, -0.2, -0.0, 0.2, 0.4, 0.6, 0.8, 1.0, 1.2, 1.4, 1.6, 1.8, 2.0, 2.2, 2.4, 2.6, 2.8, 3.0, 3.2, 3.4, 3.6, 3.8, 4.0, 4.2, 4.4, 4.6, 4.8, 5.0, 5.2, 5.4, 5.6, 5.8, 6.0, 6.2, 6.4, 6.6, 6.8, 7.0, 7.2, 7.4, 7.6, 7.8, 8.0, 8.2, 8.4, 8.6, 8.8, 9.0, 9.2, 9.4, 9.6, 9.8, 10.0, 10.2, 10.4, 10.6, 10.8, 11.0, 11.2, 11.4, 11.6, 11.8, 12.0, 12.2, 12.4, 12.6, 12.8, 13.0, 13.2, 13.4, 13.6, 13.8, 14.0, 14.2, 14.4, 14.6, 14.8], is_ordered=True, sort_values=True), RangeParameter(name='omega2', parameter_type=FLOAT, range=[0.0, 10.0]), ChoiceParameter(name='det2', parameter_type=FLOAT, values=[-15.0, -14.8, -14.6, -14.4, -14.2, -14.0, -13.8, -13.6, -13.4, -13.2, -13.0, -12.8, -12.6, -12.4, -12.2, -12.0, -11.8, -11.6, -11.4, -11.2, -11.0, -10.8, -10.6, -10.4, -10.2, -10.0, -9.8, -9.6, -9.4, -9.2, -9.0, -8.8, -8.6, -8.4, -8.2, -8.0, -7.8, -7.6, -7.4, -7.2, -7.0, -6.8, -6.6, -6.4, -6.2, -6.0, -5.8, -5.6, -5.4, -5.2, -5.0, -4.8, -4.6, -4.4, -4.2, -4.0, -3.8, -3.6, -3.4, -3.2, -3.0, -2.8, -2.6, -2.4, -2.2, -2.0, -1.8, -1.6, -1.4, -1.2, -1.0, -0.8, -0.6, -0.4, -0.2, -0.0, 0.2, 0.4, 0.6, 0.8, 1.0, 1.2, 1.4, 1.6, 1.8, 2.0, 2.2, 2.4, 2.6, 2.8, 3.0, 3.2, 3.4, 3.6, 3.8, 4.0, 4.2, 4.4, 4.6, 4.8, 5.0, 5.2, 5.4, 5.6, 5.8, 6.0, 6.2, 6.4, 6.6, 6.8, 7.0, 7.2, 7.4, 7.6, 7.8, 8.0, 8.2, 8.4, 8.6, 8.8, 9.0, 9.2, 9.4, 9.6, 9.8, 10.0, 10.2, 10.4, 10.6, 10.8, 11.0, 11.2, 11.4, 11.6, 11.8, 12.0, 12.2, 12.4, 12.6, 12.8, 13.0, 13.2, 13.4, 13.6, 13.8, 14.0, 14.2, 14.4, 14.6, 14.8], is_ordered=True, sort_values=True), RangeParameter(name='omega3', parameter_type=FLOAT, range=[0.0, 10.0]), ChoiceParameter(name='det3', parameter_type=FLOAT, values=[-15.0, -14.8, -14.6, -14.4, -14.2, -14.0, -13.8, -13.6, -13.4, -13.2, -13.0, -12.8, -12.6, -12.4, -12.2, -12.0, -11.8, -11.6, -11.4, -11.2, -11.0, -10.8, -10.6, -10.4, -10.2, -10.0, -9.8, -9.6, -9.4, -9.2, -9.0, -8.8, -8.6, -8.4, -8.2, -8.0, -7.8, -7.6, -7.4, -7.2, -7.0, -6.8, -6.6, -6.4, -6.2, -6.0, -5.8, -5.6, -5.4, -5.2, -5.0, -4.8, -4.6, -4.4, -4.2, -4.0, -3.8, -3.6, -3.4, -3.2, -3.0, -2.8, -2.6, -2.4, -2.2, -2.0, -1.8, -1.6, -1.4, -1.2, -1.0, -0.8, -0.6, -0.4, -0.2, -0.0, 0.2, 0.4, 0.6, 0.8, 1.0, 1.2, 1.4, 1.6, 1.8, 2.0, 2.2, 2.4, 2.6, 2.8, 3.0, 3.2, 3.4, 3.6, 3.8, 4.0, 4.2, 4.4, 4.6, 4.8, 5.0, 5.2, 5.4, 5.6, 5.8, 6.0, 6.2, 6.4, 6.6, 6.8, 7.0, 7.2, 7.4, 7.6, 7.8, 8.0, 8.2, 8.4, 8.6, 8.8, 9.0, 9.2, 9.4, 9.6, 9.8, 10.0, 10.2, 10.4, 10.6, 10.8, 11.0, 11.2, 11.4, 11.6, 11.8, 12.0, 12.2, 12.4, 12.6, 12.8, 13.0, 13.2, 13.4, 13.6, 13.8, 14.0, 14.2, 14.4, 14.6, 14.8], is_ordered=True, sort_values=True), RangeParameter(name='omega4', parameter_type=FLOAT, range=[0.0, 10.0]), ChoiceParameter(name='det4', parameter_type=FLOAT, values=[-15.0, -14.8, -14.6, -14.4, -14.2, -14.0, -13.8, -13.6, -13.4, -13.2, -13.0, -12.8, -12.6, -12.4, -12.2, -12.0, -11.8, -11.6, -11.4, -11.2, -11.0, -10.8, -10.6, -10.4, -10.2, -10.0, -9.8, -9.6, -9.4, -9.2, -9.0, -8.8, -8.6, -8.4, -8.2, -8.0, -7.8, -7.6, -7.4, -7.2, -7.0, -6.8, -6.6, -6.4, -6.2, -6.0, -5.8, -5.6, -5.4, -5.2, -5.0, -4.8, -4.6, -4.4, -4.2, -4.0, -3.8, -3.6, -3.4, -3.2, -3.0, -2.8, -2.6, -2.4, -2.2, -2.0, -1.8, -1.6, -1.4, -1.2, -1.0, -0.8, -0.6, -0.4, -0.2, -0.0, 0.2, 0.4, 0.6, 0.8, 1.0, 1.2, 1.4, 1.6, 1.8, 2.0, 2.2, 2.4, 2.6, 2.8, 3.0, 3.2, 3.4, 3.6, 3.8, 4.0, 4.2, 4.4, 4.6, 4.8, 5.0, 5.2, 5.4, 5.6, 5.8, 6.0, 6.2, 6.4, 6.6, 6.8, 7.0, 7.2, 7.4, 7.6, 7.8, 8.0, 8.2, 8.4, 8.6, 8.8, 9.0, 9.2, 9.4, 9.6, 9.8, 10.0, 10.2, 10.4, 10.6, 10.8, 11.0, 11.2, 11.4, 11.6, 11.8, 12.0, 12.2, 12.4, 12.6, 12.8, 13.0, 13.2, 13.4, 13.6, 13.8, 14.0, 14.2, 14.4, 14.6, 14.8], is_ordered=True, sort_values=True), RangeParameter(name='omega5', parameter_type=FLOAT, range=[0.0, 10.0]), ChoiceParameter(name='det5', parameter_type=FLOAT, values=[-15.0, -14.8, -14.6, -14.4, -14.2, -14.0, -13.8, -13.6, -13.4, -13.2, -13.0, -12.8, -12.6, -12.4, -12.2, -12.0, -11.8, -11.6, -11.4, -11.2, -11.0, -10.8, -10.6, -10.4, -10.2, -10.0, -9.8, -9.6, -9.4, -9.2, -9.0, -8.8, -8.6, -8.4, -8.2, -8.0, -7.8, -7.6, -7.4, -7.2, -7.0, -6.8, -6.6, -6.4, -6.2, -6.0, -5.8, -5.6, -5.4, -5.2, -5.0, -4.8, -4.6, -4.4, -4.2, -4.0, -3.8, -3.6, -3.4, -3.2, -3.0, -2.8, -2.6, -2.4, -2.2, -2.0, -1.8, -1.6, -1.4, -1.2, -1.0, -0.8, -0.6, -0.4, -0.2, -0.0, 0.2, 0.4, 0.6, 0.8, 1.0, 1.2, 1.4, 1.6, 1.8, 2.0, 2.2, 2.4, 2.6, 2.8, 3.0, 3.2, 3.4, 3.6, 3.8, 4.0, 4.2, 4.4, 4.6, 4.8, 5.0, 5.2, 5.4, 5.6, 5.8, 6.0, 6.2, 6.4, 6.6, 6.8, 7.0, 7.2, 7.4, 7.6, 7.8, 8.0, 8.2, 8.4, 8.6, 8.8, 9.0, 9.2, 9.4, 9.6, 9.8, 10.0, 10.2, 10.4, 10.6, 10.8, 11.0, 11.2, 11.4, 11.6, 11.8, 12.0, 12.2, 12.4, 12.6, 12.8, 13.0, 13.2, 13.4, 13.6, 13.8, 14.0, 14.2, 14.4, 14.6, 14.8], is_ordered=True, sort_values=True), RangeParameter(name='omega6', parameter_type=FLOAT, range=[0.0, 10.0]), ChoiceParameter(name='det6', parameter_type=FLOAT, values=[-15.0, -14.8, -14.6, -14.4, -14.2, -14.0, -13.8, -13.6, -13.4, -13.2, -13.0, -12.8, -12.6, -12.4, -12.2, -12.0, -11.8, -11.6, -11.4, -11.2, -11.0, -10.8, -10.6, -10.4, -10.2, -10.0, -9.8, -9.6, -9.4, -9.2, -9.0, -8.8, -8.6, -8.4, -8.2, -8.0, -7.8, -7.6, -7.4, -7.2, -7.0, -6.8, -6.6, -6.4, -6.2, -6.0, -5.8, -5.6, -5.4, -5.2, -5.0, -4.8, -4.6, -4.4, -4.2, -4.0, -3.8, -3.6, -3.4, -3.2, -3.0, -2.8, -2.6, -2.4, -2.2, -2.0, -1.8, -1.6, -1.4, -1.2, -1.0, -0.8, -0.6, -0.4, -0.2, -0.0, 0.2, 0.4, 0.6, 0.8, 1.0, 1.2, 1.4, 1.6, 1.8, 2.0, 2.2, 2.4, 2.6, 2.8, 3.0, 3.2, 3.4, 3.6, 3.8, 4.0, 4.2, 4.4, 4.6, 4.8, 5.0, 5.2, 5.4, 5.6, 5.8, 6.0, 6.2, 6.4, 6.6, 6.8, 7.0, 7.2, 7.4, 7.6, 7.8, 8.0, 8.2, 8.4, 8.6, 8.8, 9.0, 9.2, 9.4, 9.6, 9.8, 10.0, 10.2, 10.4, 10.6, 10.8, 11.0, 11.2, 11.4, 11.6, 11.8, 12.0, 12.2, 12.4, 12.6, 12.8, 13.0, 13.2, 13.4, 13.6, 13.8, 14.0, 14.2, 14.4, 14.6, 14.8], is_ordered=True, sort_values=True), RangeParameter(name='omega7', parameter_type=FLOAT, range=[0.0, 10.0]), ChoiceParameter(name='det7', parameter_type=FLOAT, values=[-15.0, -14.8, -14.6, -14.4, -14.2, -14.0, -13.8, -13.6, -13.4, -13.2, -13.0, -12.8, -12.6, -12.4, -12.2, -12.0, -11.8, -11.6, -11.4, -11.2, -11.0, -10.8, -10.6, -10.4, -10.2, -10.0, -9.8, -9.6, -9.4, -9.2, -9.0, -8.8, -8.6, -8.4, -8.2, -8.0, -7.8, -7.6, -7.4, -7.2, -7.0, -6.8, -6.6, -6.4, -6.2, -6.0, -5.8, -5.6, -5.4, -5.2, -5.0, -4.8, -4.6, -4.4, -4.2, -4.0, -3.8, -3.6, -3.4, -3.2, -3.0, -2.8, -2.6, -2.4, -2.2, -2.0, -1.8, -1.6, -1.4, -1.2, -1.0, -0.8, -0.6, -0.4, -0.2, -0.0, 0.2, 0.4, 0.6, 0.8, 1.0, 1.2, 1.4, 1.6, 1.8, 2.0, 2.2, 2.4, 2.6, 2.8, 3.0, 3.2, 3.4, 3.6, 3.8, 4.0, 4.2, 4.4, 4.6, 4.8, 5.0, 5.2, 5.4, 5.6, 5.8, 6.0, 6.2, 6.4, 6.6, 6.8, 7.0, 7.2, 7.4, 7.6, 7.8, 8.0, 8.2, 8.4, 8.6, 8.8, 9.0, 9.2, 9.4, 9.6, 9.8, 10.0, 10.2, 10.4, 10.6, 10.8, 11.0, 11.2, 11.4, 11.6, 11.8, 12.0, 12.2, 12.4, 12.6, 12.8, 13.0, 13.2, 13.4, 13.6, 13.8, 14.0, 14.2, 14.4, 14.6, 14.8], is_ordered=True, sort_values=True), RangeParameter(name='omega8', parameter_type=FLOAT, range=[0.0, 10.0]), ChoiceParameter(name='det8', parameter_type=FLOAT, values=[-15.0, -14.8, -14.6, -14.4, -14.2, -14.0, -13.8, -13.6, -13.4, -13.2, -13.0, -12.8, -12.6, -12.4, -12.2, -12.0, -11.8, -11.6, -11.4, -11.2, -11.0, -10.8, -10.6, -10.4, -10.2, -10.0, -9.8, -9.6, -9.4, -9.2, -9.0, -8.8, -8.6, -8.4, -8.2, -8.0, -7.8, -7.6, -7.4, -7.2, -7.0, -6.8, -6.6, -6.4, -6.2, -6.0, -5.8, -5.6, -5.4, -5.2, -5.0, -4.8, -4.6, -4.4, -4.2, -4.0, -3.8, -3.6, -3.4, -3.2, -3.0, -2.8, -2.6, -2.4, -2.2, -2.0, -1.8, -1.6, -1.4, -1.2, -1.0, -0.8, -0.6, -0.4, -0.2, -0.0, 0.2, 0.4, 0.6, 0.8, 1.0, 1.2, 1.4, 1.6, 1.8, 2.0, 2.2, 2.4, 2.6, 2.8, 3.0, 3.2, 3.4, 3.6, 3.8, 4.0, 4.2, 4.4, 4.6, 4.8, 5.0, 5.2, 5.4, 5.6, 5.8, 6.0, 6.2, 6.4, 6.6, 6.8, 7.0, 7.2, 7.4, 7.6, 7.8, 8.0, 8.2, 8.4, 8.6, 8.8, 9.0, 9.2, 9.4, 9.6, 9.8, 10.0, 10.2, 10.4, 10.6, 10.8, 11.0, 11.2, 11.4, 11.6, 11.8, 12.0, 12.2, 12.4, 12.6, 12.8, 13.0, 13.2, 13.4, 13.6, 13.8, 14.0, 14.2, 14.4, 14.6, 14.8], is_ordered=True, sort_values=True), RangeParameter(name='omega9', parameter_type=FLOAT, range=[0.0, 10.0]), ChoiceParameter(name='det9', parameter_type=FLOAT, values=[-15.0, -14.8, -14.6, -14.4, -14.2, -14.0, -13.8, -13.6, -13.4, -13.2, -13.0, -12.8, -12.6, -12.4, -12.2, -12.0, -11.8, -11.6, -11.4, -11.2, -11.0, -10.8, -10.6, -10.4, -10.2, -10.0, -9.8, -9.6, -9.4, -9.2, -9.0, -8.8, -8.6, -8.4, -8.2, -8.0, -7.8, -7.6, -7.4, -7.2, -7.0, -6.8, -6.6, -6.4, -6.2, -6.0, -5.8, -5.6, -5.4, -5.2, -5.0, -4.8, -4.6, -4.4, -4.2, -4.0, -3.8, -3.6, -3.4, -3.2, -3.0, -2.8, -2.6, -2.4, -2.2, -2.0, -1.8, -1.6, -1.4, -1.2, -1.0, -0.8, -0.6, -0.4, -0.2, -0.0, 0.2, 0.4, 0.6, 0.8, 1.0, 1.2, 1.4, 1.6, 1.8, 2.0, 2.2, 2.4, 2.6, 2.8, 3.0, 3.2, 3.4, 3.6, 3.8, 4.0, 4.2, 4.4, 4.6, 4.8, 5.0, 5.2, 5.4, 5.6, 5.8, 6.0, 6.2, 6.4, 6.6, 6.8, 7.0, 7.2, 7.4, 7.6, 7.8, 8.0, 8.2, 8.4, 8.6, 8.8, 9.0, 9.2, 9.4, 9.6, 9.8, 10.0, 10.2, 10.4, 10.6, 10.8, 11.0, 11.2, 11.4, 11.6, 11.8, 12.0, 12.2, 12.4, 12.6, 12.8, 13.0, 13.2, 13.4, 13.6, 13.8, 14.0, 14.2, 14.4, 14.6, 14.8], is_ordered=True, sort_values=True), RangeParameter(name='omega10', parameter_type=FLOAT, range=[0.0, 10.0]), ChoiceParameter(name='det10', parameter_type=FLOAT, values=[-15.0, -14.8, -14.6, -14.4, -14.2, -14.0, -13.8, -13.6, -13.4, -13.2, -13.0, -12.8, -12.6, -12.4, -12.2, -12.0, -11.8, -11.6, -11.4, -11.2, -11.0, -10.8, -10.6, -10.4, -10.2, -10.0, -9.8, -9.6, -9.4, -9.2, -9.0, -8.8, -8.6, -8.4, -8.2, -8.0, -7.8, -7.6, -7.4, -7.2, -7.0, -6.8, -6.6, -6.4, -6.2, -6.0, -5.8, -5.6, -5.4, -5.2, -5.0, -4.8, -4.6, -4.4, -4.2, -4.0, -3.8, -3.6, -3.4, -3.2, -3.0, -2.8, -2.6, -2.4, -2.2, -2.0, -1.8, -1.6, -1.4, -1.2, -1.0, -0.8, -0.6, -0.4, -0.2, -0.0, 0.2, 0.4, 0.6, 0.8, 1.0, 1.2, 1.4, 1.6, 1.8, 2.0, 2.2, 2.4, 2.6, 2.8, 3.0, 3.2, 3.4, 3.6, 3.8, 4.0, 4.2, 4.4, 4.6, 4.8, 5.0, 5.2, 5.4, 5.6, 5.8, 6.0, 6.2, 6.4, 6.6, 6.8, 7.0, 7.2, 7.4, 7.6, 7.8, 8.0, 8.2, 8.4, 8.6, 8.8, 9.0, 9.2, 9.4, 9.6, 9.8, 10.0, 10.2, 10.4, 10.6, 10.8, 11.0, 11.2, 11.4, 11.6, 11.8, 12.0, 12.2, 12.4, 12.6, 12.8, 13.0, 13.2, 13.4, 13.6, 13.8, 14.0, 14.2, 14.4, 14.6, 14.8], is_ordered=True, sort_values=True), RangeParameter(name='omega11', parameter_type=FLOAT, range=[0.0, 10.0]), ChoiceParameter(name='det11', parameter_type=FLOAT, values=[-15.0, -14.8, -14.6, -14.4, -14.2, -14.0, -13.8, -13.6, -13.4, -13.2, -13.0, -12.8, -12.6, -12.4, -12.2, -12.0, -11.8, -11.6, -11.4, -11.2, -11.0, -10.8, -10.6, -10.4, -10.2, -10.0, -9.8, -9.6, -9.4, -9.2, -9.0, -8.8, -8.6, -8.4, -8.2, -8.0, -7.8, -7.6, -7.4, -7.2, -7.0, -6.8, -6.6, -6.4, -6.2, -6.0, -5.8, -5.6, -5.4, -5.2, -5.0, -4.8, -4.6, -4.4, -4.2, -4.0, -3.8, -3.6, -3.4, -3.2, -3.0, -2.8, -2.6, -2.4, -2.2, -2.0, -1.8, -1.6, -1.4, -1.2, -1.0, -0.8, -0.6, -0.4, -0.2, -0.0, 0.2, 0.4, 0.6, 0.8, 1.0, 1.2, 1.4, 1.6, 1.8, 2.0, 2.2, 2.4, 2.6, 2.8, 3.0, 3.2, 3.4, 3.6, 3.8, 4.0, 4.2, 4.4, 4.6, 4.8, 5.0, 5.2, 5.4, 5.6, 5.8, 6.0, 6.2, 6.4, 6.6, 6.8, 7.0, 7.2, 7.4, 7.6, 7.8, 8.0, 8.2, 8.4, 8.6, 8.8, 9.0, 9.2, 9.4, 9.6, 9.8, 10.0, 10.2, 10.4, 10.6, 10.8, 11.0, 11.2, 11.4, 11.6, 11.8, 12.0, 12.2, 12.4, 12.6, 12.8, 13.0, 13.2, 13.4, 13.6, 13.8, 14.0, 14.2, 14.4, 14.6, 14.8], is_ordered=True, sort_values=True), RangeParameter(name='omega12', parameter_type=FLOAT, range=[0.0, 10.0]), ChoiceParameter(name='det12', parameter_type=FLOAT, values=[-15.0, -14.8, -14.6, -14.4, -14.2, -14.0, -13.8, -13.6, -13.4, -13.2, -13.0, -12.8, -12.6, -12.4, -12.2, -12.0, -11.8, -11.6, -11.4, -11.2, -11.0, -10.8, -10.6, -10.4, -10.2, -10.0, -9.8, -9.6, -9.4, -9.2, -9.0, -8.8, -8.6, -8.4, -8.2, -8.0, -7.8, -7.6, -7.4, -7.2, -7.0, -6.8, -6.6, -6.4, -6.2, -6.0, -5.8, -5.6, -5.4, -5.2, -5.0, -4.8, -4.6, -4.4, -4.2, -4.0, -3.8, -3.6, -3.4, -3.2, -3.0, -2.8, -2.6, -2.4, -2.2, -2.0, -1.8, -1.6, -1.4, -1.2, -1.0, -0.8, -0.6, -0.4, -0.2, -0.0, 0.2, 0.4, 0.6, 0.8, 1.0, 1.2, 1.4, 1.6, 1.8, 2.0, 2.2, 2.4, 2.6, 2.8, 3.0, 3.2, 3.4, 3.6, 3.8, 4.0, 4.2, 4.4, 4.6, 4.8, 5.0, 5.2, 5.4, 5.6, 5.8, 6.0, 6.2, 6.4, 6.6, 6.8, 7.0, 7.2, 7.4, 7.6, 7.8, 8.0, 8.2, 8.4, 8.6, 8.8, 9.0, 9.2, 9.4, 9.6, 9.8, 10.0, 10.2, 10.4, 10.6, 10.8, 11.0, 11.2, 11.4, 11.6, 11.8, 12.0, 12.2, 12.4, 12.6, 12.8, 13.0, 13.2, 13.4, 13.6, 13.8, 14.0, 14.2, 14.4, 14.6, 14.8], is_ordered=True, sort_values=True), RangeParameter(name='omega13', parameter_type=FLOAT, range=[0.0, 10.0]), ChoiceParameter(name='det13', parameter_type=FLOAT, values=[-15.0, -14.8, -14.6, -14.4, -14.2, -14.0, -13.8, -13.6, -13.4, -13.2, -13.0, -12.8, -12.6, -12.4, -12.2, -12.0, -11.8, -11.6, -11.4, -11.2, -11.0, -10.8, -10.6, -10.4, -10.2, -10.0, -9.8, -9.6, -9.4, -9.2, -9.0, -8.8, -8.6, -8.4, -8.2, -8.0, -7.8, -7.6, -7.4, -7.2, -7.0, -6.8, -6.6, -6.4, -6.2, -6.0, -5.8, -5.6, -5.4, -5.2, -5.0, -4.8, -4.6, -4.4, -4.2, -4.0, -3.8, -3.6, -3.4, -3.2, -3.0, -2.8, -2.6, -2.4, -2.2, -2.0, -1.8, -1.6, -1.4, -1.2, -1.0, -0.8, -0.6, -0.4, -0.2, -0.0, 0.2, 0.4, 0.6, 0.8, 1.0, 1.2, 1.4, 1.6, 1.8, 2.0, 2.2, 2.4, 2.6, 2.8, 3.0, 3.2, 3.4, 3.6, 3.8, 4.0, 4.2, 4.4, 4.6, 4.8, 5.0, 5.2, 5.4, 5.6, 5.8, 6.0, 6.2, 6.4, 6.6, 6.8, 7.0, 7.2, 7.4, 7.6, 7.8, 8.0, 8.2, 8.4, 8.6, 8.8, 9.0, 9.2, 9.4, 9.6, 9.8, 10.0, 10.2, 10.4, 10.6, 10.8, 11.0, 11.2, 11.4, 11.6, 11.8, 12.0, 12.2, 12.4, 12.6, 12.8, 13.0, 13.2, 13.4, 13.6, 13.8, 14.0, 14.2, 14.4, 14.6, 14.8], is_ordered=True, sort_values=True), RangeParameter(name='omega14', parameter_type=FLOAT, range=[0.0, 10.0]), ChoiceParameter(name='det14', parameter_type=FLOAT, values=[-15.0, -14.8, -14.6, -14.4, -14.2, -14.0, -13.8, -13.6, -13.4, -13.2, -13.0, -12.8, -12.6, -12.4, -12.2, -12.0, -11.8, -11.6, -11.4, -11.2, -11.0, -10.8, -10.6, -10.4, -10.2, -10.0, -9.8, -9.6, -9.4, -9.2, -9.0, -8.8, -8.6, -8.4, -8.2, -8.0, -7.8, -7.6, -7.4, -7.2, -7.0, -6.8, -6.6, -6.4, -6.2, -6.0, -5.8, -5.6, -5.4, -5.2, -5.0, -4.8, -4.6, -4.4, -4.2, -4.0, -3.8, -3.6, -3.4, -3.2, -3.0, -2.8, -2.6, -2.4, -2.2, -2.0, -1.8, -1.6, -1.4, -1.2, -1.0, -0.8, -0.6, -0.4, -0.2, -0.0, 0.2, 0.4, 0.6, 0.8, 1.0, 1.2, 1.4, 1.6, 1.8, 2.0, 2.2, 2.4, 2.6, 2.8, 3.0, 3.2, 3.4, 3.6, 3.8, 4.0, 4.2, 4.4, 4.6, 4.8, 5.0, 5.2, 5.4, 5.6, 5.8, 6.0, 6.2, 6.4, 6.6, 6.8, 7.0, 7.2, 7.4, 7.6, 7.8, 8.0, 8.2, 8.4, 8.6, 8.8, 9.0, 9.2, 9.4, 9.6, 9.8, 10.0, 10.2, 10.4, 10.6, 10.8, 11.0, 11.2, 11.4, 11.6, 11.8, 12.0, 12.2, 12.4, 12.6, 12.8, 13.0, 13.2, 13.4, 13.6, 13.8, 14.0, 14.2, 14.4, 14.6, 14.8], is_ordered=True, sort_values=True), RangeParameter(name='omega15', parameter_type=FLOAT, range=[0.0, 10.0]), ChoiceParameter(name='det15', parameter_type=FLOAT, values=[-15.0, -14.8, -14.6, -14.4, -14.2, -14.0, -13.8, -13.6, -13.4, -13.2, -13.0, -12.8, -12.6, -12.4, -12.2, -12.0, -11.8, -11.6, -11.4, -11.2, -11.0, -10.8, -10.6, -10.4, -10.2, -10.0, -9.8, -9.6, -9.4, -9.2, -9.0, -8.8, -8.6, -8.4, -8.2, -8.0, -7.8, -7.6, -7.4, -7.2, -7.0, -6.8, -6.6, -6.4, -6.2, -6.0, -5.8, -5.6, -5.4, -5.2, -5.0, -4.8, -4.6, -4.4, -4.2, -4.0, -3.8, -3.6, -3.4, -3.2, -3.0, -2.8, -2.6, -2.4, -2.2, -2.0, -1.8, -1.6, -1.4, -1.2, -1.0, -0.8, -0.6, -0.4, -0.2, -0.0, 0.2, 0.4, 0.6, 0.8, 1.0, 1.2, 1.4, 1.6, 1.8, 2.0, 2.2, 2.4, 2.6, 2.8, 3.0, 3.2, 3.4, 3.6, 3.8, 4.0, 4.2, 4.4, 4.6, 4.8, 5.0, 5.2, 5.4, 5.6, 5.8, 6.0, 6.2, 6.4, 6.6, 6.8, 7.0, 7.2, 7.4, 7.6, 7.8, 8.0, 8.2, 8.4, 8.6, 8.8, 9.0, 9.2, 9.4, 9.6, 9.8, 10.0, 10.2, 10.4, 10.6, 10.8, 11.0, 11.2, 11.4, 11.6, 11.8, 12.0, 12.2, 12.4, 12.6, 12.8, 13.0, 13.2, 13.4, 13.6, 13.8, 14.0, 14.2, 14.4, 14.6, 14.8], is_ordered=True, sort_values=True), RangeParameter(name='omega16', parameter_type=FLOAT, range=[0.0, 10.0]), ChoiceParameter(name='det16', parameter_type=FLOAT, values=[-15.0, -14.8, -14.6, -14.4, -14.2, -14.0, -13.8, -13.6, -13.4, -13.2, -13.0, -12.8, -12.6, -12.4, -12.2, -12.0, -11.8, -11.6, -11.4, -11.2, -11.0, -10.8, -10.6, -10.4, -10.2, -10.0, -9.8, -9.6, -9.4, -9.2, -9.0, -8.8, -8.6, -8.4, -8.2, -8.0, -7.8, -7.6, -7.4, -7.2, -7.0, -6.8, -6.6, -6.4, -6.2, -6.0, -5.8, -5.6, -5.4, -5.2, -5.0, -4.8, -4.6, -4.4, -4.2, -4.0, -3.8, -3.6, -3.4, -3.2, -3.0, -2.8, -2.6, -2.4, -2.2, -2.0, -1.8, -1.6, -1.4, -1.2, -1.0, -0.8, -0.6, -0.4, -0.2, -0.0, 0.2, 0.4, 0.6, 0.8, 1.0, 1.2, 1.4, 1.6, 1.8, 2.0, 2.2, 2.4, 2.6, 2.8, 3.0, 3.2, 3.4, 3.6, 3.8, 4.0, 4.2, 4.4, 4.6, 4.8, 5.0, 5.2, 5.4, 5.6, 5.8, 6.0, 6.2, 6.4, 6.6, 6.8, 7.0, 7.2, 7.4, 7.6, 7.8, 8.0, 8.2, 8.4, 8.6, 8.8, 9.0, 9.2, 9.4, 9.6, 9.8, 10.0, 10.2, 10.4, 10.6, 10.8, 11.0, 11.2, 11.4, 11.6, 11.8, 12.0, 12.2, 12.4, 12.6, 12.8, 13.0, 13.2, 13.4, 13.6, 13.8, 14.0, 14.2, 14.4, 14.6, 14.8], is_ordered=True, sort_values=True), RangeParameter(name='omega17', parameter_type=FLOAT, range=[0.0, 10.0]), ChoiceParameter(name='det17', parameter_type=FLOAT, values=[-15.0, -14.8, -14.6, -14.4, -14.2, -14.0, -13.8, -13.6, -13.4, -13.2, -13.0, -12.8, -12.6, -12.4, -12.2, -12.0, -11.8, -11.6, -11.4, -11.2, -11.0, -10.8, -10.6, -10.4, -10.2, -10.0, -9.8, -9.6, -9.4, -9.2, -9.0, -8.8, -8.6, -8.4, -8.2, -8.0, -7.8, -7.6, -7.4, -7.2, -7.0, -6.8, -6.6, -6.4, -6.2, -6.0, -5.8, -5.6, -5.4, -5.2, -5.0, -4.8, -4.6, -4.4, -4.2, -4.0, -3.8, -3.6, -3.4, -3.2, -3.0, -2.8, -2.6, -2.4, -2.2, -2.0, -1.8, -1.6, -1.4, -1.2, -1.0, -0.8, -0.6, -0.4, -0.2, -0.0, 0.2, 0.4, 0.6, 0.8, 1.0, 1.2, 1.4, 1.6, 1.8, 2.0, 2.2, 2.4, 2.6, 2.8, 3.0, 3.2, 3.4, 3.6, 3.8, 4.0, 4.2, 4.4, 4.6, 4.8, 5.0, 5.2, 5.4, 5.6, 5.8, 6.0, 6.2, 6.4, 6.6, 6.8, 7.0, 7.2, 7.4, 7.6, 7.8, 8.0, 8.2, 8.4, 8.6, 8.8, 9.0, 9.2, 9.4, 9.6, 9.8, 10.0, 10.2, 10.4, 10.6, 10.8, 11.0, 11.2, 11.4, 11.6, 11.8, 12.0, 12.2, 12.4, 12.6, 12.8, 13.0, 13.2, 13.4, 13.6, 13.8, 14.0, 14.2, 14.4, 14.6, 14.8], is_ordered=True, sort_values=True), RangeParameter(name='omega18', parameter_type=FLOAT, range=[0.0, 10.0]), ChoiceParameter(name='det18', parameter_type=FLOAT, values=[-15.0, -14.8, -14.6, -14.4, -14.2, -14.0, -13.8, -13.6, -13.4, -13.2, -13.0, -12.8, -12.6, -12.4, -12.2, -12.0, -11.8, -11.6, -11.4, -11.2, -11.0, -10.8, -10.6, -10.4, -10.2, -10.0, -9.8, -9.6, -9.4, -9.2, -9.0, -8.8, -8.6, -8.4, -8.2, -8.0, -7.8, -7.6, -7.4, -7.2, -7.0, -6.8, -6.6, -6.4, -6.2, -6.0, -5.8, -5.6, -5.4, -5.2, -5.0, -4.8, -4.6, -4.4, -4.2, -4.0, -3.8, -3.6, -3.4, -3.2, -3.0, -2.8, -2.6, -2.4, -2.2, -2.0, -1.8, -1.6, -1.4, -1.2, -1.0, -0.8, -0.6, -0.4, -0.2, -0.0, 0.2, 0.4, 0.6, 0.8, 1.0, 1.2, 1.4, 1.6, 1.8, 2.0, 2.2, 2.4, 2.6, 2.8, 3.0, 3.2, 3.4, 3.6, 3.8, 4.0, 4.2, 4.4, 4.6, 4.8, 5.0, 5.2, 5.4, 5.6, 5.8, 6.0, 6.2, 6.4, 6.6, 6.8, 7.0, 7.2, 7.4, 7.6, 7.8, 8.0, 8.2, 8.4, 8.6, 8.8, 9.0, 9.2, 9.4, 9.6, 9.8, 10.0, 10.2, 10.4, 10.6, 10.8, 11.0, 11.2, 11.4, 11.6, 11.8, 12.0, 12.2, 12.4, 12.6, 12.8, 13.0, 13.2, 13.4, 13.6, 13.8, 14.0, 14.2, 14.4, 14.6, 14.8], is_ordered=True, sort_values=True), RangeParameter(name='omega19', parameter_type=FLOAT, range=[0.0, 10.0]), ChoiceParameter(name='det19', parameter_type=FLOAT, values=[-15.0, -14.8, -14.6, -14.4, -14.2, -14.0, -13.8, -13.6, -13.4, -13.2, -13.0, -12.8, -12.6, -12.4, -12.2, -12.0, -11.8, -11.6, -11.4, -11.2, -11.0, -10.8, -10.6, -10.4, -10.2, -10.0, -9.8, -9.6, -9.4, -9.2, -9.0, -8.8, -8.6, -8.4, -8.2, -8.0, -7.8, -7.6, -7.4, -7.2, -7.0, -6.8, -6.6, -6.4, -6.2, -6.0, -5.8, -5.6, -5.4, -5.2, -5.0, -4.8, -4.6, -4.4, -4.2, -4.0, -3.8, -3.6, -3.4, -3.2, -3.0, -2.8, -2.6, -2.4, -2.2, -2.0, -1.8, -1.6, -1.4, -1.2, -1.0, -0.8, -0.6, -0.4, -0.2, -0.0, 0.2, 0.4, 0.6, 0.8, 1.0, 1.2, 1.4, 1.6, 1.8, 2.0, 2.2, 2.4, 2.6, 2.8, 3.0, 3.2, 3.4, 3.6, 3.8, 4.0, 4.2, 4.4, 4.6, 4.8, 5.0, 5.2, 5.4, 5.6, 5.8, 6.0, 6.2, 6.4, 6.6, 6.8, 7.0, 7.2, 7.4, 7.6, 7.8, 8.0, 8.2, 8.4, 8.6, 8.8, 9.0, 9.2, 9.4, 9.6, 9.8, 10.0, 10.2, 10.4, 10.6, 10.8, 11.0, 11.2, 11.4, 11.6, 11.8, 12.0, 12.2, 12.4, 12.6, 12.8, 13.0, 13.2, 13.4, 13.6, 13.8, 14.0, 14.2, 14.4, 14.6, 14.8], is_ordered=True, sort_values=True), RangeParameter(name='omega20', parameter_type=FLOAT, range=[0.0, 10.0]), ChoiceParameter(name='det20', parameter_type=FLOAT, values=[-15.0, -14.8, -14.6, -14.4, -14.2, -14.0, -13.8, -13.6, -13.4, -13.2, -13.0, -12.8, -12.6, -12.4, -12.2, -12.0, -11.8, -11.6, -11.4, -11.2, -11.0, -10.8, -10.6, -10.4, -10.2, -10.0, -9.8, -9.6, -9.4, -9.2, -9.0, -8.8, -8.6, -8.4, -8.2, -8.0, -7.8, -7.6, -7.4, -7.2, -7.0, -6.8, -6.6, -6.4, -6.2, -6.0, -5.8, -5.6, -5.4, -5.2, -5.0, -4.8, -4.6, -4.4, -4.2, -4.0, -3.8, -3.6, -3.4, -3.2, -3.0, -2.8, -2.6, -2.4, -2.2, -2.0, -1.8, -1.6, -1.4, -1.2, -1.0, -0.8, -0.6, -0.4, -0.2, -0.0, 0.2, 0.4, 0.6, 0.8, 1.0, 1.2, 1.4, 1.6, 1.8, 2.0, 2.2, 2.4, 2.6, 2.8, 3.0, 3.2, 3.4, 3.6, 3.8, 4.0, 4.2, 4.4, 4.6, 4.8, 5.0, 5.2, 5.4, 5.6, 5.8, 6.0, 6.2, 6.4, 6.6, 6.8, 7.0, 7.2, 7.4, 7.6, 7.8, 8.0, 8.2, 8.4, 8.6, 8.8, 9.0, 9.2, 9.4, 9.6, 9.8, 10.0, 10.2, 10.4, 10.6, 10.8, 11.0, 11.2, 11.4, 11.6, 11.8, 12.0, 12.2, 12.4, 12.6, 12.8, 13.0, 13.2, 13.4, 13.6, 13.8, 14.0, 14.2, 14.4, 14.6, 14.8], is_ordered=True, sort_values=True), RangeParameter(name='omega21', parameter_type=FLOAT, range=[0.0, 10.0]), ChoiceParameter(name='det21', parameter_type=FLOAT, values=[-15.0, -14.8, -14.6, -14.4, -14.2, -14.0, -13.8, -13.6, -13.4, -13.2, -13.0, -12.8, -12.6, -12.4, -12.2, -12.0, -11.8, -11.6, -11.4, -11.2, -11.0, -10.8, -10.6, -10.4, -10.2, -10.0, -9.8, -9.6, -9.4, -9.2, -9.0, -8.8, -8.6, -8.4, -8.2, -8.0, -7.8, -7.6, -7.4, -7.2, -7.0, -6.8, -6.6, -6.4, -6.2, -6.0, -5.8, -5.6, -5.4, -5.2, -5.0, -4.8, -4.6, -4.4, -4.2, -4.0, -3.8, -3.6, -3.4, -3.2, -3.0, -2.8, -2.6, -2.4, -2.2, -2.0, -1.8, -1.6, -1.4, -1.2, -1.0, -0.8, -0.6, -0.4, -0.2, -0.0, 0.2, 0.4, 0.6, 0.8, 1.0, 1.2, 1.4, 1.6, 1.8, 2.0, 2.2, 2.4, 2.6, 2.8, 3.0, 3.2, 3.4, 3.6, 3.8, 4.0, 4.2, 4.4, 4.6, 4.8, 5.0, 5.2, 5.4, 5.6, 5.8, 6.0, 6.2, 6.4, 6.6, 6.8, 7.0, 7.2, 7.4, 7.6, 7.8, 8.0, 8.2, 8.4, 8.6, 8.8, 9.0, 9.2, 9.4, 9.6, 9.8, 10.0, 10.2, 10.4, 10.6, 10.8, 11.0, 11.2, 11.4, 11.6, 11.8, 12.0, 12.2, 12.4, 12.6, 12.8, 13.0, 13.2, 13.4, 13.6, 13.8, 14.0, 14.2, 14.4, 14.6, 14.8], is_ordered=True, sort_values=True), RangeParameter(name='omega22', parameter_type=FLOAT, range=[0.0, 10.0]), ChoiceParameter(name='det22', parameter_type=FLOAT, values=[-15.0, -14.8, -14.6, -14.4, -14.2, -14.0, -13.8, -13.6, -13.4, -13.2, -13.0, -12.8, -12.6, -12.4, -12.2, -12.0, -11.8, -11.6, -11.4, -11.2, -11.0, -10.8, -10.6, -10.4, -10.2, -10.0, -9.8, -9.6, -9.4, -9.2, -9.0, -8.8, -8.6, -8.4, -8.2, -8.0, -7.8, -7.6, -7.4, -7.2, -7.0, -6.8, -6.6, -6.4, -6.2, -6.0, -5.8, -5.6, -5.4, -5.2, -5.0, -4.8, -4.6, -4.4, -4.2, -4.0, -3.8, -3.6, -3.4, -3.2, -3.0, -2.8, -2.6, -2.4, -2.2, -2.0, -1.8, -1.6, -1.4, -1.2, -1.0, -0.8, -0.6, -0.4, -0.2, -0.0, 0.2, 0.4, 0.6, 0.8, 1.0, 1.2, 1.4, 1.6, 1.8, 2.0, 2.2, 2.4, 2.6, 2.8, 3.0, 3.2, 3.4, 3.6, 3.8, 4.0, 4.2, 4.4, 4.6, 4.8, 5.0, 5.2, 5.4, 5.6, 5.8, 6.0, 6.2, 6.4, 6.6, 6.8, 7.0, 7.2, 7.4, 7.6, 7.8, 8.0, 8.2, 8.4, 8.6, 8.8, 9.0, 9.2, 9.4, 9.6, 9.8, 10.0, 10.2, 10.4, 10.6, 10.8, 11.0, 11.2, 11.4, 11.6, 11.8, 12.0, 12.2, 12.4, 12.6, 12.8, 13.0, 13.2, 13.4, 13.6, 13.8, 14.0, 14.2, 14.4, 14.6, 14.8], is_ordered=True, sort_values=True), RangeParameter(name='omega23', parameter_type=FLOAT, range=[0.0, 10.0]), ChoiceParameter(name='det23', parameter_type=FLOAT, values=[-15.0, -14.8, -14.6, -14.4, -14.2, -14.0, -13.8, -13.6, -13.4, -13.2, -13.0, -12.8, -12.6, -12.4, -12.2, -12.0, -11.8, -11.6, -11.4, -11.2, -11.0, -10.8, -10.6, -10.4, -10.2, -10.0, -9.8, -9.6, -9.4, -9.2, -9.0, -8.8, -8.6, -8.4, -8.2, -8.0, -7.8, -7.6, -7.4, -7.2, -7.0, -6.8, -6.6, -6.4, -6.2, -6.0, -5.8, -5.6, -5.4, -5.2, -5.0, -4.8, -4.6, -4.4, -4.2, -4.0, -3.8, -3.6, -3.4, -3.2, -3.0, -2.8, -2.6, -2.4, -2.2, -2.0, -1.8, -1.6, -1.4, -1.2, -1.0, -0.8, -0.6, -0.4, -0.2, -0.0, 0.2, 0.4, 0.6, 0.8, 1.0, 1.2, 1.4, 1.6, 1.8, 2.0, 2.2, 2.4, 2.6, 2.8, 3.0, 3.2, 3.4, 3.6, 3.8, 4.0, 4.2, 4.4, 4.6, 4.8, 5.0, 5.2, 5.4, 5.6, 5.8, 6.0, 6.2, 6.4, 6.6, 6.8, 7.0, 7.2, 7.4, 7.6, 7.8, 8.0, 8.2, 8.4, 8.6, 8.8, 9.0, 9.2, 9.4, 9.6, 9.8, 10.0, 10.2, 10.4, 10.6, 10.8, 11.0, 11.2, 11.4, 11.6, 11.8, 12.0, 12.2, 12.4, 12.6, 12.8, 13.0, 13.2, 13.4, 13.6, 13.8, 14.0, 14.2, 14.4, 14.6, 14.8], is_ordered=True, sort_values=True), RangeParameter(name='omega24', parameter_type=FLOAT, range=[0.0, 10.0]), ChoiceParameter(name='det24', parameter_type=FLOAT, values=[-15.0, -14.8, -14.6, -14.4, -14.2, -14.0, -13.8, -13.6, -13.4, -13.2, -13.0, -12.8, -12.6, -12.4, -12.2, -12.0, -11.8, -11.6, -11.4, -11.2, -11.0, -10.8, -10.6, -10.4, -10.2, -10.0, -9.8, -9.6, -9.4, -9.2, -9.0, -8.8, -8.6, -8.4, -8.2, -8.0, -7.8, -7.6, -7.4, -7.2, -7.0, -6.8, -6.6, -6.4, -6.2, -6.0, -5.8, -5.6, -5.4, -5.2, -5.0, -4.8, -4.6, -4.4, -4.2, -4.0, -3.8, -3.6, -3.4, -3.2, -3.0, -2.8, -2.6, -2.4, -2.2, -2.0, -1.8, -1.6, -1.4, -1.2, -1.0, -0.8, -0.6, -0.4, -0.2, -0.0, 0.2, 0.4, 0.6, 0.8, 1.0, 1.2, 1.4, 1.6, 1.8, 2.0, 2.2, 2.4, 2.6, 2.8, 3.0, 3.2, 3.4, 3.6, 3.8, 4.0, 4.2, 4.4, 4.6, 4.8, 5.0, 5.2, 5.4, 5.6, 5.8, 6.0, 6.2, 6.4, 6.6, 6.8, 7.0, 7.2, 7.4, 7.6, 7.8, 8.0, 8.2, 8.4, 8.6, 8.8, 9.0, 9.2, 9.4, 9.6, 9.8, 10.0, 10.2, 10.4, 10.6, 10.8, 11.0, 11.2, 11.4, 11.6, 11.8, 12.0, 12.2, 12.4, 12.6, 12.8, 13.0, 13.2, 13.4, 13.6, 13.8, 14.0, 14.2, 14.4, 14.6, 14.8], is_ordered=True, sort_values=True), RangeParameter(name='omega25', parameter_type=FLOAT, range=[0.0, 10.0]), ChoiceParameter(name='det25', parameter_type=FLOAT, values=[-15.0, -14.8, -14.6, -14.4, -14.2, -14.0, -13.8, -13.6, -13.4, -13.2, -13.0, -12.8, -12.6, -12.4, -12.2, -12.0, -11.8, -11.6, -11.4, -11.2, -11.0, -10.8, -10.6, -10.4, -10.2, -10.0, -9.8, -9.6, -9.4, -9.2, -9.0, -8.8, -8.6, -8.4, -8.2, -8.0, -7.8, -7.6, -7.4, -7.2, -7.0, -6.8, -6.6, -6.4, -6.2, -6.0, -5.8, -5.6, -5.4, -5.2, -5.0, -4.8, -4.6, -4.4, -4.2, -4.0, -3.8, -3.6, -3.4, -3.2, -3.0, -2.8, -2.6, -2.4, -2.2, -2.0, -1.8, -1.6, -1.4, -1.2, -1.0, -0.8, -0.6, -0.4, -0.2, -0.0, 0.2, 0.4, 0.6, 0.8, 1.0, 1.2, 1.4, 1.6, 1.8, 2.0, 2.2, 2.4, 2.6, 2.8, 3.0, 3.2, 3.4, 3.6, 3.8, 4.0, 4.2, 4.4, 4.6, 4.8, 5.0, 5.2, 5.4, 5.6, 5.8, 6.0, 6.2, 6.4, 6.6, 6.8, 7.0, 7.2, 7.4, 7.6, 7.8, 8.0, 8.2, 8.4, 8.6, 8.8, 9.0, 9.2, 9.4, 9.6, 9.8, 10.0, 10.2, 10.4, 10.6, 10.8, 11.0, 11.2, 11.4, 11.6, 11.8, 12.0, 12.2, 12.4, 12.6, 12.8, 13.0, 13.2, 13.4, 13.6, 13.8, 14.0, 14.2, 14.4, 14.6, 14.8], is_ordered=True, sort_values=True), RangeParameter(name='omega26', parameter_type=FLOAT, range=[0.0, 10.0]), ChoiceParameter(name='det26', parameter_type=FLOAT, values=[-15.0, -14.8, -14.6, -14.4, -14.2, -14.0, -13.8, -13.6, -13.4, -13.2, -13.0, -12.8, -12.6, -12.4, -12.2, -12.0, -11.8, -11.6, -11.4, -11.2, -11.0, -10.8, -10.6, -10.4, -10.2, -10.0, -9.8, -9.6, -9.4, -9.2, -9.0, -8.8, -8.6, -8.4, -8.2, -8.0, -7.8, -7.6, -7.4, -7.2, -7.0, -6.8, -6.6, -6.4, -6.2, -6.0, -5.8, -5.6, -5.4, -5.2, -5.0, -4.8, -4.6, -4.4, -4.2, -4.0, -3.8, -3.6, -3.4, -3.2, -3.0, -2.8, -2.6, -2.4, -2.2, -2.0, -1.8, -1.6, -1.4, -1.2, -1.0, -0.8, -0.6, -0.4, -0.2, -0.0, 0.2, 0.4, 0.6, 0.8, 1.0, 1.2, 1.4, 1.6, 1.8, 2.0, 2.2, 2.4, 2.6, 2.8, 3.0, 3.2, 3.4, 3.6, 3.8, 4.0, 4.2, 4.4, 4.6, 4.8, 5.0, 5.2, 5.4, 5.6, 5.8, 6.0, 6.2, 6.4, 6.6, 6.8, 7.0, 7.2, 7.4, 7.6, 7.8, 8.0, 8.2, 8.4, 8.6, 8.8, 9.0, 9.2, 9.4, 9.6, 9.8, 10.0, 10.2, 10.4, 10.6, 10.8, 11.0, 11.2, 11.4, 11.6, 11.8, 12.0, 12.2, 12.4, 12.6, 12.8, 13.0, 13.2, 13.4, 13.6, 13.8, 14.0, 14.2, 14.4, 14.6, 14.8], is_ordered=True, sort_values=True), RangeParameter(name='omega27', parameter_type=FLOAT, range=[0.0, 10.0]), ChoiceParameter(name='det27', parameter_type=FLOAT, values=[-15.0, -14.8, -14.6, -14.4, -14.2, -14.0, -13.8, -13.6, -13.4, -13.2, -13.0, -12.8, -12.6, -12.4, -12.2, -12.0, -11.8, -11.6, -11.4, -11.2, -11.0, -10.8, -10.6, -10.4, -10.2, -10.0, -9.8, -9.6, -9.4, -9.2, -9.0, -8.8, -8.6, -8.4, -8.2, -8.0, -7.8, -7.6, -7.4, -7.2, -7.0, -6.8, -6.6, -6.4, -6.2, -6.0, -5.8, -5.6, -5.4, -5.2, -5.0, -4.8, -4.6, -4.4, -4.2, -4.0, -3.8, -3.6, -3.4, -3.2, -3.0, -2.8, -2.6, -2.4, -2.2, -2.0, -1.8, -1.6, -1.4, -1.2, -1.0, -0.8, -0.6, -0.4, -0.2, -0.0, 0.2, 0.4, 0.6, 0.8, 1.0, 1.2, 1.4, 1.6, 1.8, 2.0, 2.2, 2.4, 2.6, 2.8, 3.0, 3.2, 3.4, 3.6, 3.8, 4.0, 4.2, 4.4, 4.6, 4.8, 5.0, 5.2, 5.4, 5.6, 5.8, 6.0, 6.2, 6.4, 6.6, 6.8, 7.0, 7.2, 7.4, 7.6, 7.8, 8.0, 8.2, 8.4, 8.6, 8.8, 9.0, 9.2, 9.4, 9.6, 9.8, 10.0, 10.2, 10.4, 10.6, 10.8, 11.0, 11.2, 11.4, 11.6, 11.8, 12.0, 12.2, 12.4, 12.6, 12.8, 13.0, 13.2, 13.4, 13.6, 13.8, 14.0, 14.2, 14.4, 14.6, 14.8], is_ordered=True, sort_values=True), RangeParameter(name='omega28', parameter_type=FLOAT, range=[0.0, 10.0]), ChoiceParameter(name='det28', parameter_type=FLOAT, values=[-15.0, -14.8, -14.6, -14.4, -14.2, -14.0, -13.8, -13.6, -13.4, -13.2, -13.0, -12.8, -12.6, -12.4, -12.2, -12.0, -11.8, -11.6, -11.4, -11.2, -11.0, -10.8, -10.6, -10.4, -10.2, -10.0, -9.8, -9.6, -9.4, -9.2, -9.0, -8.8, -8.6, -8.4, -8.2, -8.0, -7.8, -7.6, -7.4, -7.2, -7.0, -6.8, -6.6, -6.4, -6.2, -6.0, -5.8, -5.6, -5.4, -5.2, -5.0, -4.8, -4.6, -4.4, -4.2, -4.0, -3.8, -3.6, -3.4, -3.2, -3.0, -2.8, -2.6, -2.4, -2.2, -2.0, -1.8, -1.6, -1.4, -1.2, -1.0, -0.8, -0.6, -0.4, -0.2, -0.0, 0.2, 0.4, 0.6, 0.8, 1.0, 1.2, 1.4, 1.6, 1.8, 2.0, 2.2, 2.4, 2.6, 2.8, 3.0, 3.2, 3.4, 3.6, 3.8, 4.0, 4.2, 4.4, 4.6, 4.8, 5.0, 5.2, 5.4, 5.6, 5.8, 6.0, 6.2, 6.4, 6.6, 6.8, 7.0, 7.2, 7.4, 7.6, 7.8, 8.0, 8.2, 8.4, 8.6, 8.8, 9.0, 9.2, 9.4, 9.6, 9.8, 10.0, 10.2, 10.4, 10.6, 10.8, 11.0, 11.2, 11.4, 11.6, 11.8, 12.0, 12.2, 12.4, 12.6, 12.8, 13.0, 13.2, 13.4, 13.6, 13.8, 14.0, 14.2, 14.4, 14.6, 14.8], is_ordered=True, sort_values=True), RangeParameter(name='omega29', parameter_type=FLOAT, range=[0.0, 10.0]), ChoiceParameter(name='det29', parameter_type=FLOAT, values=[-15.0, -14.8, -14.6, -14.4, -14.2, -14.0, -13.8, -13.6, -13.4, -13.2, -13.0, -12.8, -12.6, -12.4, -12.2, -12.0, -11.8, -11.6, -11.4, -11.2, -11.0, -10.8, -10.6, -10.4, -10.2, -10.0, -9.8, -9.6, -9.4, -9.2, -9.0, -8.8, -8.6, -8.4, -8.2, -8.0, -7.8, -7.6, -7.4, -7.2, -7.0, -6.8, -6.6, -6.4, -6.2, -6.0, -5.8, -5.6, -5.4, -5.2, -5.0, -4.8, -4.6, -4.4, -4.2, -4.0, -3.8, -3.6, -3.4, -3.2, -3.0, -2.8, -2.6, -2.4, -2.2, -2.0, -1.8, -1.6, -1.4, -1.2, -1.0, -0.8, -0.6, -0.4, -0.2, -0.0, 0.2, 0.4, 0.6, 0.8, 1.0, 1.2, 1.4, 1.6, 1.8, 2.0, 2.2, 2.4, 2.6, 2.8, 3.0, 3.2, 3.4, 3.6, 3.8, 4.0, 4.2, 4.4, 4.6, 4.8, 5.0, 5.2, 5.4, 5.6, 5.8, 6.0, 6.2, 6.4, 6.6, 6.8, 7.0, 7.2, 7.4, 7.6, 7.8, 8.0, 8.2, 8.4, 8.6, 8.8, 9.0, 9.2, 9.4, 9.6, 9.8, 10.0, 10.2, 10.4, 10.6, 10.8, 11.0, 11.2, 11.4, 11.6, 11.8, 12.0, 12.2, 12.4, 12.6, 12.8, 13.0, 13.2, 13.4, 13.6, 13.8, 14.0, 14.2, 14.4, 14.6, 14.8], is_ordered=True, sort_values=True), RangeParameter(name='omega30', parameter_type=FLOAT, range=[0.0, 10.0]), ChoiceParameter(name='det30', parameter_type=FLOAT, values=[-15.0, -14.8, -14.6, -14.4, -14.2, -14.0, -13.8, -13.6, -13.4, -13.2, -13.0, -12.8, -12.6, -12.4, -12.2, -12.0, -11.8, -11.6, -11.4, -11.2, -11.0, -10.8, -10.6, -10.4, -10.2, -10.0, -9.8, -9.6, -9.4, -9.2, -9.0, -8.8, -8.6, -8.4, -8.2, -8.0, -7.8, -7.6, -7.4, -7.2, -7.0, -6.8, -6.6, -6.4, -6.2, -6.0, -5.8, -5.6, -5.4, -5.2, -5.0, -4.8, -4.6, -4.4, -4.2, -4.0, -3.8, -3.6, -3.4, -3.2, -3.0, -2.8, -2.6, -2.4, -2.2, -2.0, -1.8, -1.6, -1.4, -1.2, -1.0, -0.8, -0.6, -0.4, -0.2, -0.0, 0.2, 0.4, 0.6, 0.8, 1.0, 1.2, 1.4, 1.6, 1.8, 2.0, 2.2, 2.4, 2.6, 2.8, 3.0, 3.2, 3.4, 3.6, 3.8, 4.0, 4.2, 4.4, 4.6, 4.8, 5.0, 5.2, 5.4, 5.6, 5.8, 6.0, 6.2, 6.4, 6.6, 6.8, 7.0, 7.2, 7.4, 7.6, 7.8, 8.0, 8.2, 8.4, 8.6, 8.8, 9.0, 9.2, 9.4, 9.6, 9.8, 10.0, 10.2, 10.4, 10.6, 10.8, 11.0, 11.2, 11.4, 11.6, 11.8, 12.0, 12.2, 12.4, 12.6, 12.8, 13.0, 13.2, 13.4, 13.6, 13.8, 14.0, 14.2, 14.4, 14.6, 14.8], is_ordered=True, sort_values=True), RangeParameter(name='omega31', parameter_type=FLOAT, range=[0.0, 10.0]), ChoiceParameter(name='det31', parameter_type=FLOAT, values=[-15.0, -14.8, -14.6, -14.4, -14.2, -14.0, -13.8, -13.6, -13.4, -13.2, -13.0, -12.8, -12.6, -12.4, -12.2, -12.0, -11.8, -11.6, -11.4, -11.2, -11.0, -10.8, -10.6, -10.4, -10.2, -10.0, -9.8, -9.6, -9.4, -9.2, -9.0, -8.8, -8.6, -8.4, -8.2, -8.0, -7.8, -7.6, -7.4, -7.2, -7.0, -6.8, -6.6, -6.4, -6.2, -6.0, -5.8, -5.6, -5.4, -5.2, -5.0, -4.8, -4.6, -4.4, -4.2, -4.0, -3.8, -3.6, -3.4, -3.2, -3.0, -2.8, -2.6, -2.4, -2.2, -2.0, -1.8, -1.6, -1.4, -1.2, -1.0, -0.8, -0.6, -0.4, -0.2, -0.0, 0.2, 0.4, 0.6, 0.8, 1.0, 1.2, 1.4, 1.6, 1.8, 2.0, 2.2, 2.4, 2.6, 2.8, 3.0, 3.2, 3.4, 3.6, 3.8, 4.0, 4.2, 4.4, 4.6, 4.8, 5.0, 5.2, 5.4, 5.6, 5.8, 6.0, 6.2, 6.4, 6.6, 6.8, 7.0, 7.2, 7.4, 7.6, 7.8, 8.0, 8.2, 8.4, 8.6, 8.8, 9.0, 9.2, 9.4, 9.6, 9.8, 10.0, 10.2, 10.4, 10.6, 10.8, 11.0, 11.2, 11.4, 11.6, 11.8, 12.0, 12.2, 12.4, 12.6, 12.8, 13.0, 13.2, 13.4, 13.6, 13.8, 14.0, 14.2, 14.4, 14.6, 14.8], is_ordered=True, sort_values=True), RangeParameter(name='omega32', parameter_type=FLOAT, range=[0.0, 10.0]), ChoiceParameter(name='det32', parameter_type=FLOAT, values=[-15.0, -14.8, -14.6, -14.4, -14.2, -14.0, -13.8, -13.6, -13.4, -13.2, -13.0, -12.8, -12.6, -12.4, -12.2, -12.0, -11.8, -11.6, -11.4, -11.2, -11.0, -10.8, -10.6, -10.4, -10.2, -10.0, -9.8, -9.6, -9.4, -9.2, -9.0, -8.8, -8.6, -8.4, -8.2, -8.0, -7.8, -7.6, -7.4, -7.2, -7.0, -6.8, -6.6, -6.4, -6.2, -6.0, -5.8, -5.6, -5.4, -5.2, -5.0, -4.8, -4.6, -4.4, -4.2, -4.0, -3.8, -3.6, -3.4, -3.2, -3.0, -2.8, -2.6, -2.4, -2.2, -2.0, -1.8, -1.6, -1.4, -1.2, -1.0, -0.8, -0.6, -0.4, -0.2, -0.0, 0.2, 0.4, 0.6, 0.8, 1.0, 1.2, 1.4, 1.6, 1.8, 2.0, 2.2, 2.4, 2.6, 2.8, 3.0, 3.2, 3.4, 3.6, 3.8, 4.0, 4.2, 4.4, 4.6, 4.8, 5.0, 5.2, 5.4, 5.6, 5.8, 6.0, 6.2, 6.4, 6.6, 6.8, 7.0, 7.2, 7.4, 7.6, 7.8, 8.0, 8.2, 8.4, 8.6, 8.8, 9.0, 9.2, 9.4, 9.6, 9.8, 10.0, 10.2, 10.4, 10.6, 10.8, 11.0, 11.2, 11.4, 11.6, 11.8, 12.0, 12.2, 12.4, 12.6, 12.8, 13.0, 13.2, 13.4, 13.6, 13.8, 14.0, 14.2, 14.4, 14.6, 14.8], is_ordered=True, sort_values=True), RangeParameter(name='omega33', parameter_type=FLOAT, range=[0.0, 10.0]), ChoiceParameter(name='det33', parameter_type=FLOAT, values=[-15.0, -14.8, -14.6, -14.4, -14.2, -14.0, -13.8, -13.6, -13.4, -13.2, -13.0, -12.8, -12.6, -12.4, -12.2, -12.0, -11.8, -11.6, -11.4, -11.2, -11.0, -10.8, -10.6, -10.4, -10.2, -10.0, -9.8, -9.6, -9.4, -9.2, -9.0, -8.8, -8.6, -8.4, -8.2, -8.0, -7.8, -7.6, -7.4, -7.2, -7.0, -6.8, -6.6, -6.4, -6.2, -6.0, -5.8, -5.6, -5.4, -5.2, -5.0, -4.8, -4.6, -4.4, -4.2, -4.0, -3.8, -3.6, -3.4, -3.2, -3.0, -2.8, -2.6, -2.4, -2.2, -2.0, -1.8, -1.6, -1.4, -1.2, -1.0, -0.8, -0.6, -0.4, -0.2, -0.0, 0.2, 0.4, 0.6, 0.8, 1.0, 1.2, 1.4, 1.6, 1.8, 2.0, 2.2, 2.4, 2.6, 2.8, 3.0, 3.2, 3.4, 3.6, 3.8, 4.0, 4.2, 4.4, 4.6, 4.8, 5.0, 5.2, 5.4, 5.6, 5.8, 6.0, 6.2, 6.4, 6.6, 6.8, 7.0, 7.2, 7.4, 7.6, 7.8, 8.0, 8.2, 8.4, 8.6, 8.8, 9.0, 9.2, 9.4, 9.6, 9.8, 10.0, 10.2, 10.4, 10.6, 10.8, 11.0, 11.2, 11.4, 11.6, 11.8, 12.0, 12.2, 12.4, 12.6, 12.8, 13.0, 13.2, 13.4, 13.6, 13.8, 14.0, 14.2, 14.4, 14.6, 14.8], is_ordered=True, sort_values=True), RangeParameter(name='omega34', parameter_type=FLOAT, range=[0.0, 10.0]), ChoiceParameter(name='det34', parameter_type=FLOAT, values=[-15.0, -14.8, -14.6, -14.4, -14.2, -14.0, -13.8, -13.6, -13.4, -13.2, -13.0, -12.8, -12.6, -12.4, -12.2, -12.0, -11.8, -11.6, -11.4, -11.2, -11.0, -10.8, -10.6, -10.4, -10.2, -10.0, -9.8, -9.6, -9.4, -9.2, -9.0, -8.8, -8.6, -8.4, -8.2, -8.0, -7.8, -7.6, -7.4, -7.2, -7.0, -6.8, -6.6, -6.4, -6.2, -6.0, -5.8, -5.6, -5.4, -5.2, -5.0, -4.8, -4.6, -4.4, -4.2, -4.0, -3.8, -3.6, -3.4, -3.2, -3.0, -2.8, -2.6, -2.4, -2.2, -2.0, -1.8, -1.6, -1.4, -1.2, -1.0, -0.8, -0.6, -0.4, -0.2, -0.0, 0.2, 0.4, 0.6, 0.8, 1.0, 1.2, 1.4, 1.6, 1.8, 2.0, 2.2, 2.4, 2.6, 2.8, 3.0, 3.2, 3.4, 3.6, 3.8, 4.0, 4.2, 4.4, 4.6, 4.8, 5.0, 5.2, 5.4, 5.6, 5.8, 6.0, 6.2, 6.4, 6.6, 6.8, 7.0, 7.2, 7.4, 7.6, 7.8, 8.0, 8.2, 8.4, 8.6, 8.8, 9.0, 9.2, 9.4, 9.6, 9.8, 10.0, 10.2, 10.4, 10.6, 10.8, 11.0, 11.2, 11.4, 11.6, 11.8, 12.0, 12.2, 12.4, 12.6, 12.8, 13.0, 13.2, 13.4, 13.6, 13.8, 14.0, 14.2, 14.4, 14.6, 14.8], is_ordered=True, sort_values=True), RangeParameter(name='omega35', parameter_type=FLOAT, range=[0.0, 10.0]), ChoiceParameter(name='det35', parameter_type=FLOAT, values=[-15.0, -14.8, -14.6, -14.4, -14.2, -14.0, -13.8, -13.6, -13.4, -13.2, -13.0, -12.8, -12.6, -12.4, -12.2, -12.0, -11.8, -11.6, -11.4, -11.2, -11.0, -10.8, -10.6, -10.4, -10.2, -10.0, -9.8, -9.6, -9.4, -9.2, -9.0, -8.8, -8.6, -8.4, -8.2, -8.0, -7.8, -7.6, -7.4, -7.2, -7.0, -6.8, -6.6, -6.4, -6.2, -6.0, -5.8, -5.6, -5.4, -5.2, -5.0, -4.8, -4.6, -4.4, -4.2, -4.0, -3.8, -3.6, -3.4, -3.2, -3.0, -2.8, -2.6, -2.4, -2.2, -2.0, -1.8, -1.6, -1.4, -1.2, -1.0, -0.8, -0.6, -0.4, -0.2, -0.0, 0.2, 0.4, 0.6, 0.8, 1.0, 1.2, 1.4, 1.6, 1.8, 2.0, 2.2, 2.4, 2.6, 2.8, 3.0, 3.2, 3.4, 3.6, 3.8, 4.0, 4.2, 4.4, 4.6, 4.8, 5.0, 5.2, 5.4, 5.6, 5.8, 6.0, 6.2, 6.4, 6.6, 6.8, 7.0, 7.2, 7.4, 7.6, 7.8, 8.0, 8.2, 8.4, 8.6, 8.8, 9.0, 9.2, 9.4, 9.6, 9.8, 10.0, 10.2, 10.4, 10.6, 10.8, 11.0, 11.2, 11.4, 11.6, 11.8, 12.0, 12.2, 12.4, 12.6, 12.8, 13.0, 13.2, 13.4, 13.6, 13.8, 14.0, 14.2, 14.4, 14.6, 14.8], is_ordered=True, sort_values=True), RangeParameter(name='omega36', parameter_type=FLOAT, range=[0.0, 10.0]), ChoiceParameter(name='det36', parameter_type=FLOAT, values=[-15.0, -14.8, -14.6, -14.4, -14.2, -14.0, -13.8, -13.6, -13.4, -13.2, -13.0, -12.8, -12.6, -12.4, -12.2, -12.0, -11.8, -11.6, -11.4, -11.2, -11.0, -10.8, -10.6, -10.4, -10.2, -10.0, -9.8, -9.6, -9.4, -9.2, -9.0, -8.8, -8.6, -8.4, -8.2, -8.0, -7.8, -7.6, -7.4, -7.2, -7.0, -6.8, -6.6, -6.4, -6.2, -6.0, -5.8, -5.6, -5.4, -5.2, -5.0, -4.8, -4.6, -4.4, -4.2, -4.0, -3.8, -3.6, -3.4, -3.2, -3.0, -2.8, -2.6, -2.4, -2.2, -2.0, -1.8, -1.6, -1.4, -1.2, -1.0, -0.8, -0.6, -0.4, -0.2, -0.0, 0.2, 0.4, 0.6, 0.8, 1.0, 1.2, 1.4, 1.6, 1.8, 2.0, 2.2, 2.4, 2.6, 2.8, 3.0, 3.2, 3.4, 3.6, 3.8, 4.0, 4.2, 4.4, 4.6, 4.8, 5.0, 5.2, 5.4, 5.6, 5.8, 6.0, 6.2, 6.4, 6.6, 6.8, 7.0, 7.2, 7.4, 7.6, 7.8, 8.0, 8.2, 8.4, 8.6, 8.8, 9.0, 9.2, 9.4, 9.6, 9.8, 10.0, 10.2, 10.4, 10.6, 10.8, 11.0, 11.2, 11.4, 11.6, 11.8, 12.0, 12.2, 12.4, 12.6, 12.8, 13.0, 13.2, 13.4, 13.6, 13.8, 14.0, 14.2, 14.4, 14.6, 14.8], is_ordered=True, sort_values=True), RangeParameter(name='omega37', parameter_type=FLOAT, range=[0.0, 10.0]), ChoiceParameter(name='det37', parameter_type=FLOAT, values=[-15.0, -14.8, -14.6, -14.4, -14.2, -14.0, -13.8, -13.6, -13.4, -13.2, -13.0, -12.8, -12.6, -12.4, -12.2, -12.0, -11.8, -11.6, -11.4, -11.2, -11.0, -10.8, -10.6, -10.4, -10.2, -10.0, -9.8, -9.6, -9.4, -9.2, -9.0, -8.8, -8.6, -8.4, -8.2, -8.0, -7.8, -7.6, -7.4, -7.2, -7.0, -6.8, -6.6, -6.4, -6.2, -6.0, -5.8, -5.6, -5.4, -5.2, -5.0, -4.8, -4.6, -4.4, -4.2, -4.0, -3.8, -3.6, -3.4, -3.2, -3.0, -2.8, -2.6, -2.4, -2.2, -2.0, -1.8, -1.6, -1.4, -1.2, -1.0, -0.8, -0.6, -0.4, -0.2, -0.0, 0.2, 0.4, 0.6, 0.8, 1.0, 1.2, 1.4, 1.6, 1.8, 2.0, 2.2, 2.4, 2.6, 2.8, 3.0, 3.2, 3.4, 3.6, 3.8, 4.0, 4.2, 4.4, 4.6, 4.8, 5.0, 5.2, 5.4, 5.6, 5.8, 6.0, 6.2, 6.4, 6.6, 6.8, 7.0, 7.2, 7.4, 7.6, 7.8, 8.0, 8.2, 8.4, 8.6, 8.8, 9.0, 9.2, 9.4, 9.6, 9.8, 10.0, 10.2, 10.4, 10.6, 10.8, 11.0, 11.2, 11.4, 11.6, 11.8, 12.0, 12.2, 12.4, 12.6, 12.8, 13.0, 13.2, 13.4, 13.6, 13.8, 14.0, 14.2, 14.4, 14.6, 14.8], is_ordered=True, sort_values=True), RangeParameter(name='omega38', parameter_type=FLOAT, range=[0.0, 10.0]), ChoiceParameter(name='det38', parameter_type=FLOAT, values=[-15.0, -14.8, -14.6, -14.4, -14.2, -14.0, -13.8, -13.6, -13.4, -13.2, -13.0, -12.8, -12.6, -12.4, -12.2, -12.0, -11.8, -11.6, -11.4, -11.2, -11.0, -10.8, -10.6, -10.4, -10.2, -10.0, -9.8, -9.6, -9.4, -9.2, -9.0, -8.8, -8.6, -8.4, -8.2, -8.0, -7.8, -7.6, -7.4, -7.2, -7.0, -6.8, -6.6, -6.4, -6.2, -6.0, -5.8, -5.6, -5.4, -5.2, -5.0, -4.8, -4.6, -4.4, -4.2, -4.0, -3.8, -3.6, -3.4, -3.2, -3.0, -2.8, -2.6, -2.4, -2.2, -2.0, -1.8, -1.6, -1.4, -1.2, -1.0, -0.8, -0.6, -0.4, -0.2, -0.0, 0.2, 0.4, 0.6, 0.8, 1.0, 1.2, 1.4, 1.6, 1.8, 2.0, 2.2, 2.4, 2.6, 2.8, 3.0, 3.2, 3.4, 3.6, 3.8, 4.0, 4.2, 4.4, 4.6, 4.8, 5.0, 5.2, 5.4, 5.6, 5.8, 6.0, 6.2, 6.4, 6.6, 6.8, 7.0, 7.2, 7.4, 7.6, 7.8, 8.0, 8.2, 8.4, 8.6, 8.8, 9.0, 9.2, 9.4, 9.6, 9.8, 10.0, 10.2, 10.4, 10.6, 10.8, 11.0, 11.2, 11.4, 11.6, 11.8, 12.0, 12.2, 12.4, 12.6, 12.8, 13.0, 13.2, 13.4, 13.6, 13.8, 14.0, 14.2, 14.4, 14.6, 14.8], is_ordered=True, sort_values=True), RangeParameter(name='omega39', parameter_type=FLOAT, range=[0.0, 10.0]), ChoiceParameter(name='det39', parameter_type=FLOAT, values=[-15.0, -14.8, -14.6, -14.4, -14.2, -14.0, -13.8, -13.6, -13.4, -13.2, -13.0, -12.8, -12.6, -12.4, -12.2, -12.0, -11.8, -11.6, -11.4, -11.2, -11.0, -10.8, -10.6, -10.4, -10.2, -10.0, -9.8, -9.6, -9.4, -9.2, -9.0, -8.8, -8.6, -8.4, -8.2, -8.0, -7.8, -7.6, -7.4, -7.2, -7.0, -6.8, -6.6, -6.4, -6.2, -6.0, -5.8, -5.6, -5.4, -5.2, -5.0, -4.8, -4.6, -4.4, -4.2, -4.0, -3.8, -3.6, -3.4, -3.2, -3.0, -2.8, -2.6, -2.4, -2.2, -2.0, -1.8, -1.6, -1.4, -1.2, -1.0, -0.8, -0.6, -0.4, -0.2, -0.0, 0.2, 0.4, 0.6, 0.8, 1.0, 1.2, 1.4, 1.6, 1.8, 2.0, 2.2, 2.4, 2.6, 2.8, 3.0, 3.2, 3.4, 3.6, 3.8, 4.0, 4.2, 4.4, 4.6, 4.8, 5.0, 5.2, 5.4, 5.6, 5.8, 6.0, 6.2, 6.4, 6.6, 6.8, 7.0, 7.2, 7.4, 7.6, 7.8, 8.0, 8.2, 8.4, 8.6, 8.8, 9.0, 9.2, 9.4, 9.6, 9.8, 10.0, 10.2, 10.4, 10.6, 10.8, 11.0, 11.2, 11.4, 11.6, 11.8, 12.0, 12.2, 12.4, 12.6, 12.8, 13.0, 13.2, 13.4, 13.6, 13.8, 14.0, 14.2, 14.4, 14.6, 14.8], is_ordered=True, sort_values=True), RangeParameter(name='omega40', parameter_type=FLOAT, range=[0.0, 10.0]), ChoiceParameter(name='det40', parameter_type=FLOAT, values=[-15.0, -14.8, -14.6, -14.4, -14.2, -14.0, -13.8, -13.6, -13.4, -13.2, -13.0, -12.8, -12.6, -12.4, -12.2, -12.0, -11.8, -11.6, -11.4, -11.2, -11.0, -10.8, -10.6, -10.4, -10.2, -10.0, -9.8, -9.6, -9.4, -9.2, -9.0, -8.8, -8.6, -8.4, -8.2, -8.0, -7.8, -7.6, -7.4, -7.2, -7.0, -6.8, -6.6, -6.4, -6.2, -6.0, -5.8, -5.6, -5.4, -5.2, -5.0, -4.8, -4.6, -4.4, -4.2, -4.0, -3.8, -3.6, -3.4, -3.2, -3.0, -2.8, -2.6, -2.4, -2.2, -2.0, -1.8, -1.6, -1.4, -1.2, -1.0, -0.8, -0.6, -0.4, -0.2, -0.0, 0.2, 0.4, 0.6, 0.8, 1.0, 1.2, 1.4, 1.6, 1.8, 2.0, 2.2, 2.4, 2.6, 2.8, 3.0, 3.2, 3.4, 3.6, 3.8, 4.0, 4.2, 4.4, 4.6, 4.8, 5.0, 5.2, 5.4, 5.6, 5.8, 6.0, 6.2, 6.4, 6.6, 6.8, 7.0, 7.2, 7.4, 7.6, 7.8, 8.0, 8.2, 8.4, 8.6, 8.8, 9.0, 9.2, 9.4, 9.6, 9.8, 10.0, 10.2, 10.4, 10.6, 10.8, 11.0, 11.2, 11.4, 11.6, 11.8, 12.0, 12.2, 12.4, 12.6, 12.8, 13.0, 13.2, 13.4, 13.6, 13.8, 14.0, 14.2, 14.4, 14.6, 14.8], is_ordered=True, sort_values=True), RangeParameter(name='omega41', parameter_type=FLOAT, range=[0.0, 10.0]), ChoiceParameter(name='det41', parameter_type=FLOAT, values=[-15.0, -14.8, -14.6, -14.4, -14.2, -14.0, -13.8, -13.6, -13.4, -13.2, -13.0, -12.8, -12.6, -12.4, -12.2, -12.0, -11.8, -11.6, -11.4, -11.2, -11.0, -10.8, -10.6, -10.4, -10.2, -10.0, -9.8, -9.6, -9.4, -9.2, -9.0, -8.8, -8.6, -8.4, -8.2, -8.0, -7.8, -7.6, -7.4, -7.2, -7.0, -6.8, -6.6, -6.4, -6.2, -6.0, -5.8, -5.6, -5.4, -5.2, -5.0, -4.8, -4.6, -4.4, -4.2, -4.0, -3.8, -3.6, -3.4, -3.2, -3.0, -2.8, -2.6, -2.4, -2.2, -2.0, -1.8, -1.6, -1.4, -1.2, -1.0, -0.8, -0.6, -0.4, -0.2, -0.0, 0.2, 0.4, 0.6, 0.8, 1.0, 1.2, 1.4, 1.6, 1.8, 2.0, 2.2, 2.4, 2.6, 2.8, 3.0, 3.2, 3.4, 3.6, 3.8, 4.0, 4.2, 4.4, 4.6, 4.8, 5.0, 5.2, 5.4, 5.6, 5.8, 6.0, 6.2, 6.4, 6.6, 6.8, 7.0, 7.2, 7.4, 7.6, 7.8, 8.0, 8.2, 8.4, 8.6, 8.8, 9.0, 9.2, 9.4, 9.6, 9.8, 10.0, 10.2, 10.4, 10.6, 10.8, 11.0, 11.2, 11.4, 11.6, 11.8, 12.0, 12.2, 12.4, 12.6, 12.8, 13.0, 13.2, 13.4, 13.6, 13.8, 14.0, 14.2, 14.4, 14.6, 14.8], is_ordered=True, sort_values=True), RangeParameter(name='omega42', parameter_type=FLOAT, range=[0.0, 10.0]), ChoiceParameter(name='det42', parameter_type=FLOAT, values=[-15.0, -14.8, -14.6, -14.4, -14.2, -14.0, -13.8, -13.6, -13.4, -13.2, -13.0, -12.8, -12.6, -12.4, -12.2, -12.0, -11.8, -11.6, -11.4, -11.2, -11.0, -10.8, -10.6, -10.4, -10.2, -10.0, -9.8, -9.6, -9.4, -9.2, -9.0, -8.8, -8.6, -8.4, -8.2, -8.0, -7.8, -7.6, -7.4, -7.2, -7.0, -6.8, -6.6, -6.4, -6.2, -6.0, -5.8, -5.6, -5.4, -5.2, -5.0, -4.8, -4.6, -4.4, -4.2, -4.0, -3.8, -3.6, -3.4, -3.2, -3.0, -2.8, -2.6, -2.4, -2.2, -2.0, -1.8, -1.6, -1.4, -1.2, -1.0, -0.8, -0.6, -0.4, -0.2, -0.0, 0.2, 0.4, 0.6, 0.8, 1.0, 1.2, 1.4, 1.6, 1.8, 2.0, 2.2, 2.4, 2.6, 2.8, 3.0, 3.2, 3.4, 3.6, 3.8, 4.0, 4.2, 4.4, 4.6, 4.8, 5.0, 5.2, 5.4, 5.6, 5.8, 6.0, 6.2, 6.4, 6.6, 6.8, 7.0, 7.2, 7.4, 7.6, 7.8, 8.0, 8.2, 8.4, 8.6, 8.8, 9.0, 9.2, 9.4, 9.6, 9.8, 10.0, 10.2, 10.4, 10.6, 10.8, 11.0, 11.2, 11.4, 11.6, 11.8, 12.0, 12.2, 12.4, 12.6, 12.8, 13.0, 13.2, 13.4, 13.6, 13.8, 14.0, 14.2, 14.4, 14.6, 14.8], is_ordered=True, sort_values=True), RangeParameter(name='omega43', parameter_type=FLOAT, range=[0.0, 10.0]), ChoiceParameter(name='det43', parameter_type=FLOAT, values=[-15.0, -14.8, -14.6, -14.4, -14.2, -14.0, -13.8, -13.6, -13.4, -13.2, -13.0, -12.8, -12.6, -12.4, -12.2, -12.0, -11.8, -11.6, -11.4, -11.2, -11.0, -10.8, -10.6, -10.4, -10.2, -10.0, -9.8, -9.6, -9.4, -9.2, -9.0, -8.8, -8.6, -8.4, -8.2, -8.0, -7.8, -7.6, -7.4, -7.2, -7.0, -6.8, -6.6, -6.4, -6.2, -6.0, -5.8, -5.6, -5.4, -5.2, -5.0, -4.8, -4.6, -4.4, -4.2, -4.0, -3.8, -3.6, -3.4, -3.2, -3.0, -2.8, -2.6, -2.4, -2.2, -2.0, -1.8, -1.6, -1.4, -1.2, -1.0, -0.8, -0.6, -0.4, -0.2, -0.0, 0.2, 0.4, 0.6, 0.8, 1.0, 1.2, 1.4, 1.6, 1.8, 2.0, 2.2, 2.4, 2.6, 2.8, 3.0, 3.2, 3.4, 3.6, 3.8, 4.0, 4.2, 4.4, 4.6, 4.8, 5.0, 5.2, 5.4, 5.6, 5.8, 6.0, 6.2, 6.4, 6.6, 6.8, 7.0, 7.2, 7.4, 7.6, 7.8, 8.0, 8.2, 8.4, 8.6, 8.8, 9.0, 9.2, 9.4, 9.6, 9.8, 10.0, 10.2, 10.4, 10.6, 10.8, 11.0, 11.2, 11.4, 11.6, 11.8, 12.0, 12.2, 12.4, 12.6, 12.8, 13.0, 13.2, 13.4, 13.6, 13.8, 14.0, 14.2, 14.4, 14.6, 14.8], is_ordered=True, sort_values=True), RangeParameter(name='omega44', parameter_type=FLOAT, range=[0.0, 10.0]), ChoiceParameter(name='det44', parameter_type=FLOAT, values=[-15.0, -14.8, -14.6, -14.4, -14.2, -14.0, -13.8, -13.6, -13.4, -13.2, -13.0, -12.8, -12.6, -12.4, -12.2, -12.0, -11.8, -11.6, -11.4, -11.2, -11.0, -10.8, -10.6, -10.4, -10.2, -10.0, -9.8, -9.6, -9.4, -9.2, -9.0, -8.8, -8.6, -8.4, -8.2, -8.0, -7.8, -7.6, -7.4, -7.2, -7.0, -6.8, -6.6, -6.4, -6.2, -6.0, -5.8, -5.6, -5.4, -5.2, -5.0, -4.8, -4.6, -4.4, -4.2, -4.0, -3.8, -3.6, -3.4, -3.2, -3.0, -2.8, -2.6, -2.4, -2.2, -2.0, -1.8, -1.6, -1.4, -1.2, -1.0, -0.8, -0.6, -0.4, -0.2, -0.0, 0.2, 0.4, 0.6, 0.8, 1.0, 1.2, 1.4, 1.6, 1.8, 2.0, 2.2, 2.4, 2.6, 2.8, 3.0, 3.2, 3.4, 3.6, 3.8, 4.0, 4.2, 4.4, 4.6, 4.8, 5.0, 5.2, 5.4, 5.6, 5.8, 6.0, 6.2, 6.4, 6.6, 6.8, 7.0, 7.2, 7.4, 7.6, 7.8, 8.0, 8.2, 8.4, 8.6, 8.8, 9.0, 9.2, 9.4, 9.6, 9.8, 10.0, 10.2, 10.4, 10.6, 10.8, 11.0, 11.2, 11.4, 11.6, 11.8, 12.0, 12.2, 12.4, 12.6, 12.8, 13.0, 13.2, 13.4, 13.6, 13.8, 14.0, 14.2, 14.4, 14.6, 14.8], is_ordered=True, sort_values=True), RangeParameter(name='omega45', parameter_type=FLOAT, range=[0.0, 10.0]), ChoiceParameter(name='det45', parameter_type=FLOAT, values=[-15.0, -14.8, -14.6, -14.4, -14.2, -14.0, -13.8, -13.6, -13.4, -13.2, -13.0, -12.8, -12.6, -12.4, -12.2, -12.0, -11.8, -11.6, -11.4, -11.2, -11.0, -10.8, -10.6, -10.4, -10.2, -10.0, -9.8, -9.6, -9.4, -9.2, -9.0, -8.8, -8.6, -8.4, -8.2, -8.0, -7.8, -7.6, -7.4, -7.2, -7.0, -6.8, -6.6, -6.4, -6.2, -6.0, -5.8, -5.6, -5.4, -5.2, -5.0, -4.8, -4.6, -4.4, -4.2, -4.0, -3.8, -3.6, -3.4, -3.2, -3.0, -2.8, -2.6, -2.4, -2.2, -2.0, -1.8, -1.6, -1.4, -1.2, -1.0, -0.8, -0.6, -0.4, -0.2, -0.0, 0.2, 0.4, 0.6, 0.8, 1.0, 1.2, 1.4, 1.6, 1.8, 2.0, 2.2, 2.4, 2.6, 2.8, 3.0, 3.2, 3.4, 3.6, 3.8, 4.0, 4.2, 4.4, 4.6, 4.8, 5.0, 5.2, 5.4, 5.6, 5.8, 6.0, 6.2, 6.4, 6.6, 6.8, 7.0, 7.2, 7.4, 7.6, 7.8, 8.0, 8.2, 8.4, 8.6, 8.8, 9.0, 9.2, 9.4, 9.6, 9.8, 10.0, 10.2, 10.4, 10.6, 10.8, 11.0, 11.2, 11.4, 11.6, 11.8, 12.0, 12.2, 12.4, 12.6, 12.8, 13.0, 13.2, 13.4, 13.6, 13.8, 14.0, 14.2, 14.4, 14.6, 14.8], is_ordered=True, sort_values=True), RangeParameter(name='omega46', parameter_type=FLOAT, range=[0.0, 10.0]), ChoiceParameter(name='det46', parameter_type=FLOAT, values=[-15.0, -14.8, -14.6, -14.4, -14.2, -14.0, -13.8, -13.6, -13.4, -13.2, -13.0, -12.8, -12.6, -12.4, -12.2, -12.0, -11.8, -11.6, -11.4, -11.2, -11.0, -10.8, -10.6, -10.4, -10.2, -10.0, -9.8, -9.6, -9.4, -9.2, -9.0, -8.8, -8.6, -8.4, -8.2, -8.0, -7.8, -7.6, -7.4, -7.2, -7.0, -6.8, -6.6, -6.4, -6.2, -6.0, -5.8, -5.6, -5.4, -5.2, -5.0, -4.8, -4.6, -4.4, -4.2, -4.0, -3.8, -3.6, -3.4, -3.2, -3.0, -2.8, -2.6, -2.4, -2.2, -2.0, -1.8, -1.6, -1.4, -1.2, -1.0, -0.8, -0.6, -0.4, -0.2, -0.0, 0.2, 0.4, 0.6, 0.8, 1.0, 1.2, 1.4, 1.6, 1.8, 2.0, 2.2, 2.4, 2.6, 2.8, 3.0, 3.2, 3.4, 3.6, 3.8, 4.0, 4.2, 4.4, 4.6, 4.8, 5.0, 5.2, 5.4, 5.6, 5.8, 6.0, 6.2, 6.4, 6.6, 6.8, 7.0, 7.2, 7.4, 7.6, 7.8, 8.0, 8.2, 8.4, 8.6, 8.8, 9.0, 9.2, 9.4, 9.6, 9.8, 10.0, 10.2, 10.4, 10.6, 10.8, 11.0, 11.2, 11.4, 11.6, 11.8, 12.0, 12.2, 12.4, 12.6, 12.8, 13.0, 13.2, 13.4, 13.6, 13.8, 14.0, 14.2, 14.4, 14.6, 14.8], is_ordered=True, sort_values=True), RangeParameter(name='omega47', parameter_type=FLOAT, range=[0.0, 10.0]), ChoiceParameter(name='det47', parameter_type=FLOAT, values=[-15.0, -14.8, -14.6, -14.4, -14.2, -14.0, -13.8, -13.6, -13.4, -13.2, -13.0, -12.8, -12.6, -12.4, -12.2, -12.0, -11.8, -11.6, -11.4, -11.2, -11.0, -10.8, -10.6, -10.4, -10.2, -10.0, -9.8, -9.6, -9.4, -9.2, -9.0, -8.8, -8.6, -8.4, -8.2, -8.0, -7.8, -7.6, -7.4, -7.2, -7.0, -6.8, -6.6, -6.4, -6.2, -6.0, -5.8, -5.6, -5.4, -5.2, -5.0, -4.8, -4.6, -4.4, -4.2, -4.0, -3.8, -3.6, -3.4, -3.2, -3.0, -2.8, -2.6, -2.4, -2.2, -2.0, -1.8, -1.6, -1.4, -1.2, -1.0, -0.8, -0.6, -0.4, -0.2, -0.0, 0.2, 0.4, 0.6, 0.8, 1.0, 1.2, 1.4, 1.6, 1.8, 2.0, 2.2, 2.4, 2.6, 2.8, 3.0, 3.2, 3.4, 3.6, 3.8, 4.0, 4.2, 4.4, 4.6, 4.8, 5.0, 5.2, 5.4, 5.6, 5.8, 6.0, 6.2, 6.4, 6.6, 6.8, 7.0, 7.2, 7.4, 7.6, 7.8, 8.0, 8.2, 8.4, 8.6, 8.8, 9.0, 9.2, 9.4, 9.6, 9.8, 10.0, 10.2, 10.4, 10.6, 10.8, 11.0, 11.2, 11.4, 11.6, 11.8, 12.0, 12.2, 12.4, 12.6, 12.8, 13.0, 13.2, 13.4, 13.6, 13.8, 14.0, 14.2, 14.4, 14.6, 14.8], is_ordered=True, sort_values=True), RangeParameter(name='omega48', parameter_type=FLOAT, range=[0.0, 10.0]), ChoiceParameter(name='det48', parameter_type=FLOAT, values=[-15.0, -14.8, -14.6, -14.4, -14.2, -14.0, -13.8, -13.6, -13.4, -13.2, -13.0, -12.8, -12.6, -12.4, -12.2, -12.0, -11.8, -11.6, -11.4, -11.2, -11.0, -10.8, -10.6, -10.4, -10.2, -10.0, -9.8, -9.6, -9.4, -9.2, -9.0, -8.8, -8.6, -8.4, -8.2, -8.0, -7.8, -7.6, -7.4, -7.2, -7.0, -6.8, -6.6, -6.4, -6.2, -6.0, -5.8, -5.6, -5.4, -5.2, -5.0, -4.8, -4.6, -4.4, -4.2, -4.0, -3.8, -3.6, -3.4, -3.2, -3.0, -2.8, -2.6, -2.4, -2.2, -2.0, -1.8, -1.6, -1.4, -1.2, -1.0, -0.8, -0.6, -0.4, -0.2, -0.0, 0.2, 0.4, 0.6, 0.8, 1.0, 1.2, 1.4, 1.6, 1.8, 2.0, 2.2, 2.4, 2.6, 2.8, 3.0, 3.2, 3.4, 3.6, 3.8, 4.0, 4.2, 4.4, 4.6, 4.8, 5.0, 5.2, 5.4, 5.6, 5.8, 6.0, 6.2, 6.4, 6.6, 6.8, 7.0, 7.2, 7.4, 7.6, 7.8, 8.0, 8.2, 8.4, 8.6, 8.8, 9.0, 9.2, 9.4, 9.6, 9.8, 10.0, 10.2, 10.4, 10.6, 10.8, 11.0, 11.2, 11.4, 11.6, 11.8, 12.0, 12.2, 12.4, 12.6, 12.8, 13.0, 13.2, 13.4, 13.6, 13.8, 14.0, 14.2, 14.4, 14.6, 14.8], is_ordered=True, sort_values=True), RangeParameter(name='omega49', parameter_type=FLOAT, range=[0.0, 10.0]), ChoiceParameter(name='det49', parameter_type=FLOAT, values=[-15.0, -14.8, -14.6, -14.4, -14.2, -14.0, -13.8, -13.6, -13.4, -13.2, -13.0, -12.8, -12.6, -12.4, -12.2, -12.0, -11.8, -11.6, -11.4, -11.2, -11.0, -10.8, -10.6, -10.4, -10.2, -10.0, -9.8, -9.6, -9.4, -9.2, -9.0, -8.8, -8.6, -8.4, -8.2, -8.0, -7.8, -7.6, -7.4, -7.2, -7.0, -6.8, -6.6, -6.4, -6.2, -6.0, -5.8, -5.6, -5.4, -5.2, -5.0, -4.8, -4.6, -4.4, -4.2, -4.0, -3.8, -3.6, -3.4, -3.2, -3.0, -2.8, -2.6, -2.4, -2.2, -2.0, -1.8, -1.6, -1.4, -1.2, -1.0, -0.8, -0.6, -0.4, -0.2, -0.0, 0.2, 0.4, 0.6, 0.8, 1.0, 1.2, 1.4, 1.6, 1.8, 2.0, 2.2, 2.4, 2.6, 2.8, 3.0, 3.2, 3.4, 3.6, 3.8, 4.0, 4.2, 4.4, 4.6, 4.8, 5.0, 5.2, 5.4, 5.6, 5.8, 6.0, 6.2, 6.4, 6.6, 6.8, 7.0, 7.2, 7.4, 7.6, 7.8, 8.0, 8.2, 8.4, 8.6, 8.8, 9.0, 9.2, 9.4, 9.6, 9.8, 10.0, 10.2, 10.4, 10.6, 10.8, 11.0, 11.2, 11.4, 11.6, 11.8, 12.0, 12.2, 12.4, 12.6, 12.8, 13.0, 13.2, 13.4, 13.6, 13.8, 14.0, 14.2, 14.4, 14.6, 14.8], is_ordered=True, sort_values=True), RangeParameter(name='omega50', parameter_type=FLOAT, range=[0.0, 10.0]), ChoiceParameter(name='det50', parameter_type=FLOAT, values=[-15.0, -14.8, -14.6, -14.4, -14.2, -14.0, -13.8, -13.6, -13.4, -13.2, -13.0, -12.8, -12.6, -12.4, -12.2, -12.0, -11.8, -11.6, -11.4, -11.2, -11.0, -10.8, -10.6, -10.4, -10.2, -10.0, -9.8, -9.6, -9.4, -9.2, -9.0, -8.8, -8.6, -8.4, -8.2, -8.0, -7.8, -7.6, -7.4, -7.2, -7.0, -6.8, -6.6, -6.4, -6.2, -6.0, -5.8, -5.6, -5.4, -5.2, -5.0, -4.8, -4.6, -4.4, -4.2, -4.0, -3.8, -3.6, -3.4, -3.2, -3.0, -2.8, -2.6, -2.4, -2.2, -2.0, -1.8, -1.6, -1.4, -1.2, -1.0, -0.8, -0.6, -0.4, -0.2, -0.0, 0.2, 0.4, 0.6, 0.8, 1.0, 1.2, 1.4, 1.6, 1.8, 2.0, 2.2, 2.4, 2.6, 2.8, 3.0, 3.2, 3.4, 3.6, 3.8, 4.0, 4.2, 4.4, 4.6, 4.8, 5.0, 5.2, 5.4, 5.6, 5.8, 6.0, 6.2, 6.4, 6.6, 6.8, 7.0, 7.2, 7.4, 7.6, 7.8, 8.0, 8.2, 8.4, 8.6, 8.8, 9.0, 9.2, 9.4, 9.6, 9.8, 10.0, 10.2, 10.4, 10.6, 10.8, 11.0, 11.2, 11.4, 11.6, 11.8, 12.0, 12.2, 12.4, 12.6, 12.8, 13.0, 13.2, 13.4, 13.6, 13.8, 14.0, 14.2, 14.4, 14.6, 14.8], is_ordered=True, sort_values=True), RangeParameter(name='omega51', parameter_type=FLOAT, range=[0.0, 10.0]), ChoiceParameter(name='det51', parameter_type=FLOAT, values=[-15.0, -14.8, -14.6, -14.4, -14.2, -14.0, -13.8, -13.6, -13.4, -13.2, -13.0, -12.8, -12.6, -12.4, -12.2, -12.0, -11.8, -11.6, -11.4, -11.2, -11.0, -10.8, -10.6, -10.4, -10.2, -10.0, -9.8, -9.6, -9.4, -9.2, -9.0, -8.8, -8.6, -8.4, -8.2, -8.0, -7.8, -7.6, -7.4, -7.2, -7.0, -6.8, -6.6, -6.4, -6.2, -6.0, -5.8, -5.6, -5.4, -5.2, -5.0, -4.8, -4.6, -4.4, -4.2, -4.0, -3.8, -3.6, -3.4, -3.2, -3.0, -2.8, -2.6, -2.4, -2.2, -2.0, -1.8, -1.6, -1.4, -1.2, -1.0, -0.8, -0.6, -0.4, -0.2, -0.0, 0.2, 0.4, 0.6, 0.8, 1.0, 1.2, 1.4, 1.6, 1.8, 2.0, 2.2, 2.4, 2.6, 2.8, 3.0, 3.2, 3.4, 3.6, 3.8, 4.0, 4.2, 4.4, 4.6, 4.8, 5.0, 5.2, 5.4, 5.6, 5.8, 6.0, 6.2, 6.4, 6.6, 6.8, 7.0, 7.2, 7.4, 7.6, 7.8, 8.0, 8.2, 8.4, 8.6, 8.8, 9.0, 9.2, 9.4, 9.6, 9.8, 10.0, 10.2, 10.4, 10.6, 10.8, 11.0, 11.2, 11.4, 11.6, 11.8, 12.0, 12.2, 12.4, 12.6, 12.8, 13.0, 13.2, 13.4, 13.6, 13.8, 14.0, 14.2, 14.4, 14.6, 14.8], is_ordered=True, sort_values=True), RangeParameter(name='omega52', parameter_type=FLOAT, range=[0.0, 10.0]), ChoiceParameter(name='det52', parameter_type=FLOAT, values=[-15.0, -14.8, -14.6, -14.4, -14.2, -14.0, -13.8, -13.6, -13.4, -13.2, -13.0, -12.8, -12.6, -12.4, -12.2, -12.0, -11.8, -11.6, -11.4, -11.2, -11.0, -10.8, -10.6, -10.4, -10.2, -10.0, -9.8, -9.6, -9.4, -9.2, -9.0, -8.8, -8.6, -8.4, -8.2, -8.0, -7.8, -7.6, -7.4, -7.2, -7.0, -6.8, -6.6, -6.4, -6.2, -6.0, -5.8, -5.6, -5.4, -5.2, -5.0, -4.8, -4.6, -4.4, -4.2, -4.0, -3.8, -3.6, -3.4, -3.2, -3.0, -2.8, -2.6, -2.4, -2.2, -2.0, -1.8, -1.6, -1.4, -1.2, -1.0, -0.8, -0.6, -0.4, -0.2, -0.0, 0.2, 0.4, 0.6, 0.8, 1.0, 1.2, 1.4, 1.6, 1.8, 2.0, 2.2, 2.4, 2.6, 2.8, 3.0, 3.2, 3.4, 3.6, 3.8, 4.0, 4.2, 4.4, 4.6, 4.8, 5.0, 5.2, 5.4, 5.6, 5.8, 6.0, 6.2, 6.4, 6.6, 6.8, 7.0, 7.2, 7.4, 7.6, 7.8, 8.0, 8.2, 8.4, 8.6, 8.8, 9.0, 9.2, 9.4, 9.6, 9.8, 10.0, 10.2, 10.4, 10.6, 10.8, 11.0, 11.2, 11.4, 11.6, 11.8, 12.0, 12.2, 12.4, 12.6, 12.8, 13.0, 13.2, 13.4, 13.6, 13.8, 14.0, 14.2, 14.4, 14.6, 14.8], is_ordered=True, sort_values=True), RangeParameter(name='omega53', parameter_type=FLOAT, range=[0.0, 10.0]), ChoiceParameter(name='det53', parameter_type=FLOAT, values=[-15.0, -14.8, -14.6, -14.4, -14.2, -14.0, -13.8, -13.6, -13.4, -13.2, -13.0, -12.8, -12.6, -12.4, -12.2, -12.0, -11.8, -11.6, -11.4, -11.2, -11.0, -10.8, -10.6, -10.4, -10.2, -10.0, -9.8, -9.6, -9.4, -9.2, -9.0, -8.8, -8.6, -8.4, -8.2, -8.0, -7.8, -7.6, -7.4, -7.2, -7.0, -6.8, -6.6, -6.4, -6.2, -6.0, -5.8, -5.6, -5.4, -5.2, -5.0, -4.8, -4.6, -4.4, -4.2, -4.0, -3.8, -3.6, -3.4, -3.2, -3.0, -2.8, -2.6, -2.4, -2.2, -2.0, -1.8, -1.6, -1.4, -1.2, -1.0, -0.8, -0.6, -0.4, -0.2, -0.0, 0.2, 0.4, 0.6, 0.8, 1.0, 1.2, 1.4, 1.6, 1.8, 2.0, 2.2, 2.4, 2.6, 2.8, 3.0, 3.2, 3.4, 3.6, 3.8, 4.0, 4.2, 4.4, 4.6, 4.8, 5.0, 5.2, 5.4, 5.6, 5.8, 6.0, 6.2, 6.4, 6.6, 6.8, 7.0, 7.2, 7.4, 7.6, 7.8, 8.0, 8.2, 8.4, 8.6, 8.8, 9.0, 9.2, 9.4, 9.6, 9.8, 10.0, 10.2, 10.4, 10.6, 10.8, 11.0, 11.2, 11.4, 11.6, 11.8, 12.0, 12.2, 12.4, 12.6, 12.8, 13.0, 13.2, 13.4, 13.6, 13.8, 14.0, 14.2, 14.4, 14.6, 14.8], is_ordered=True, sort_values=True), RangeParameter(name='omega54', parameter_type=FLOAT, range=[0.0, 10.0]), ChoiceParameter(name='det54', parameter_type=FLOAT, values=[-15.0, -14.8, -14.6, -14.4, -14.2, -14.0, -13.8, -13.6, -13.4, -13.2, -13.0, -12.8, -12.6, -12.4, -12.2, -12.0, -11.8, -11.6, -11.4, -11.2, -11.0, -10.8, -10.6, -10.4, -10.2, -10.0, -9.8, -9.6, -9.4, -9.2, -9.0, -8.8, -8.6, -8.4, -8.2, -8.0, -7.8, -7.6, -7.4, -7.2, -7.0, -6.8, -6.6, -6.4, -6.2, -6.0, -5.8, -5.6, -5.4, -5.2, -5.0, -4.8, -4.6, -4.4, -4.2, -4.0, -3.8, -3.6, -3.4, -3.2, -3.0, -2.8, -2.6, -2.4, -2.2, -2.0, -1.8, -1.6, -1.4, -1.2, -1.0, -0.8, -0.6, -0.4, -0.2, -0.0, 0.2, 0.4, 0.6, 0.8, 1.0, 1.2, 1.4, 1.6, 1.8, 2.0, 2.2, 2.4, 2.6, 2.8, 3.0, 3.2, 3.4, 3.6, 3.8, 4.0, 4.2, 4.4, 4.6, 4.8, 5.0, 5.2, 5.4, 5.6, 5.8, 6.0, 6.2, 6.4, 6.6, 6.8, 7.0, 7.2, 7.4, 7.6, 7.8, 8.0, 8.2, 8.4, 8.6, 8.8, 9.0, 9.2, 9.4, 9.6, 9.8, 10.0, 10.2, 10.4, 10.6, 10.8, 11.0, 11.2, 11.4, 11.6, 11.8, 12.0, 12.2, 12.4, 12.6, 12.8, 13.0, 13.2, 13.4, 13.6, 13.8, 14.0, 14.2, 14.4, 14.6, 14.8], is_ordered=True, sort_values=True), RangeParameter(name='omega55', parameter_type=FLOAT, range=[0.0, 10.0]), ChoiceParameter(name='det55', parameter_type=FLOAT, values=[-15.0, -14.8, -14.6, -14.4, -14.2, -14.0, -13.8, -13.6, -13.4, -13.2, -13.0, -12.8, -12.6, -12.4, -12.2, -12.0, -11.8, -11.6, -11.4, -11.2, -11.0, -10.8, -10.6, -10.4, -10.2, -10.0, -9.8, -9.6, -9.4, -9.2, -9.0, -8.8, -8.6, -8.4, -8.2, -8.0, -7.8, -7.6, -7.4, -7.2, -7.0, -6.8, -6.6, -6.4, -6.2, -6.0, -5.8, -5.6, -5.4, -5.2, -5.0, -4.8, -4.6, -4.4, -4.2, -4.0, -3.8, -3.6, -3.4, -3.2, -3.0, -2.8, -2.6, -2.4, -2.2, -2.0, -1.8, -1.6, -1.4, -1.2, -1.0, -0.8, -0.6, -0.4, -0.2, -0.0, 0.2, 0.4, 0.6, 0.8, 1.0, 1.2, 1.4, 1.6, 1.8, 2.0, 2.2, 2.4, 2.6, 2.8, 3.0, 3.2, 3.4, 3.6, 3.8, 4.0, 4.2, 4.4, 4.6, 4.8, 5.0, 5.2, 5.4, 5.6, 5.8, 6.0, 6.2, 6.4, 6.6, 6.8, 7.0, 7.2, 7.4, 7.6, 7.8, 8.0, 8.2, 8.4, 8.6, 8.8, 9.0, 9.2, 9.4, 9.6, 9.8, 10.0, 10.2, 10.4, 10.6, 10.8, 11.0, 11.2, 11.4, 11.6, 11.8, 12.0, 12.2, 12.4, 12.6, 12.8, 13.0, 13.2, 13.4, 13.6, 13.8, 14.0, 14.2, 14.4, 14.6, 14.8], is_ordered=True, sort_values=True), RangeParameter(name='omega56', parameter_type=FLOAT, range=[0.0, 10.0]), ChoiceParameter(name='det56', parameter_type=FLOAT, values=[-15.0, -14.8, -14.6, -14.4, -14.2, -14.0, -13.8, -13.6, -13.4, -13.2, -13.0, -12.8, -12.6, -12.4, -12.2, -12.0, -11.8, -11.6, -11.4, -11.2, -11.0, -10.8, -10.6, -10.4, -10.2, -10.0, -9.8, -9.6, -9.4, -9.2, -9.0, -8.8, -8.6, -8.4, -8.2, -8.0, -7.8, -7.6, -7.4, -7.2, -7.0, -6.8, -6.6, -6.4, -6.2, -6.0, -5.8, -5.6, -5.4, -5.2, -5.0, -4.8, -4.6, -4.4, -4.2, -4.0, -3.8, -3.6, -3.4, -3.2, -3.0, -2.8, -2.6, -2.4, -2.2, -2.0, -1.8, -1.6, -1.4, -1.2, -1.0, -0.8, -0.6, -0.4, -0.2, -0.0, 0.2, 0.4, 0.6, 0.8, 1.0, 1.2, 1.4, 1.6, 1.8, 2.0, 2.2, 2.4, 2.6, 2.8, 3.0, 3.2, 3.4, 3.6, 3.8, 4.0, 4.2, 4.4, 4.6, 4.8, 5.0, 5.2, 5.4, 5.6, 5.8, 6.0, 6.2, 6.4, 6.6, 6.8, 7.0, 7.2, 7.4, 7.6, 7.8, 8.0, 8.2, 8.4, 8.6, 8.8, 9.0, 9.2, 9.4, 9.6, 9.8, 10.0, 10.2, 10.4, 10.6, 10.8, 11.0, 11.2, 11.4, 11.6, 11.8, 12.0, 12.2, 12.4, 12.6, 12.8, 13.0, 13.2, 13.4, 13.6, 13.8, 14.0, 14.2, 14.4, 14.6, 14.8], is_ordered=True, sort_values=True), RangeParameter(name='omega57', parameter_type=FLOAT, range=[0.0, 10.0]), ChoiceParameter(name='det57', parameter_type=FLOAT, values=[-15.0, -14.8, -14.6, -14.4, -14.2, -14.0, -13.8, -13.6, -13.4, -13.2, -13.0, -12.8, -12.6, -12.4, -12.2, -12.0, -11.8, -11.6, -11.4, -11.2, -11.0, -10.8, -10.6, -10.4, -10.2, -10.0, -9.8, -9.6, -9.4, -9.2, -9.0, -8.8, -8.6, -8.4, -8.2, -8.0, -7.8, -7.6, -7.4, -7.2, -7.0, -6.8, -6.6, -6.4, -6.2, -6.0, -5.8, -5.6, -5.4, -5.2, -5.0, -4.8, -4.6, -4.4, -4.2, -4.0, -3.8, -3.6, -3.4, -3.2, -3.0, -2.8, -2.6, -2.4, -2.2, -2.0, -1.8, -1.6, -1.4, -1.2, -1.0, -0.8, -0.6, -0.4, -0.2, -0.0, 0.2, 0.4, 0.6, 0.8, 1.0, 1.2, 1.4, 1.6, 1.8, 2.0, 2.2, 2.4, 2.6, 2.8, 3.0, 3.2, 3.4, 3.6, 3.8, 4.0, 4.2, 4.4, 4.6, 4.8, 5.0, 5.2, 5.4, 5.6, 5.8, 6.0, 6.2, 6.4, 6.6, 6.8, 7.0, 7.2, 7.4, 7.6, 7.8, 8.0, 8.2, 8.4, 8.6, 8.8, 9.0, 9.2, 9.4, 9.6, 9.8, 10.0, 10.2, 10.4, 10.6, 10.8, 11.0, 11.2, 11.4, 11.6, 11.8, 12.0, 12.2, 12.4, 12.6, 12.8, 13.0, 13.2, 13.4, 13.6, 13.8, 14.0, 14.2, 14.4, 14.6, 14.8], is_ordered=True, sort_values=True), RangeParameter(name='omega58', parameter_type=FLOAT, range=[0.0, 10.0]), ChoiceParameter(name='det58', parameter_type=FLOAT, values=[-15.0, -14.8, -14.6, -14.4, -14.2, -14.0, -13.8, -13.6, -13.4, -13.2, -13.0, -12.8, -12.6, -12.4, -12.2, -12.0, -11.8, -11.6, -11.4, -11.2, -11.0, -10.8, -10.6, -10.4, -10.2, -10.0, -9.8, -9.6, -9.4, -9.2, -9.0, -8.8, -8.6, -8.4, -8.2, -8.0, -7.8, -7.6, -7.4, -7.2, -7.0, -6.8, -6.6, -6.4, -6.2, -6.0, -5.8, -5.6, -5.4, -5.2, -5.0, -4.8, -4.6, -4.4, -4.2, -4.0, -3.8, -3.6, -3.4, -3.2, -3.0, -2.8, -2.6, -2.4, -2.2, -2.0, -1.8, -1.6, -1.4, -1.2, -1.0, -0.8, -0.6, -0.4, -0.2, -0.0, 0.2, 0.4, 0.6, 0.8, 1.0, 1.2, 1.4, 1.6, 1.8, 2.0, 2.2, 2.4, 2.6, 2.8, 3.0, 3.2, 3.4, 3.6, 3.8, 4.0, 4.2, 4.4, 4.6, 4.8, 5.0, 5.2, 5.4, 5.6, 5.8, 6.0, 6.2, 6.4, 6.6, 6.8, 7.0, 7.2, 7.4, 7.6, 7.8, 8.0, 8.2, 8.4, 8.6, 8.8, 9.0, 9.2, 9.4, 9.6, 9.8, 10.0, 10.2, 10.4, 10.6, 10.8, 11.0, 11.2, 11.4, 11.6, 11.8, 12.0, 12.2, 12.4, 12.6, 12.8, 13.0, 13.2, 13.4, 13.6, 13.8, 14.0, 14.2, 14.4, 14.6, 14.8], is_ordered=True, sort_values=True), RangeParameter(name='omega59', parameter_type=FLOAT, range=[0.0, 10.0]), ChoiceParameter(name='det59', parameter_type=FLOAT, values=[-15.0, -14.8, -14.6, -14.4, -14.2, -14.0, -13.8, -13.6, -13.4, -13.2, -13.0, -12.8, -12.6, -12.4, -12.2, -12.0, -11.8, -11.6, -11.4, -11.2, -11.0, -10.8, -10.6, -10.4, -10.2, -10.0, -9.8, -9.6, -9.4, -9.2, -9.0, -8.8, -8.6, -8.4, -8.2, -8.0, -7.8, -7.6, -7.4, -7.2, -7.0, -6.8, -6.6, -6.4, -6.2, -6.0, -5.8, -5.6, -5.4, -5.2, -5.0, -4.8, -4.6, -4.4, -4.2, -4.0, -3.8, -3.6, -3.4, -3.2, -3.0, -2.8, -2.6, -2.4, -2.2, -2.0, -1.8, -1.6, -1.4, -1.2, -1.0, -0.8, -0.6, -0.4, -0.2, -0.0, 0.2, 0.4, 0.6, 0.8, 1.0, 1.2, 1.4, 1.6, 1.8, 2.0, 2.2, 2.4, 2.6, 2.8, 3.0, 3.2, 3.4, 3.6, 3.8, 4.0, 4.2, 4.4, 4.6, 4.8, 5.0, 5.2, 5.4, 5.6, 5.8, 6.0, 6.2, 6.4, 6.6, 6.8, 7.0, 7.2, 7.4, 7.6, 7.8, 8.0, 8.2, 8.4, 8.6, 8.8, 9.0, 9.2, 9.4, 9.6, 9.8, 10.0, 10.2, 10.4, 10.6, 10.8, 11.0, 11.2, 11.4, 11.6, 11.8, 12.0, 12.2, 12.4, 12.6, 12.8, 13.0, 13.2, 13.4, 13.6, 13.8, 14.0, 14.2, 14.4, 14.6, 14.8], is_ordered=True, sort_values=True), RangeParameter(name='omega60', parameter_type=FLOAT, range=[0.0, 10.0]), ChoiceParameter(name='det60', parameter_type=FLOAT, values=[-15.0, -14.8, -14.6, -14.4, -14.2, -14.0, -13.8, -13.6, -13.4, -13.2, -13.0, -12.8, -12.6, -12.4, -12.2, -12.0, -11.8, -11.6, -11.4, -11.2, -11.0, -10.8, -10.6, -10.4, -10.2, -10.0, -9.8, -9.6, -9.4, -9.2, -9.0, -8.8, -8.6, -8.4, -8.2, -8.0, -7.8, -7.6, -7.4, -7.2, -7.0, -6.8, -6.6, -6.4, -6.2, -6.0, -5.8, -5.6, -5.4, -5.2, -5.0, -4.8, -4.6, -4.4, -4.2, -4.0, -3.8, -3.6, -3.4, -3.2, -3.0, -2.8, -2.6, -2.4, -2.2, -2.0, -1.8, -1.6, -1.4, -1.2, -1.0, -0.8, -0.6, -0.4, -0.2, -0.0, 0.2, 0.4, 0.6, 0.8, 1.0, 1.2, 1.4, 1.6, 1.8, 2.0, 2.2, 2.4, 2.6, 2.8, 3.0, 3.2, 3.4, 3.6, 3.8, 4.0, 4.2, 4.4, 4.6, 4.8, 5.0, 5.2, 5.4, 5.6, 5.8, 6.0, 6.2, 6.4, 6.6, 6.8, 7.0, 7.2, 7.4, 7.6, 7.8, 8.0, 8.2, 8.4, 8.6, 8.8, 9.0, 9.2, 9.4, 9.6, 9.8, 10.0, 10.2, 10.4, 10.6, 10.8, 11.0, 11.2, 11.4, 11.6, 11.8, 12.0, 12.2, 12.4, 12.6, 12.8, 13.0, 13.2, 13.4, 13.6, 13.8, 14.0, 14.2, 14.4, 14.6, 14.8], is_ordered=True, sort_values=True), RangeParameter(name='omega61', parameter_type=FLOAT, range=[0.0, 10.0]), ChoiceParameter(name='det61', parameter_type=FLOAT, values=[-15.0, -14.8, -14.6, -14.4, -14.2, -14.0, -13.8, -13.6, -13.4, -13.2, -13.0, -12.8, -12.6, -12.4, -12.2, -12.0, -11.8, -11.6, -11.4, -11.2, -11.0, -10.8, -10.6, -10.4, -10.2, -10.0, -9.8, -9.6, -9.4, -9.2, -9.0, -8.8, -8.6, -8.4, -8.2, -8.0, -7.8, -7.6, -7.4, -7.2, -7.0, -6.8, -6.6, -6.4, -6.2, -6.0, -5.8, -5.6, -5.4, -5.2, -5.0, -4.8, -4.6, -4.4, -4.2, -4.0, -3.8, -3.6, -3.4, -3.2, -3.0, -2.8, -2.6, -2.4, -2.2, -2.0, -1.8, -1.6, -1.4, -1.2, -1.0, -0.8, -0.6, -0.4, -0.2, -0.0, 0.2, 0.4, 0.6, 0.8, 1.0, 1.2, 1.4, 1.6, 1.8, 2.0, 2.2, 2.4, 2.6, 2.8, 3.0, 3.2, 3.4, 3.6, 3.8, 4.0, 4.2, 4.4, 4.6, 4.8, 5.0, 5.2, 5.4, 5.6, 5.8, 6.0, 6.2, 6.4, 6.6, 6.8, 7.0, 7.2, 7.4, 7.6, 7.8, 8.0, 8.2, 8.4, 8.6, 8.8, 9.0, 9.2, 9.4, 9.6, 9.8, 10.0, 10.2, 10.4, 10.6, 10.8, 11.0, 11.2, 11.4, 11.6, 11.8, 12.0, 12.2, 12.4, 12.6, 12.8, 13.0, 13.2, 13.4, 13.6, 13.8, 14.0, 14.2, 14.4, 14.6, 14.8], is_ordered=True, sort_values=True), RangeParameter(name='omega62', parameter_type=FLOAT, range=[0.0, 10.0]), ChoiceParameter(name='det62', parameter_type=FLOAT, values=[-15.0, -14.8, -14.6, -14.4, -14.2, -14.0, -13.8, -13.6, -13.4, -13.2, -13.0, -12.8, -12.6, -12.4, -12.2, -12.0, -11.8, -11.6, -11.4, -11.2, -11.0, -10.8, -10.6, -10.4, -10.2, -10.0, -9.8, -9.6, -9.4, -9.2, -9.0, -8.8, -8.6, -8.4, -8.2, -8.0, -7.8, -7.6, -7.4, -7.2, -7.0, -6.8, -6.6, -6.4, -6.2, -6.0, -5.8, -5.6, -5.4, -5.2, -5.0, -4.8, -4.6, -4.4, -4.2, -4.0, -3.8, -3.6, -3.4, -3.2, -3.0, -2.8, -2.6, -2.4, -2.2, -2.0, -1.8, -1.6, -1.4, -1.2, -1.0, -0.8, -0.6, -0.4, -0.2, -0.0, 0.2, 0.4, 0.6, 0.8, 1.0, 1.2, 1.4, 1.6, 1.8, 2.0, 2.2, 2.4, 2.6, 2.8, 3.0, 3.2, 3.4, 3.6, 3.8, 4.0, 4.2, 4.4, 4.6, 4.8, 5.0, 5.2, 5.4, 5.6, 5.8, 6.0, 6.2, 6.4, 6.6, 6.8, 7.0, 7.2, 7.4, 7.6, 7.8, 8.0, 8.2, 8.4, 8.6, 8.8, 9.0, 9.2, 9.4, 9.6, 9.8, 10.0, 10.2, 10.4, 10.6, 10.8, 11.0, 11.2, 11.4, 11.6, 11.8, 12.0, 12.2, 12.4, 12.6, 12.8, 13.0, 13.2, 13.4, 13.6, 13.8, 14.0, 14.2, 14.4, 14.6, 14.8], is_ordered=True, sort_values=True), RangeParameter(name='omega63', parameter_type=FLOAT, range=[0.0, 10.0]), ChoiceParameter(name='det63', parameter_type=FLOAT, values=[-15.0, -14.8, -14.6, -14.4, -14.2, -14.0, -13.8, -13.6, -13.4, -13.2, -13.0, -12.8, -12.6, -12.4, -12.2, -12.0, -11.8, -11.6, -11.4, -11.2, -11.0, -10.8, -10.6, -10.4, -10.2, -10.0, -9.8, -9.6, -9.4, -9.2, -9.0, -8.8, -8.6, -8.4, -8.2, -8.0, -7.8, -7.6, -7.4, -7.2, -7.0, -6.8, -6.6, -6.4, -6.2, -6.0, -5.8, -5.6, -5.4, -5.2, -5.0, -4.8, -4.6, -4.4, -4.2, -4.0, -3.8, -3.6, -3.4, -3.2, -3.0, -2.8, -2.6, -2.4, -2.2, -2.0, -1.8, -1.6, -1.4, -1.2, -1.0, -0.8, -0.6, -0.4, -0.2, -0.0, 0.2, 0.4, 0.6, 0.8, 1.0, 1.2, 1.4, 1.6, 1.8, 2.0, 2.2, 2.4, 2.6, 2.8, 3.0, 3.2, 3.4, 3.6, 3.8, 4.0, 4.2, 4.4, 4.6, 4.8, 5.0, 5.2, 5.4, 5.6, 5.8, 6.0, 6.2, 6.4, 6.6, 6.8, 7.0, 7.2, 7.4, 7.6, 7.8, 8.0, 8.2, 8.4, 8.6, 8.8, 9.0, 9.2, 9.4, 9.6, 9.8, 10.0, 10.2, 10.4, 10.6, 10.8, 11.0, 11.2, 11.4, 11.6, 11.8, 12.0, 12.2, 12.4, 12.6, 12.8, 13.0, 13.2, 13.4, 13.6, 13.8, 14.0, 14.2, 14.4, 14.6, 14.8], is_ordered=True, sort_values=True), RangeParameter(name='omega64', parameter_type=FLOAT, range=[0.0, 10.0]), ChoiceParameter(name='det64', parameter_type=FLOAT, values=[-15.0, -14.8, -14.6, -14.4, -14.2, -14.0, -13.8, -13.6, -13.4, -13.2, -13.0, -12.8, -12.6, -12.4, -12.2, -12.0, -11.8, -11.6, -11.4, -11.2, -11.0, -10.8, -10.6, -10.4, -10.2, -10.0, -9.8, -9.6, -9.4, -9.2, -9.0, -8.8, -8.6, -8.4, -8.2, -8.0, -7.8, -7.6, -7.4, -7.2, -7.0, -6.8, -6.6, -6.4, -6.2, -6.0, -5.8, -5.6, -5.4, -5.2, -5.0, -4.8, -4.6, -4.4, -4.2, -4.0, -3.8, -3.6, -3.4, -3.2, -3.0, -2.8, -2.6, -2.4, -2.2, -2.0, -1.8, -1.6, -1.4, -1.2, -1.0, -0.8, -0.6, -0.4, -0.2, -0.0, 0.2, 0.4, 0.6, 0.8, 1.0, 1.2, 1.4, 1.6, 1.8, 2.0, 2.2, 2.4, 2.6, 2.8, 3.0, 3.2, 3.4, 3.6, 3.8, 4.0, 4.2, 4.4, 4.6, 4.8, 5.0, 5.2, 5.4, 5.6, 5.8, 6.0, 6.2, 6.4, 6.6, 6.8, 7.0, 7.2, 7.4, 7.6, 7.8, 8.0, 8.2, 8.4, 8.6, 8.8, 9.0, 9.2, 9.4, 9.6, 9.8, 10.0, 10.2, 10.4, 10.6, 10.8, 11.0, 11.2, 11.4, 11.6, 11.8, 12.0, 12.2, 12.4, 12.6, 12.8, 13.0, 13.2, 13.4, 13.6, 13.8, 14.0, 14.2, 14.4, 14.6, 14.8], is_ordered=True, sort_values=True), RangeParameter(name='omega65', parameter_type=FLOAT, range=[0.0, 10.0]), ChoiceParameter(name='det65', parameter_type=FLOAT, values=[-15.0, -14.8, -14.6, -14.4, -14.2, -14.0, -13.8, -13.6, -13.4, -13.2, -13.0, -12.8, -12.6, -12.4, -12.2, -12.0, -11.8, -11.6, -11.4, -11.2, -11.0, -10.8, -10.6, -10.4, -10.2, -10.0, -9.8, -9.6, -9.4, -9.2, -9.0, -8.8, -8.6, -8.4, -8.2, -8.0, -7.8, -7.6, -7.4, -7.2, -7.0, -6.8, -6.6, -6.4, -6.2, -6.0, -5.8, -5.6, -5.4, -5.2, -5.0, -4.8, -4.6, -4.4, -4.2, -4.0, -3.8, -3.6, -3.4, -3.2, -3.0, -2.8, -2.6, -2.4, -2.2, -2.0, -1.8, -1.6, -1.4, -1.2, -1.0, -0.8, -0.6, -0.4, -0.2, -0.0, 0.2, 0.4, 0.6, 0.8, 1.0, 1.2, 1.4, 1.6, 1.8, 2.0, 2.2, 2.4, 2.6, 2.8, 3.0, 3.2, 3.4, 3.6, 3.8, 4.0, 4.2, 4.4, 4.6, 4.8, 5.0, 5.2, 5.4, 5.6, 5.8, 6.0, 6.2, 6.4, 6.6, 6.8, 7.0, 7.2, 7.4, 7.6, 7.8, 8.0, 8.2, 8.4, 8.6, 8.8, 9.0, 9.2, 9.4, 9.6, 9.8, 10.0, 10.2, 10.4, 10.6, 10.8, 11.0, 11.2, 11.4, 11.6, 11.8, 12.0, 12.2, 12.4, 12.6, 12.8, 13.0, 13.2, 13.4, 13.6, 13.8, 14.0, 14.2, 14.4, 14.6, 14.8], is_ordered=True, sort_values=True), RangeParameter(name='omega66', parameter_type=FLOAT, range=[0.0, 10.0]), ChoiceParameter(name='det66', parameter_type=FLOAT, values=[-15.0, -14.8, -14.6, -14.4, -14.2, -14.0, -13.8, -13.6, -13.4, -13.2, -13.0, -12.8, -12.6, -12.4, -12.2, -12.0, -11.8, -11.6, -11.4, -11.2, -11.0, -10.8, -10.6, -10.4, -10.2, -10.0, -9.8, -9.6, -9.4, -9.2, -9.0, -8.8, -8.6, -8.4, -8.2, -8.0, -7.8, -7.6, -7.4, -7.2, -7.0, -6.8, -6.6, -6.4, -6.2, -6.0, -5.8, -5.6, -5.4, -5.2, -5.0, -4.8, -4.6, -4.4, -4.2, -4.0, -3.8, -3.6, -3.4, -3.2, -3.0, -2.8, -2.6, -2.4, -2.2, -2.0, -1.8, -1.6, -1.4, -1.2, -1.0, -0.8, -0.6, -0.4, -0.2, -0.0, 0.2, 0.4, 0.6, 0.8, 1.0, 1.2, 1.4, 1.6, 1.8, 2.0, 2.2, 2.4, 2.6, 2.8, 3.0, 3.2, 3.4, 3.6, 3.8, 4.0, 4.2, 4.4, 4.6, 4.8, 5.0, 5.2, 5.4, 5.6, 5.8, 6.0, 6.2, 6.4, 6.6, 6.8, 7.0, 7.2, 7.4, 7.6, 7.8, 8.0, 8.2, 8.4, 8.6, 8.8, 9.0, 9.2, 9.4, 9.6, 9.8, 10.0, 10.2, 10.4, 10.6, 10.8, 11.0, 11.2, 11.4, 11.6, 11.8, 12.0, 12.2, 12.4, 12.6, 12.8, 13.0, 13.2, 13.4, 13.6, 13.8, 14.0, 14.2, 14.4, 14.6, 14.8], is_ordered=True, sort_values=True), RangeParameter(name='omega67', parameter_type=FLOAT, range=[0.0, 10.0]), ChoiceParameter(name='det67', parameter_type=FLOAT, values=[-15.0, -14.8, -14.6, -14.4, -14.2, -14.0, -13.8, -13.6, -13.4, -13.2, -13.0, -12.8, -12.6, -12.4, -12.2, -12.0, -11.8, -11.6, -11.4, -11.2, -11.0, -10.8, -10.6, -10.4, -10.2, -10.0, -9.8, -9.6, -9.4, -9.2, -9.0, -8.8, -8.6, -8.4, -8.2, -8.0, -7.8, -7.6, -7.4, -7.2, -7.0, -6.8, -6.6, -6.4, -6.2, -6.0, -5.8, -5.6, -5.4, -5.2, -5.0, -4.8, -4.6, -4.4, -4.2, -4.0, -3.8, -3.6, -3.4, -3.2, -3.0, -2.8, -2.6, -2.4, -2.2, -2.0, -1.8, -1.6, -1.4, -1.2, -1.0, -0.8, -0.6, -0.4, -0.2, -0.0, 0.2, 0.4, 0.6, 0.8, 1.0, 1.2, 1.4, 1.6, 1.8, 2.0, 2.2, 2.4, 2.6, 2.8, 3.0, 3.2, 3.4, 3.6, 3.8, 4.0, 4.2, 4.4, 4.6, 4.8, 5.0, 5.2, 5.4, 5.6, 5.8, 6.0, 6.2, 6.4, 6.6, 6.8, 7.0, 7.2, 7.4, 7.6, 7.8, 8.0, 8.2, 8.4, 8.6, 8.8, 9.0, 9.2, 9.4, 9.6, 9.8, 10.0, 10.2, 10.4, 10.6, 10.8, 11.0, 11.2, 11.4, 11.6, 11.8, 12.0, 12.2, 12.4, 12.6, 12.8, 13.0, 13.2, 13.4, 13.6, 13.8, 14.0, 14.2, 14.4, 14.6, 14.8], is_ordered=True, sort_values=True), RangeParameter(name='omega68', parameter_type=FLOAT, range=[0.0, 10.0]), ChoiceParameter(name='det68', parameter_type=FLOAT, values=[-15.0, -14.8, -14.6, -14.4, -14.2, -14.0, -13.8, -13.6, -13.4, -13.2, -13.0, -12.8, -12.6, -12.4, -12.2, -12.0, -11.8, -11.6, -11.4, -11.2, -11.0, -10.8, -10.6, -10.4, -10.2, -10.0, -9.8, -9.6, -9.4, -9.2, -9.0, -8.8, -8.6, -8.4, -8.2, -8.0, -7.8, -7.6, -7.4, -7.2, -7.0, -6.8, -6.6, -6.4, -6.2, -6.0, -5.8, -5.6, -5.4, -5.2, -5.0, -4.8, -4.6, -4.4, -4.2, -4.0, -3.8, -3.6, -3.4, -3.2, -3.0, -2.8, -2.6, -2.4, -2.2, -2.0, -1.8, -1.6, -1.4, -1.2, -1.0, -0.8, -0.6, -0.4, -0.2, -0.0, 0.2, 0.4, 0.6, 0.8, 1.0, 1.2, 1.4, 1.6, 1.8, 2.0, 2.2, 2.4, 2.6, 2.8, 3.0, 3.2, 3.4, 3.6, 3.8, 4.0, 4.2, 4.4, 4.6, 4.8, 5.0, 5.2, 5.4, 5.6, 5.8, 6.0, 6.2, 6.4, 6.6, 6.8, 7.0, 7.2, 7.4, 7.6, 7.8, 8.0, 8.2, 8.4, 8.6, 8.8, 9.0, 9.2, 9.4, 9.6, 9.8, 10.0, 10.2, 10.4, 10.6, 10.8, 11.0, 11.2, 11.4, 11.6, 11.8, 12.0, 12.2, 12.4, 12.6, 12.8, 13.0, 13.2, 13.4, 13.6, 13.8, 14.0, 14.2, 14.4, 14.6, 14.8], is_ordered=True, sort_values=True), RangeParameter(name='omega69', parameter_type=FLOAT, range=[0.0, 10.0]), ChoiceParameter(name='det69', parameter_type=FLOAT, values=[-15.0, -14.8, -14.6, -14.4, -14.2, -14.0, -13.8, -13.6, -13.4, -13.2, -13.0, -12.8, -12.6, -12.4, -12.2, -12.0, -11.8, -11.6, -11.4, -11.2, -11.0, -10.8, -10.6, -10.4, -10.2, -10.0, -9.8, -9.6, -9.4, -9.2, -9.0, -8.8, -8.6, -8.4, -8.2, -8.0, -7.8, -7.6, -7.4, -7.2, -7.0, -6.8, -6.6, -6.4, -6.2, -6.0, -5.8, -5.6, -5.4, -5.2, -5.0, -4.8, -4.6, -4.4, -4.2, -4.0, -3.8, -3.6, -3.4, -3.2, -3.0, -2.8, -2.6, -2.4, -2.2, -2.0, -1.8, -1.6, -1.4, -1.2, -1.0, -0.8, -0.6, -0.4, -0.2, -0.0, 0.2, 0.4, 0.6, 0.8, 1.0, 1.2, 1.4, 1.6, 1.8, 2.0, 2.2, 2.4, 2.6, 2.8, 3.0, 3.2, 3.4, 3.6, 3.8, 4.0, 4.2, 4.4, 4.6, 4.8, 5.0, 5.2, 5.4, 5.6, 5.8, 6.0, 6.2, 6.4, 6.6, 6.8, 7.0, 7.2, 7.4, 7.6, 7.8, 8.0, 8.2, 8.4, 8.6, 8.8, 9.0, 9.2, 9.4, 9.6, 9.8, 10.0, 10.2, 10.4, 10.6, 10.8, 11.0, 11.2, 11.4, 11.6, 11.8, 12.0, 12.2, 12.4, 12.6, 12.8, 13.0, 13.2, 13.4, 13.6, 13.8, 14.0, 14.2, 14.4, 14.6, 14.8], is_ordered=True, sort_values=True), RangeParameter(name='omega70', parameter_type=FLOAT, range=[0.0, 10.0]), ChoiceParameter(name='det70', parameter_type=FLOAT, values=[-15.0, -14.8, -14.6, -14.4, -14.2, -14.0, -13.8, -13.6, -13.4, -13.2, -13.0, -12.8, -12.6, -12.4, -12.2, -12.0, -11.8, -11.6, -11.4, -11.2, -11.0, -10.8, -10.6, -10.4, -10.2, -10.0, -9.8, -9.6, -9.4, -9.2, -9.0, -8.8, -8.6, -8.4, -8.2, -8.0, -7.8, -7.6, -7.4, -7.2, -7.0, -6.8, -6.6, -6.4, -6.2, -6.0, -5.8, -5.6, -5.4, -5.2, -5.0, -4.8, -4.6, -4.4, -4.2, -4.0, -3.8, -3.6, -3.4, -3.2, -3.0, -2.8, -2.6, -2.4, -2.2, -2.0, -1.8, -1.6, -1.4, -1.2, -1.0, -0.8, -0.6, -0.4, -0.2, -0.0, 0.2, 0.4, 0.6, 0.8, 1.0, 1.2, 1.4, 1.6, 1.8, 2.0, 2.2, 2.4, 2.6, 2.8, 3.0, 3.2, 3.4, 3.6, 3.8, 4.0, 4.2, 4.4, 4.6, 4.8, 5.0, 5.2, 5.4, 5.6, 5.8, 6.0, 6.2, 6.4, 6.6, 6.8, 7.0, 7.2, 7.4, 7.6, 7.8, 8.0, 8.2, 8.4, 8.6, 8.8, 9.0, 9.2, 9.4, 9.6, 9.8, 10.0, 10.2, 10.4, 10.6, 10.8, 11.0, 11.2, 11.4, 11.6, 11.8, 12.0, 12.2, 12.4, 12.6, 12.8, 13.0, 13.2, 13.4, 13.6, 13.8, 14.0, 14.2, 14.4, 14.6, 14.8], is_ordered=True, sort_values=True), RangeParameter(name='omega71', parameter_type=FLOAT, range=[0.0, 10.0]), ChoiceParameter(name='det71', parameter_type=FLOAT, values=[-15.0, -14.8, -14.6, -14.4, -14.2, -14.0, -13.8, -13.6, -13.4, -13.2, -13.0, -12.8, -12.6, -12.4, -12.2, -12.0, -11.8, -11.6, -11.4, -11.2, -11.0, -10.8, -10.6, -10.4, -10.2, -10.0, -9.8, -9.6, -9.4, -9.2, -9.0, -8.8, -8.6, -8.4, -8.2, -8.0, -7.8, -7.6, -7.4, -7.2, -7.0, -6.8, -6.6, -6.4, -6.2, -6.0, -5.8, -5.6, -5.4, -5.2, -5.0, -4.8, -4.6, -4.4, -4.2, -4.0, -3.8, -3.6, -3.4, -3.2, -3.0, -2.8, -2.6, -2.4, -2.2, -2.0, -1.8, -1.6, -1.4, -1.2, -1.0, -0.8, -0.6, -0.4, -0.2, -0.0, 0.2, 0.4, 0.6, 0.8, 1.0, 1.2, 1.4, 1.6, 1.8, 2.0, 2.2, 2.4, 2.6, 2.8, 3.0, 3.2, 3.4, 3.6, 3.8, 4.0, 4.2, 4.4, 4.6, 4.8, 5.0, 5.2, 5.4, 5.6, 5.8, 6.0, 6.2, 6.4, 6.6, 6.8, 7.0, 7.2, 7.4, 7.6, 7.8, 8.0, 8.2, 8.4, 8.6, 8.8, 9.0, 9.2, 9.4, 9.6, 9.8, 10.0, 10.2, 10.4, 10.6, 10.8, 11.0, 11.2, 11.4, 11.6, 11.8, 12.0, 12.2, 12.4, 12.6, 12.8, 13.0, 13.2, 13.4, 13.6, 13.8, 14.0, 14.2, 14.4, 14.6, 14.8], is_ordered=True, sort_values=True), RangeParameter(name='omega72', parameter_type=FLOAT, range=[0.0, 10.0]), ChoiceParameter(name='det72', parameter_type=FLOAT, values=[-15.0, -14.8, -14.6, -14.4, -14.2, -14.0, -13.8, -13.6, -13.4, -13.2, -13.0, -12.8, -12.6, -12.4, -12.2, -12.0, -11.8, -11.6, -11.4, -11.2, -11.0, -10.8, -10.6, -10.4, -10.2, -10.0, -9.8, -9.6, -9.4, -9.2, -9.0, -8.8, -8.6, -8.4, -8.2, -8.0, -7.8, -7.6, -7.4, -7.2, -7.0, -6.8, -6.6, -6.4, -6.2, -6.0, -5.8, -5.6, -5.4, -5.2, -5.0, -4.8, -4.6, -4.4, -4.2, -4.0, -3.8, -3.6, -3.4, -3.2, -3.0, -2.8, -2.6, -2.4, -2.2, -2.0, -1.8, -1.6, -1.4, -1.2, -1.0, -0.8, -0.6, -0.4, -0.2, -0.0, 0.2, 0.4, 0.6, 0.8, 1.0, 1.2, 1.4, 1.6, 1.8, 2.0, 2.2, 2.4, 2.6, 2.8, 3.0, 3.2, 3.4, 3.6, 3.8, 4.0, 4.2, 4.4, 4.6, 4.8, 5.0, 5.2, 5.4, 5.6, 5.8, 6.0, 6.2, 6.4, 6.6, 6.8, 7.0, 7.2, 7.4, 7.6, 7.8, 8.0, 8.2, 8.4, 8.6, 8.8, 9.0, 9.2, 9.4, 9.6, 9.8, 10.0, 10.2, 10.4, 10.6, 10.8, 11.0, 11.2, 11.4, 11.6, 11.8, 12.0, 12.2, 12.4, 12.6, 12.8, 13.0, 13.2, 13.4, 13.6, 13.8, 14.0, 14.2, 14.4, 14.6, 14.8], is_ordered=True, sort_values=True), RangeParameter(name='omega73', parameter_type=FLOAT, range=[0.0, 10.0]), ChoiceParameter(name='det73', parameter_type=FLOAT, values=[-15.0, -14.8, -14.6, -14.4, -14.2, -14.0, -13.8, -13.6, -13.4, -13.2, -13.0, -12.8, -12.6, -12.4, -12.2, -12.0, -11.8, -11.6, -11.4, -11.2, -11.0, -10.8, -10.6, -10.4, -10.2, -10.0, -9.8, -9.6, -9.4, -9.2, -9.0, -8.8, -8.6, -8.4, -8.2, -8.0, -7.8, -7.6, -7.4, -7.2, -7.0, -6.8, -6.6, -6.4, -6.2, -6.0, -5.8, -5.6, -5.4, -5.2, -5.0, -4.8, -4.6, -4.4, -4.2, -4.0, -3.8, -3.6, -3.4, -3.2, -3.0, -2.8, -2.6, -2.4, -2.2, -2.0, -1.8, -1.6, -1.4, -1.2, -1.0, -0.8, -0.6, -0.4, -0.2, -0.0, 0.2, 0.4, 0.6, 0.8, 1.0, 1.2, 1.4, 1.6, 1.8, 2.0, 2.2, 2.4, 2.6, 2.8, 3.0, 3.2, 3.4, 3.6, 3.8, 4.0, 4.2, 4.4, 4.6, 4.8, 5.0, 5.2, 5.4, 5.6, 5.8, 6.0, 6.2, 6.4, 6.6, 6.8, 7.0, 7.2, 7.4, 7.6, 7.8, 8.0, 8.2, 8.4, 8.6, 8.8, 9.0, 9.2, 9.4, 9.6, 9.8, 10.0, 10.2, 10.4, 10.6, 10.8, 11.0, 11.2, 11.4, 11.6, 11.8, 12.0, 12.2, 12.4, 12.6, 12.8, 13.0, 13.2, 13.4, 13.6, 13.8, 14.0, 14.2, 14.4, 14.6, 14.8], is_ordered=True, sort_values=True), RangeParameter(name='omega74', parameter_type=FLOAT, range=[0.0, 10.0]), ChoiceParameter(name='det74', parameter_type=FLOAT, values=[-15.0, -14.8, -14.6, -14.4, -14.2, -14.0, -13.8, -13.6, -13.4, -13.2, -13.0, -12.8, -12.6, -12.4, -12.2, -12.0, -11.8, -11.6, -11.4, -11.2, -11.0, -10.8, -10.6, -10.4, -10.2, -10.0, -9.8, -9.6, -9.4, -9.2, -9.0, -8.8, -8.6, -8.4, -8.2, -8.0, -7.8, -7.6, -7.4, -7.2, -7.0, -6.8, -6.6, -6.4, -6.2, -6.0, -5.8, -5.6, -5.4, -5.2, -5.0, -4.8, -4.6, -4.4, -4.2, -4.0, -3.8, -3.6, -3.4, -3.2, -3.0, -2.8, -2.6, -2.4, -2.2, -2.0, -1.8, -1.6, -1.4, -1.2, -1.0, -0.8, -0.6, -0.4, -0.2, -0.0, 0.2, 0.4, 0.6, 0.8, 1.0, 1.2, 1.4, 1.6, 1.8, 2.0, 2.2, 2.4, 2.6, 2.8, 3.0, 3.2, 3.4, 3.6, 3.8, 4.0, 4.2, 4.4, 4.6, 4.8, 5.0, 5.2, 5.4, 5.6, 5.8, 6.0, 6.2, 6.4, 6.6, 6.8, 7.0, 7.2, 7.4, 7.6, 7.8, 8.0, 8.2, 8.4, 8.6, 8.8, 9.0, 9.2, 9.4, 9.6, 9.8, 10.0, 10.2, 10.4, 10.6, 10.8, 11.0, 11.2, 11.4, 11.6, 11.8, 12.0, 12.2, 12.4, 12.6, 12.8, 13.0, 13.2, 13.4, 13.6, 13.8, 14.0, 14.2, 14.4, 14.6, 14.8], is_ordered=True, sort_values=True), RangeParameter(name='omega75', parameter_type=FLOAT, range=[0.0, 10.0]), ChoiceParameter(name='det75', parameter_type=FLOAT, values=[-15.0, -14.8, -14.6, -14.4, -14.2, -14.0, -13.8, -13.6, -13.4, -13.2, -13.0, -12.8, -12.6, -12.4, -12.2, -12.0, -11.8, -11.6, -11.4, -11.2, -11.0, -10.8, -10.6, -10.4, -10.2, -10.0, -9.8, -9.6, -9.4, -9.2, -9.0, -8.8, -8.6, -8.4, -8.2, -8.0, -7.8, -7.6, -7.4, -7.2, -7.0, -6.8, -6.6, -6.4, -6.2, -6.0, -5.8, -5.6, -5.4, -5.2, -5.0, -4.8, -4.6, -4.4, -4.2, -4.0, -3.8, -3.6, -3.4, -3.2, -3.0, -2.8, -2.6, -2.4, -2.2, -2.0, -1.8, -1.6, -1.4, -1.2, -1.0, -0.8, -0.6, -0.4, -0.2, -0.0, 0.2, 0.4, 0.6, 0.8, 1.0, 1.2, 1.4, 1.6, 1.8, 2.0, 2.2, 2.4, 2.6, 2.8, 3.0, 3.2, 3.4, 3.6, 3.8, 4.0, 4.2, 4.4, 4.6, 4.8, 5.0, 5.2, 5.4, 5.6, 5.8, 6.0, 6.2, 6.4, 6.6, 6.8, 7.0, 7.2, 7.4, 7.6, 7.8, 8.0, 8.2, 8.4, 8.6, 8.8, 9.0, 9.2, 9.4, 9.6, 9.8, 10.0, 10.2, 10.4, 10.6, 10.8, 11.0, 11.2, 11.4, 11.6, 11.8, 12.0, 12.2, 12.4, 12.6, 12.8, 13.0, 13.2, 13.4, 13.6, 13.8, 14.0, 14.2, 14.4, 14.6, 14.8], is_ordered=True, sort_values=True), RangeParameter(name='omega76', parameter_type=FLOAT, range=[0.0, 10.0]), ChoiceParameter(name='det76', parameter_type=FLOAT, values=[-15.0, -14.8, -14.6, -14.4, -14.2, -14.0, -13.8, -13.6, -13.4, -13.2, -13.0, -12.8, -12.6, -12.4, -12.2, -12.0, -11.8, -11.6, -11.4, -11.2, -11.0, -10.8, -10.6, -10.4, -10.2, -10.0, -9.8, -9.6, -9.4, -9.2, -9.0, -8.8, -8.6, -8.4, -8.2, -8.0, -7.8, -7.6, -7.4, -7.2, -7.0, -6.8, -6.6, -6.4, -6.2, -6.0, -5.8, -5.6, -5.4, -5.2, -5.0, -4.8, -4.6, -4.4, -4.2, -4.0, -3.8, -3.6, -3.4, -3.2, -3.0, -2.8, -2.6, -2.4, -2.2, -2.0, -1.8, -1.6, -1.4, -1.2, -1.0, -0.8, -0.6, -0.4, -0.2, -0.0, 0.2, 0.4, 0.6, 0.8, 1.0, 1.2, 1.4, 1.6, 1.8, 2.0, 2.2, 2.4, 2.6, 2.8, 3.0, 3.2, 3.4, 3.6, 3.8, 4.0, 4.2, 4.4, 4.6, 4.8, 5.0, 5.2, 5.4, 5.6, 5.8, 6.0, 6.2, 6.4, 6.6, 6.8, 7.0, 7.2, 7.4, 7.6, 7.8, 8.0, 8.2, 8.4, 8.6, 8.8, 9.0, 9.2, 9.4, 9.6, 9.8, 10.0, 10.2, 10.4, 10.6, 10.8, 11.0, 11.2, 11.4, 11.6, 11.8, 12.0, 12.2, 12.4, 12.6, 12.8, 13.0, 13.2, 13.4, 13.6, 13.8, 14.0, 14.2, 14.4, 14.6, 14.8], is_ordered=True, sort_values=True), RangeParameter(name='omega77', parameter_type=FLOAT, range=[0.0, 10.0]), ChoiceParameter(name='det77', parameter_type=FLOAT, values=[-15.0, -14.8, -14.6, -14.4, -14.2, -14.0, -13.8, -13.6, -13.4, -13.2, -13.0, -12.8, -12.6, -12.4, -12.2, -12.0, -11.8, -11.6, -11.4, -11.2, -11.0, -10.8, -10.6, -10.4, -10.2, -10.0, -9.8, -9.6, -9.4, -9.2, -9.0, -8.8, -8.6, -8.4, -8.2, -8.0, -7.8, -7.6, -7.4, -7.2, -7.0, -6.8, -6.6, -6.4, -6.2, -6.0, -5.8, -5.6, -5.4, -5.2, -5.0, -4.8, -4.6, -4.4, -4.2, -4.0, -3.8, -3.6, -3.4, -3.2, -3.0, -2.8, -2.6, -2.4, -2.2, -2.0, -1.8, -1.6, -1.4, -1.2, -1.0, -0.8, -0.6, -0.4, -0.2, -0.0, 0.2, 0.4, 0.6, 0.8, 1.0, 1.2, 1.4, 1.6, 1.8, 2.0, 2.2, 2.4, 2.6, 2.8, 3.0, 3.2, 3.4, 3.6, 3.8, 4.0, 4.2, 4.4, 4.6, 4.8, 5.0, 5.2, 5.4, 5.6, 5.8, 6.0, 6.2, 6.4, 6.6, 6.8, 7.0, 7.2, 7.4, 7.6, 7.8, 8.0, 8.2, 8.4, 8.6, 8.8, 9.0, 9.2, 9.4, 9.6, 9.8, 10.0, 10.2, 10.4, 10.6, 10.8, 11.0, 11.2, 11.4, 11.6, 11.8, 12.0, 12.2, 12.4, 12.6, 12.8, 13.0, 13.2, 13.4, 13.6, 13.8, 14.0, 14.2, 14.4, 14.6, 14.8], is_ordered=True, sort_values=True), RangeParameter(name='omega78', parameter_type=FLOAT, range=[0.0, 10.0]), ChoiceParameter(name='det78', parameter_type=FLOAT, values=[-15.0, -14.8, -14.6, -14.4, -14.2, -14.0, -13.8, -13.6, -13.4, -13.2, -13.0, -12.8, -12.6, -12.4, -12.2, -12.0, -11.8, -11.6, -11.4, -11.2, -11.0, -10.8, -10.6, -10.4, -10.2, -10.0, -9.8, -9.6, -9.4, -9.2, -9.0, -8.8, -8.6, -8.4, -8.2, -8.0, -7.8, -7.6, -7.4, -7.2, -7.0, -6.8, -6.6, -6.4, -6.2, -6.0, -5.8, -5.6, -5.4, -5.2, -5.0, -4.8, -4.6, -4.4, -4.2, -4.0, -3.8, -3.6, -3.4, -3.2, -3.0, -2.8, -2.6, -2.4, -2.2, -2.0, -1.8, -1.6, -1.4, -1.2, -1.0, -0.8, -0.6, -0.4, -0.2, -0.0, 0.2, 0.4, 0.6, 0.8, 1.0, 1.2, 1.4, 1.6, 1.8, 2.0, 2.2, 2.4, 2.6, 2.8, 3.0, 3.2, 3.4, 3.6, 3.8, 4.0, 4.2, 4.4, 4.6, 4.8, 5.0, 5.2, 5.4, 5.6, 5.8, 6.0, 6.2, 6.4, 6.6, 6.8, 7.0, 7.2, 7.4, 7.6, 7.8, 8.0, 8.2, 8.4, 8.6, 8.8, 9.0, 9.2, 9.4, 9.6, 9.8, 10.0, 10.2, 10.4, 10.6, 10.8, 11.0, 11.2, 11.4, 11.6, 11.8, 12.0, 12.2, 12.4, 12.6, 12.8, 13.0, 13.2, 13.4, 13.6, 13.8, 14.0, 14.2, 14.4, 14.6, 14.8], is_ordered=True, sort_values=True), RangeParameter(name='omega79', parameter_type=FLOAT, range=[0.0, 10.0]), ChoiceParameter(name='det79', parameter_type=FLOAT, values=[-15.0, -14.8, -14.6, -14.4, -14.2, -14.0, -13.8, -13.6, -13.4, -13.2, -13.0, -12.8, -12.6, -12.4, -12.2, -12.0, -11.8, -11.6, -11.4, -11.2, -11.0, -10.8, -10.6, -10.4, -10.2, -10.0, -9.8, -9.6, -9.4, -9.2, -9.0, -8.8, -8.6, -8.4, -8.2, -8.0, -7.8, -7.6, -7.4, -7.2, -7.0, -6.8, -6.6, -6.4, -6.2, -6.0, -5.8, -5.6, -5.4, -5.2, -5.0, -4.8, -4.6, -4.4, -4.2, -4.0, -3.8, -3.6, -3.4, -3.2, -3.0, -2.8, -2.6, -2.4, -2.2, -2.0, -1.8, -1.6, -1.4, -1.2, -1.0, -0.8, -0.6, -0.4, -0.2, -0.0, 0.2, 0.4, 0.6, 0.8, 1.0, 1.2, 1.4, 1.6, 1.8, 2.0, 2.2, 2.4, 2.6, 2.8, 3.0, 3.2, 3.4, 3.6, 3.8, 4.0, 4.2, 4.4, 4.6, 4.8, 5.0, 5.2, 5.4, 5.6, 5.8, 6.0, 6.2, 6.4, 6.6, 6.8, 7.0, 7.2, 7.4, 7.6, 7.8, 8.0, 8.2, 8.4, 8.6, 8.8, 9.0, 9.2, 9.4, 9.6, 9.8, 10.0, 10.2, 10.4, 10.6, 10.8, 11.0, 11.2, 11.4, 11.6, 11.8, 12.0, 12.2, 12.4, 12.6, 12.8, 13.0, 13.2, 13.4, 13.6, 13.8, 14.0, 14.2, 14.4, 14.6, 14.8], is_ordered=True, sort_values=True), RangeParameter(name='omega80', parameter_type=FLOAT, range=[0.0, 10.0]), ChoiceParameter(name='det80', parameter_type=FLOAT, values=[-15.0, -14.8, -14.6, -14.4, -14.2, -14.0, -13.8, -13.6, -13.4, -13.2, -13.0, -12.8, -12.6, -12.4, -12.2, -12.0, -11.8, -11.6, -11.4, -11.2, -11.0, -10.8, -10.6, -10.4, -10.2, -10.0, -9.8, -9.6, -9.4, -9.2, -9.0, -8.8, -8.6, -8.4, -8.2, -8.0, -7.8, -7.6, -7.4, -7.2, -7.0, -6.8, -6.6, -6.4, -6.2, -6.0, -5.8, -5.6, -5.4, -5.2, -5.0, -4.8, -4.6, -4.4, -4.2, -4.0, -3.8, -3.6, -3.4, -3.2, -3.0, -2.8, -2.6, -2.4, -2.2, -2.0, -1.8, -1.6, -1.4, -1.2, -1.0, -0.8, -0.6, -0.4, -0.2, -0.0, 0.2, 0.4, 0.6, 0.8, 1.0, 1.2, 1.4, 1.6, 1.8, 2.0, 2.2, 2.4, 2.6, 2.8, 3.0, 3.2, 3.4, 3.6, 3.8, 4.0, 4.2, 4.4, 4.6, 4.8, 5.0, 5.2, 5.4, 5.6, 5.8, 6.0, 6.2, 6.4, 6.6, 6.8, 7.0, 7.2, 7.4, 7.6, 7.8, 8.0, 8.2, 8.4, 8.6, 8.8, 9.0, 9.2, 9.4, 9.6, 9.8, 10.0, 10.2, 10.4, 10.6, 10.8, 11.0, 11.2, 11.4, 11.6, 11.8, 12.0, 12.2, 12.4, 12.6, 12.8, 13.0, 13.2, 13.4, 13.6, 13.8, 14.0, 14.2, 14.4, 14.6, 14.8], is_ordered=True, sort_values=True), RangeParameter(name='omega81', parameter_type=FLOAT, range=[0.0, 10.0]), ChoiceParameter(name='det81', parameter_type=FLOAT, values=[-15.0, -14.8, -14.6, -14.4, -14.2, -14.0, -13.8, -13.6, -13.4, -13.2, -13.0, -12.8, -12.6, -12.4, -12.2, -12.0, -11.8, -11.6, -11.4, -11.2, -11.0, -10.8, -10.6, -10.4, -10.2, -10.0, -9.8, -9.6, -9.4, -9.2, -9.0, -8.8, -8.6, -8.4, -8.2, -8.0, -7.8, -7.6, -7.4, -7.2, -7.0, -6.8, -6.6, -6.4, -6.2, -6.0, -5.8, -5.6, -5.4, -5.2, -5.0, -4.8, -4.6, -4.4, -4.2, -4.0, -3.8, -3.6, -3.4, -3.2, -3.0, -2.8, -2.6, -2.4, -2.2, -2.0, -1.8, -1.6, -1.4, -1.2, -1.0, -0.8, -0.6, -0.4, -0.2, -0.0, 0.2, 0.4, 0.6, 0.8, 1.0, 1.2, 1.4, 1.6, 1.8, 2.0, 2.2, 2.4, 2.6, 2.8, 3.0, 3.2, 3.4, 3.6, 3.8, 4.0, 4.2, 4.4, 4.6, 4.8, 5.0, 5.2, 5.4, 5.6, 5.8, 6.0, 6.2, 6.4, 6.6, 6.8, 7.0, 7.2, 7.4, 7.6, 7.8, 8.0, 8.2, 8.4, 8.6, 8.8, 9.0, 9.2, 9.4, 9.6, 9.8, 10.0, 10.2, 10.4, 10.6, 10.8, 11.0, 11.2, 11.4, 11.6, 11.8, 12.0, 12.2, 12.4, 12.6, 12.8, 13.0, 13.2, 13.4, 13.6, 13.8, 14.0, 14.2, 14.4, 14.6, 14.8], is_ordered=True, sort_values=True), RangeParameter(name='omega82', parameter_type=FLOAT, range=[0.0, 10.0]), ChoiceParameter(name='det82', parameter_type=FLOAT, values=[-15.0, -14.8, -14.6, -14.4, -14.2, -14.0, -13.8, -13.6, -13.4, -13.2, -13.0, -12.8, -12.6, -12.4, -12.2, -12.0, -11.8, -11.6, -11.4, -11.2, -11.0, -10.8, -10.6, -10.4, -10.2, -10.0, -9.8, -9.6, -9.4, -9.2, -9.0, -8.8, -8.6, -8.4, -8.2, -8.0, -7.8, -7.6, -7.4, -7.2, -7.0, -6.8, -6.6, -6.4, -6.2, -6.0, -5.8, -5.6, -5.4, -5.2, -5.0, -4.8, -4.6, -4.4, -4.2, -4.0, -3.8, -3.6, -3.4, -3.2, -3.0, -2.8, -2.6, -2.4, -2.2, -2.0, -1.8, -1.6, -1.4, -1.2, -1.0, -0.8, -0.6, -0.4, -0.2, -0.0, 0.2, 0.4, 0.6, 0.8, 1.0, 1.2, 1.4, 1.6, 1.8, 2.0, 2.2, 2.4, 2.6, 2.8, 3.0, 3.2, 3.4, 3.6, 3.8, 4.0, 4.2, 4.4, 4.6, 4.8, 5.0, 5.2, 5.4, 5.6, 5.8, 6.0, 6.2, 6.4, 6.6, 6.8, 7.0, 7.2, 7.4, 7.6, 7.8, 8.0, 8.2, 8.4, 8.6, 8.8, 9.0, 9.2, 9.4, 9.6, 9.8, 10.0, 10.2, 10.4, 10.6, 10.8, 11.0, 11.2, 11.4, 11.6, 11.8, 12.0, 12.2, 12.4, 12.6, 12.8, 13.0, 13.2, 13.4, 13.6, 13.8, 14.0, 14.2, 14.4, 14.6, 14.8], is_ordered=True, sort_values=True), RangeParameter(name='omega83', parameter_type=FLOAT, range=[0.0, 10.0]), ChoiceParameter(name='det83', parameter_type=FLOAT, values=[-15.0, -14.8, -14.6, -14.4, -14.2, -14.0, -13.8, -13.6, -13.4, -13.2, -13.0, -12.8, -12.6, -12.4, -12.2, -12.0, -11.8, -11.6, -11.4, -11.2, -11.0, -10.8, -10.6, -10.4, -10.2, -10.0, -9.8, -9.6, -9.4, -9.2, -9.0, -8.8, -8.6, -8.4, -8.2, -8.0, -7.8, -7.6, -7.4, -7.2, -7.0, -6.8, -6.6, -6.4, -6.2, -6.0, -5.8, -5.6, -5.4, -5.2, -5.0, -4.8, -4.6, -4.4, -4.2, -4.0, -3.8, -3.6, -3.4, -3.2, -3.0, -2.8, -2.6, -2.4, -2.2, -2.0, -1.8, -1.6, -1.4, -1.2, -1.0, -0.8, -0.6, -0.4, -0.2, -0.0, 0.2, 0.4, 0.6, 0.8, 1.0, 1.2, 1.4, 1.6, 1.8, 2.0, 2.2, 2.4, 2.6, 2.8, 3.0, 3.2, 3.4, 3.6, 3.8, 4.0, 4.2, 4.4, 4.6, 4.8, 5.0, 5.2, 5.4, 5.6, 5.8, 6.0, 6.2, 6.4, 6.6, 6.8, 7.0, 7.2, 7.4, 7.6, 7.8, 8.0, 8.2, 8.4, 8.6, 8.8, 9.0, 9.2, 9.4, 9.6, 9.8, 10.0, 10.2, 10.4, 10.6, 10.8, 11.0, 11.2, 11.4, 11.6, 11.8, 12.0, 12.2, 12.4, 12.6, 12.8, 13.0, 13.2, 13.4, 13.6, 13.8, 14.0, 14.2, 14.4, 14.6, 14.8], is_ordered=True, sort_values=True), RangeParameter(name='omega84', parameter_type=FLOAT, range=[0.0, 10.0]), ChoiceParameter(name='det84', parameter_type=FLOAT, values=[-15.0, -14.8, -14.6, -14.4, -14.2, -14.0, -13.8, -13.6, -13.4, -13.2, -13.0, -12.8, -12.6, -12.4, -12.2, -12.0, -11.8, -11.6, -11.4, -11.2, -11.0, -10.8, -10.6, -10.4, -10.2, -10.0, -9.8, -9.6, -9.4, -9.2, -9.0, -8.8, -8.6, -8.4, -8.2, -8.0, -7.8, -7.6, -7.4, -7.2, -7.0, -6.8, -6.6, -6.4, -6.2, -6.0, -5.8, -5.6, -5.4, -5.2, -5.0, -4.8, -4.6, -4.4, -4.2, -4.0, -3.8, -3.6, -3.4, -3.2, -3.0, -2.8, -2.6, -2.4, -2.2, -2.0, -1.8, -1.6, -1.4, -1.2, -1.0, -0.8, -0.6, -0.4, -0.2, -0.0, 0.2, 0.4, 0.6, 0.8, 1.0, 1.2, 1.4, 1.6, 1.8, 2.0, 2.2, 2.4, 2.6, 2.8, 3.0, 3.2, 3.4, 3.6, 3.8, 4.0, 4.2, 4.4, 4.6, 4.8, 5.0, 5.2, 5.4, 5.6, 5.8, 6.0, 6.2, 6.4, 6.6, 6.8, 7.0, 7.2, 7.4, 7.6, 7.8, 8.0, 8.2, 8.4, 8.6, 8.8, 9.0, 9.2, 9.4, 9.6, 9.8, 10.0, 10.2, 10.4, 10.6, 10.8, 11.0, 11.2, 11.4, 11.6, 11.8, 12.0, 12.2, 12.4, 12.6, 12.8, 13.0, 13.2, 13.4, 13.6, 13.8, 14.0, 14.2, 14.4, 14.6, 14.8], is_ordered=True, sort_values=True), RangeParameter(name='omega85', parameter_type=FLOAT, range=[0.0, 10.0]), ChoiceParameter(name='det85', parameter_type=FLOAT, values=[-15.0, -14.8, -14.6, -14.4, -14.2, -14.0, -13.8, -13.6, -13.4, -13.2, -13.0, -12.8, -12.6, -12.4, -12.2, -12.0, -11.8, -11.6, -11.4, -11.2, -11.0, -10.8, -10.6, -10.4, -10.2, -10.0, -9.8, -9.6, -9.4, -9.2, -9.0, -8.8, -8.6, -8.4, -8.2, -8.0, -7.8, -7.6, -7.4, -7.2, -7.0, -6.8, -6.6, -6.4, -6.2, -6.0, -5.8, -5.6, -5.4, -5.2, -5.0, -4.8, -4.6, -4.4, -4.2, -4.0, -3.8, -3.6, -3.4, -3.2, -3.0, -2.8, -2.6, -2.4, -2.2, -2.0, -1.8, -1.6, -1.4, -1.2, -1.0, -0.8, -0.6, -0.4, -0.2, -0.0, 0.2, 0.4, 0.6, 0.8, 1.0, 1.2, 1.4, 1.6, 1.8, 2.0, 2.2, 2.4, 2.6, 2.8, 3.0, 3.2, 3.4, 3.6, 3.8, 4.0, 4.2, 4.4, 4.6, 4.8, 5.0, 5.2, 5.4, 5.6, 5.8, 6.0, 6.2, 6.4, 6.6, 6.8, 7.0, 7.2, 7.4, 7.6, 7.8, 8.0, 8.2, 8.4, 8.6, 8.8, 9.0, 9.2, 9.4, 9.6, 9.8, 10.0, 10.2, 10.4, 10.6, 10.8, 11.0, 11.2, 11.4, 11.6, 11.8, 12.0, 12.2, 12.4, 12.6, 12.8, 13.0, 13.2, 13.4, 13.6, 13.8, 14.0, 14.2, 14.4, 14.6, 14.8], is_ordered=True, sort_values=True), RangeParameter(name='omega86', parameter_type=FLOAT, range=[0.0, 10.0]), ChoiceParameter(name='det86', parameter_type=FLOAT, values=[-15.0, -14.8, -14.6, -14.4, -14.2, -14.0, -13.8, -13.6, -13.4, -13.2, -13.0, -12.8, -12.6, -12.4, -12.2, -12.0, -11.8, -11.6, -11.4, -11.2, -11.0, -10.8, -10.6, -10.4, -10.2, -10.0, -9.8, -9.6, -9.4, -9.2, -9.0, -8.8, -8.6, -8.4, -8.2, -8.0, -7.8, -7.6, -7.4, -7.2, -7.0, -6.8, -6.6, -6.4, -6.2, -6.0, -5.8, -5.6, -5.4, -5.2, -5.0, -4.8, -4.6, -4.4, -4.2, -4.0, -3.8, -3.6, -3.4, -3.2, -3.0, -2.8, -2.6, -2.4, -2.2, -2.0, -1.8, -1.6, -1.4, -1.2, -1.0, -0.8, -0.6, -0.4, -0.2, -0.0, 0.2, 0.4, 0.6, 0.8, 1.0, 1.2, 1.4, 1.6, 1.8, 2.0, 2.2, 2.4, 2.6, 2.8, 3.0, 3.2, 3.4, 3.6, 3.8, 4.0, 4.2, 4.4, 4.6, 4.8, 5.0, 5.2, 5.4, 5.6, 5.8, 6.0, 6.2, 6.4, 6.6, 6.8, 7.0, 7.2, 7.4, 7.6, 7.8, 8.0, 8.2, 8.4, 8.6, 8.8, 9.0, 9.2, 9.4, 9.6, 9.8, 10.0, 10.2, 10.4, 10.6, 10.8, 11.0, 11.2, 11.4, 11.6, 11.8, 12.0, 12.2, 12.4, 12.6, 12.8, 13.0, 13.2, 13.4, 13.6, 13.8, 14.0, 14.2, 14.4, 14.6, 14.8], is_ordered=True, sort_values=True), RangeParameter(name='omega87', parameter_type=FLOAT, range=[0.0, 10.0]), ChoiceParameter(name='det87', parameter_type=FLOAT, values=[-15.0, -14.8, -14.6, -14.4, -14.2, -14.0, -13.8, -13.6, -13.4, -13.2, -13.0, -12.8, -12.6, -12.4, -12.2, -12.0, -11.8, -11.6, -11.4, -11.2, -11.0, -10.8, -10.6, -10.4, -10.2, -10.0, -9.8, -9.6, -9.4, -9.2, -9.0, -8.8, -8.6, -8.4, -8.2, -8.0, -7.8, -7.6, -7.4, -7.2, -7.0, -6.8, -6.6, -6.4, -6.2, -6.0, -5.8, -5.6, -5.4, -5.2, -5.0, -4.8, -4.6, -4.4, -4.2, -4.0, -3.8, -3.6, -3.4, -3.2, -3.0, -2.8, -2.6, -2.4, -2.2, -2.0, -1.8, -1.6, -1.4, -1.2, -1.0, -0.8, -0.6, -0.4, -0.2, -0.0, 0.2, 0.4, 0.6, 0.8, 1.0, 1.2, 1.4, 1.6, 1.8, 2.0, 2.2, 2.4, 2.6, 2.8, 3.0, 3.2, 3.4, 3.6, 3.8, 4.0, 4.2, 4.4, 4.6, 4.8, 5.0, 5.2, 5.4, 5.6, 5.8, 6.0, 6.2, 6.4, 6.6, 6.8, 7.0, 7.2, 7.4, 7.6, 7.8, 8.0, 8.2, 8.4, 8.6, 8.8, 9.0, 9.2, 9.4, 9.6, 9.8, 10.0, 10.2, 10.4, 10.6, 10.8, 11.0, 11.2, 11.4, 11.6, 11.8, 12.0, 12.2, 12.4, 12.6, 12.8, 13.0, 13.2, 13.4, 13.6, 13.8, 14.0, 14.2, 14.4, 14.6, 14.8], is_ordered=True, sort_values=True), RangeParameter(name='omega88', parameter_type=FLOAT, range=[0.0, 10.0]), ChoiceParameter(name='det88', parameter_type=FLOAT, values=[-15.0, -14.8, -14.6, -14.4, -14.2, -14.0, -13.8, -13.6, -13.4, -13.2, -13.0, -12.8, -12.6, -12.4, -12.2, -12.0, -11.8, -11.6, -11.4, -11.2, -11.0, -10.8, -10.6, -10.4, -10.2, -10.0, -9.8, -9.6, -9.4, -9.2, -9.0, -8.8, -8.6, -8.4, -8.2, -8.0, -7.8, -7.6, -7.4, -7.2, -7.0, -6.8, -6.6, -6.4, -6.2, -6.0, -5.8, -5.6, -5.4, -5.2, -5.0, -4.8, -4.6, -4.4, -4.2, -4.0, -3.8, -3.6, -3.4, -3.2, -3.0, -2.8, -2.6, -2.4, -2.2, -2.0, -1.8, -1.6, -1.4, -1.2, -1.0, -0.8, -0.6, -0.4, -0.2, -0.0, 0.2, 0.4, 0.6, 0.8, 1.0, 1.2, 1.4, 1.6, 1.8, 2.0, 2.2, 2.4, 2.6, 2.8, 3.0, 3.2, 3.4, 3.6, 3.8, 4.0, 4.2, 4.4, 4.6, 4.8, 5.0, 5.2, 5.4, 5.6, 5.8, 6.0, 6.2, 6.4, 6.6, 6.8, 7.0, 7.2, 7.4, 7.6, 7.8, 8.0, 8.2, 8.4, 8.6, 8.8, 9.0, 9.2, 9.4, 9.6, 9.8, 10.0, 10.2, 10.4, 10.6, 10.8, 11.0, 11.2, 11.4, 11.6, 11.8, 12.0, 12.2, 12.4, 12.6, 12.8, 13.0, 13.2, 13.4, 13.6, 13.8, 14.0, 14.2, 14.4, 14.6, 14.8], is_ordered=True, sort_values=True), RangeParameter(name='omega89', parameter_type=FLOAT, range=[0.0, 10.0]), ChoiceParameter(name='det89', parameter_type=FLOAT, values=[-15.0, -14.8, -14.6, -14.4, -14.2, -14.0, -13.8, -13.6, -13.4, -13.2, -13.0, -12.8, -12.6, -12.4, -12.2, -12.0, -11.8, -11.6, -11.4, -11.2, -11.0, -10.8, -10.6, -10.4, -10.2, -10.0, -9.8, -9.6, -9.4, -9.2, -9.0, -8.8, -8.6, -8.4, -8.2, -8.0, -7.8, -7.6, -7.4, -7.2, -7.0, -6.8, -6.6, -6.4, -6.2, -6.0, -5.8, -5.6, -5.4, -5.2, -5.0, -4.8, -4.6, -4.4, -4.2, -4.0, -3.8, -3.6, -3.4, -3.2, -3.0, -2.8, -2.6, -2.4, -2.2, -2.0, -1.8, -1.6, -1.4, -1.2, -1.0, -0.8, -0.6, -0.4, -0.2, -0.0, 0.2, 0.4, 0.6, 0.8, 1.0, 1.2, 1.4, 1.6, 1.8, 2.0, 2.2, 2.4, 2.6, 2.8, 3.0, 3.2, 3.4, 3.6, 3.8, 4.0, 4.2, 4.4, 4.6, 4.8, 5.0, 5.2, 5.4, 5.6, 5.8, 6.0, 6.2, 6.4, 6.6, 6.8, 7.0, 7.2, 7.4, 7.6, 7.8, 8.0, 8.2, 8.4, 8.6, 8.8, 9.0, 9.2, 9.4, 9.6, 9.8, 10.0, 10.2, 10.4, 10.6, 10.8, 11.0, 11.2, 11.4, 11.6, 11.8, 12.0, 12.2, 12.4, 12.6, 12.8, 13.0, 13.2, 13.4, 13.6, 13.8, 14.0, 14.2, 14.4, 14.6, 14.8], is_ordered=True, sort_values=True), RangeParameter(name='omega90', parameter_type=FLOAT, range=[0.0, 10.0]), ChoiceParameter(name='det90', parameter_type=FLOAT, values=[-15.0, -14.8, -14.6, -14.4, -14.2, -14.0, -13.8, -13.6, -13.4, -13.2, -13.0, -12.8, -12.6, -12.4, -12.2, -12.0, -11.8, -11.6, -11.4, -11.2, -11.0, -10.8, -10.6, -10.4, -10.2, -10.0, -9.8, -9.6, -9.4, -9.2, -9.0, -8.8, -8.6, -8.4, -8.2, -8.0, -7.8, -7.6, -7.4, -7.2, -7.0, -6.8, -6.6, -6.4, -6.2, -6.0, -5.8, -5.6, -5.4, -5.2, -5.0, -4.8, -4.6, -4.4, -4.2, -4.0, -3.8, -3.6, -3.4, -3.2, -3.0, -2.8, -2.6, -2.4, -2.2, -2.0, -1.8, -1.6, -1.4, -1.2, -1.0, -0.8, -0.6, -0.4, -0.2, -0.0, 0.2, 0.4, 0.6, 0.8, 1.0, 1.2, 1.4, 1.6, 1.8, 2.0, 2.2, 2.4, 2.6, 2.8, 3.0, 3.2, 3.4, 3.6, 3.8, 4.0, 4.2, 4.4, 4.6, 4.8, 5.0, 5.2, 5.4, 5.6, 5.8, 6.0, 6.2, 6.4, 6.6, 6.8, 7.0, 7.2, 7.4, 7.6, 7.8, 8.0, 8.2, 8.4, 8.6, 8.8, 9.0, 9.2, 9.4, 9.6, 9.8, 10.0, 10.2, 10.4, 10.6, 10.8, 11.0, 11.2, 11.4, 11.6, 11.8, 12.0, 12.2, 12.4, 12.6, 12.8, 13.0, 13.2, 13.4, 13.6, 13.8, 14.0, 14.2, 14.4, 14.6, 14.8], is_ordered=True, sort_values=True), RangeParameter(name='omega91', parameter_type=FLOAT, range=[0.0, 10.0]), ChoiceParameter(name='det91', parameter_type=FLOAT, values=[-15.0, -14.8, -14.6, -14.4, -14.2, -14.0, -13.8, -13.6, -13.4, -13.2, -13.0, -12.8, -12.6, -12.4, -12.2, -12.0, -11.8, -11.6, -11.4, -11.2, -11.0, -10.8, -10.6, -10.4, -10.2, -10.0, -9.8, -9.6, -9.4, -9.2, -9.0, -8.8, -8.6, -8.4, -8.2, -8.0, -7.8, -7.6, -7.4, -7.2, -7.0, -6.8, -6.6, -6.4, -6.2, -6.0, -5.8, -5.6, -5.4, -5.2, -5.0, -4.8, -4.6, -4.4, -4.2, -4.0, -3.8, -3.6, -3.4, -3.2, -3.0, -2.8, -2.6, -2.4, -2.2, -2.0, -1.8, -1.6, -1.4, -1.2, -1.0, -0.8, -0.6, -0.4, -0.2, -0.0, 0.2, 0.4, 0.6, 0.8, 1.0, 1.2, 1.4, 1.6, 1.8, 2.0, 2.2, 2.4, 2.6, 2.8, 3.0, 3.2, 3.4, 3.6, 3.8, 4.0, 4.2, 4.4, 4.6, 4.8, 5.0, 5.2, 5.4, 5.6, 5.8, 6.0, 6.2, 6.4, 6.6, 6.8, 7.0, 7.2, 7.4, 7.6, 7.8, 8.0, 8.2, 8.4, 8.6, 8.8, 9.0, 9.2, 9.4, 9.6, 9.8, 10.0, 10.2, 10.4, 10.6, 10.8, 11.0, 11.2, 11.4, 11.6, 11.8, 12.0, 12.2, 12.4, 12.6, 12.8, 13.0, 13.2, 13.4, 13.6, 13.8, 14.0, 14.2, 14.4, 14.6, 14.8], is_ordered=True, sort_values=True), RangeParameter(name='Omega_z_1', parameter_type=FLOAT, range=[0.0, 20.0]), RangeParameter(name='Omega_x_1', parameter_type=FLOAT, range=[0.0, 20.0]), RangeParameter(name='Omega_z_2', parameter_type=FLOAT, range=[0.0, 20.0]), RangeParameter(name='Omega_x_2', parameter_type=FLOAT, range=[0.0, 20.0])], parameter_constraints=[]).\n"
     ]
    }
   ],
   "source": [
    "from ax.service.ax_client import AxClient\n",
    "from ax.modelbridge.generation_strategy import GenerationStrategy, GenerationStep\n",
    "from ax.modelbridge.registry import Models\n",
    "\n",
    "# Step 1: Define the generation strategy\n",
    "generation_strategy = GenerationStrategy(\n",
    "    steps=[GenerationStep(\n",
    "            model=Models.SOBOL,  # Use precomputed data for these trials\n",
    "            num_trials=1,\n",
    "        ),\n",
    "        GenerationStep(model=Models.BOTORCH_MODULAR, num_trials=-1),  # Switch to Bayesian optimization with BoTorch\n",
    "    ]\n",
    ")\n",
    "ax_client = AxClient(generation_strategy=generation_strategy)\n",
    "\n",
    "#Create bounds\n",
    "bounds = []\n",
    "for i in range(len(current_field)):\n",
    "    #bounds.append({\"name\":\"omega\"+str(i),\"type\":\"range\",\"bounds\":[0.0,20.0],\"value_type\":\"float\"})\n",
    "    bounds.append({\"name\":\"omega\"+str(i),\"type\":\"range\",\"bounds\":[0.0,10.0],\"value_type\":\"float\"})\n",
    "    bounds.append({\"name\":\"det\"+str(i),\"type\":\"choice\",\"values\":np.round(np.arange(-15.0,15.0,0.2),1).tolist(),\"value_type\":\"float\"})\n",
    "bounds.append({\"name\":\"Omega_z_1\",\"type\":\"range\",\"bounds\":[0.0,20.0],\"value_type\":\"float\"})\n",
    "bounds.append({\"name\":\"Omega_x_1\",\"type\":\"range\",\"bounds\":[0.0,20.0],\"value_type\":\"float\"})\n",
    "bounds.append({\"name\":\"Omega_z_2\",\"type\":\"range\",\"bounds\":[0.0,20.0],\"value_type\":\"float\"})\n",
    "bounds.append({\"name\":\"Omega_x_2\",\"type\":\"range\",\"bounds\":[0.0,20.0],\"value_type\":\"float\"})\n",
    "\n",
    "ax_client.create_experiment(\n",
    "    name = \"pumping_experiment\",\n",
    "    parameters = bounds,\n",
    "    #parameter_constraints = constraint_array,\n",
    "    )"
   ]
  },
  {
   "cell_type": "code",
   "execution_count": null,
   "id": "35511add",
   "metadata": {},
   "outputs": [],
   "source": [
    "import copy\n",
    "plt.ion()\n",
    "\n",
    "arr_pop=[]\n",
    "\n",
    "start = time.time()\n",
    "import csv\n",
    "passes = 1\n",
    "fname = f\"./Bz_variation/XZ_rabi_det_N1_0_Bz_{Bz}_tsigma_{tsigma}_passes_{passes}.csv\"\n",
    "with open(fname,'w') as file2write:\n",
    "    file2write.write(\"Pop, (rabi, det) for the fields\\n\")\n",
    "    file2write.write(\"transitions_Z :\"+str(transitions_Z)+\"\\n\")\n",
    "    file2write.write(\"transitions_X :\"+str(transitions_X)+\"\\n\")\n",
    "    for it in range(1200):\n",
    "        if it<len(plot_list):\n",
    "            parameters =  param_list[it]\n",
    "            parameters,trial_index = ax_client.attach_trial(parameters = parameters)\n",
    "        else:\n",
    "            parameters,trial_index = ax_client.get_next_trial() #parameters is returned as a dict with kets omega{i} and det{i}\n",
    "        rabi_det_array = [(parameters[f\"omega{i}\"],parameters[f\"det{i}\"]) for i in range(len(current_field))]\n",
    "        Omega_z_1 = parameters['Omega_z_1']\n",
    "        Omega_x_1 = parameters['Omega_x_1']\n",
    "        Omega_z_2 = parameters['Omega_z_2']\n",
    "        Omega_x_2 = parameters['Omega_x_2']\n",
    "\n",
    "        if it<len(plot_list):\n",
    "            pop = plot_list[it]\n",
    "        else:\n",
    "            pop = r22(rabi_det_array,Ns,Omega_z_1,Omega_x_1,Omega_z_2,Omega_x_2,passes=passes)\n",
    "        \n",
    "        ax_client.complete_trial(\n",
    "            trial_index = trial_index,\n",
    "            raw_data = pop,\n",
    "            )\n",
    "\n",
    "        array_to_write = copy.deepcopy(rabi_det_array)\n",
    "        array_to_write.insert(0,pop)\n",
    "        array_to_write.append((Omega_z_1,Omega_x_1,Omega_z_2,Omega_x_2))\n",
    "        \n",
    "        #print(pop)\n",
    "        file2write.write(str(array_to_write)+'\\n')\n",
    "        print(\"------------------------------------------------------------------------------\")\n",
    "        arr_pop.append(pop)\n",
    "        plt.plot(arr_pop,'o-r')\n",
    "        plt.pause(0.01)\n",
    "stop = time.time()\n",
    "print(f\"Execution took {stop-start} s.\")"
   ]
  },
  {
   "cell_type": "code",
   "execution_count": null,
   "id": "ce2ae27d-fa7e-4042-9360-9fc83a2c5675",
   "metadata": {},
   "outputs": [],
   "source": [
    "max_array = array_all[-1]\n",
    "max_array"
   ]
  },
  {
   "cell_type": "code",
   "execution_count": null,
   "id": "f35de817-08ef-4142-843e-45ebb990e995",
   "metadata": {},
   "outputs": [],
   "source": [
    "start=time.time()\n",
    "r22(max_array,N_z,passes=1)\n",
    "print(time.time()-start)"
   ]
  },
  {
   "cell_type": "code",
   "execution_count": null,
   "id": "23bb8ce0",
   "metadata": {},
   "outputs": [],
   "source": [
    "r22(max_array,N_z,passes=3)"
   ]
  },
  {
   "cell_type": "markdown",
   "id": "9803aa9f",
   "metadata": {},
   "source": [
    "## For drawing the energy levels"
   ]
  },
  {
   "cell_type": "code",
   "execution_count": null,
   "id": "1df6ff03",
   "metadata": {},
   "outputs": [],
   "source": [
    "ground_mF = [item.states[0].mF+np.linspace(-1/4,1/4,3) for item in G]\n",
    "ground_Energy = np.array([GH[i,i] for i in range(len(G))])\n",
    "ground_Energy -= np.mean(ground_Energy)\n",
    "min_ground_energy = np.amin(ground_Energy)\n",
    "max_ground_energy = np.amax(ground_Energy)\n",
    "\n",
    "excited_mF = [item.states[0].mF+np.linspace(-1/4,1/4,3) for item in E]\n",
    "excited_Energy = np.array([EH[i,i] for i in range(len(E))])\n",
    "excited_Energy -= np.mean(excited_Energy) - 1*np.abs(max_ground_energy-min_ground_energy)\n",
    "\n",
    "\"\"\"\n",
    "rabi_det_params = max_array # --------the solution from the optimization-----------------\n",
    "for i in range(len(current_field)):\n",
    "            current_field[i].rabi = rabi_det_params[i][0]\n",
    "            current_field[i].detuning = rabi_det_params[i][1]\n",
    "\"\"\"            \n",
    "#Plot the energy levels\n",
    "for i in range(len(G)):\n",
    "    plt.plot(ground_mF[i],ground_Energy[i]+np.zeros(3))\n",
    "    plt.text(ground_mF[i][1],ground_Energy[i]-8,f\"G[{i}]\",fontsize = 8)\n",
    "for j in range(len(E)):\n",
    "    plt.plot(excited_mF[j],excited_Energy[j]+np.zeros(3))\n",
    "    plt.text(excited_mF[j][1],excited_Energy[j]-8,f\"E[{j}]\",fontsize = 8)\n",
    "\"\"\"\n",
    "rabis = []\n",
    "for i in range(0,len(max_array),2):\n",
    "    rabis.append(min_array[i])\n",
    "max_rabi = np.amax(np.abs(np.array(rabis)))\n",
    "    \n",
    "# Plot the z transitions\n",
    "for idx,item in enumerate(transitions_Z):\n",
    "    i,j = item\n",
    "    offset = random.uniform(-0.25,0.25)\n",
    "    x = [ground_mF[i][1]+offset,excited_mF[j][1]+offset]\n",
    "    y = [ground_Energy[i],excited_Energy[j]+current_field[idx].detuning]\n",
    "    plt.plot(x,y,alpha = np.abs(current_field[idx].rabi/max_rabi),linewidth = np.abs(current_field[idx].rabi/max_rabi*5))\n",
    "\n",
    "\n",
    "#Plot sigma transitions\n",
    "for idx,item in enumerate(transitions_sigma):\n",
    "    i,j = item\n",
    "    offset = random.uniform(-0.05,0.05)\n",
    "    x = [ground_mF[i][1]+offset,excited_mF[j][1]+offset]\n",
    "    y = [ground_Energy[i],excited_Energy[j]+current_field[idx+N_z].detuning]\n",
    "    #plt.plot(x,y,alpha = np.abs(current_field[idx+N_z].rabi/max_rabi),linewidth = np.abs(current_field[idx+N_z].rabi/max_rabi*10))\n",
    "\"\"\""
   ]
  },
  {
   "cell_type": "code",
   "execution_count": null,
   "id": "0140cf6e",
   "metadata": {},
   "outputs": [
    {
     "name": "stdout",
     "output_type": "stream",
     "text": [
      "8\n"
     ]
    }
   ],
   "source": [
    "import joblib\n",
    "print(joblib.cpu_count())"
   ]
  },
  {
   "cell_type": "code",
   "execution_count": null,
   "id": "c56060d1-22f0-47c9-90a4-fb48f4b218bc",
   "metadata": {},
   "outputs": [],
   "source": [
    "with open('mangesh.txt','w') as file2write:\n",
    "    for i in range(10):\n",
    "        random_txt = f\"My name is mangesh {i}\"\n",
    "        file2write.write(random_txt+'\\n')\n",
    "with open('mangesh.txt','a') as file2write:\n",
    "    for i in range(10):\n",
    "        random_txt = f\"Her name is Preetha {i}\"\n",
    "        file2write.write(random_txt+'\\n')\n"
   ]
  },
  {
   "cell_type": "code",
   "execution_count": 2,
   "id": "6a74105c-c65f-485d-9a74-95ce4e174ce1",
   "metadata": {},
   "outputs": [
    {
     "name": "stdout",
     "output_type": "stream",
     "text": [
      "[0.5 0.5]\n"
     ]
    }
   ],
   "source": [
    "import nevergrad as ng\n",
    "\n",
    "def square(x):\n",
    "    return sum((x - .5)**2)\n",
    "\n",
    "optimizer = ng.optimizers.NGOpt(parametrization=2, budget=100)\n",
    "recommendation = optimizer.minimize(square)\n",
    "print(recommendation.value)  # recommended value"
   ]
  },
  {
   "cell_type": "code",
   "execution_count": 6,
   "id": "e08ede92",
   "metadata": {},
   "outputs": [
    {
     "name": "stderr",
     "output_type": "stream",
     "text": [
      "/opt/anaconda3/lib/python3.11/site-packages/nevergrad/parametrization/_datalayers.py:107: NevergradRuntimeWarning: Bounds are 1.0 sigma away from each other at the closest, you should aim for at least 3 for better quality.\n",
      "  warnings.warn(\n"
     ]
    },
    {
     "ename": "TypeError",
     "evalue": "'int' object is not callable",
     "output_type": "error",
     "traceback": [
      "\u001b[0;31m---------------------------------------------------------------------------\u001b[0m",
      "\u001b[0;31mTypeError\u001b[0m                                 Traceback (most recent call last)",
      "Cell \u001b[0;32mIn[6], line 31\u001b[0m\n\u001b[1;32m     28\u001b[0m futures \u001b[38;5;241m=\u001b[39m {}\n\u001b[1;32m     29\u001b[0m \u001b[38;5;28;01mfor\u001b[39;00m _ \u001b[38;5;129;01min\u001b[39;00m \u001b[38;5;28mrange\u001b[39m(budget):\n\u001b[1;32m     30\u001b[0m     \u001b[38;5;66;03m# Ask for new candidates (up to the number of workers)\u001b[39;00m\n\u001b[0;32m---> 31\u001b[0m     \u001b[38;5;28;01mwhile\u001b[39;00m \u001b[38;5;28mlen\u001b[39m(futures) \u001b[38;5;241m<\u001b[39m num_workers \u001b[38;5;129;01mand\u001b[39;00m \u001b[38;5;28mlen\u001b[39m(futures) \u001b[38;5;241m+\u001b[39m optimizer\u001b[38;5;241m.\u001b[39mnum_ask() \u001b[38;5;241m<\u001b[39m budget:\n\u001b[1;32m     32\u001b[0m         candidate \u001b[38;5;241m=\u001b[39m optimizer\u001b[38;5;241m.\u001b[39mask()\n\u001b[1;32m     33\u001b[0m         \u001b[38;5;66;03m# Submit the objective function evaluation asynchronously\u001b[39;00m\n",
      "\u001b[0;31mTypeError\u001b[0m: 'int' object is not callable"
     ]
    }
   ],
   "source": []
  },
  {
   "cell_type": "code",
   "execution_count": 132,
   "id": "a8355dc9",
   "metadata": {},
   "outputs": [
    {
     "name": "stdout",
     "output_type": "stream",
     "text": [
      "0 ((array([-1.39118466,  0.17749374]), array([1.0242375 , 0.27669611])), {})\n",
      "0 ((array([-1.2129224 , -0.43358584]), array([-1.13761905,  0.25778535])), {})\n",
      "0 ((array([-0.22731684, -0.65926191]), array([-0.29481194, -0.23765935])), {})\n",
      "0 ((array([0.07108565, 0.25682694]), array([ 1.07904671, -1.10719993])), {})\n",
      "1 ((array([1.45570868, 0.85146943]), array([-1.80772678,  1.26765221])), {})\n",
      "1 ((array([0.36590678, 1.3720927 ]), array([ 0.83546526, -0.20025612])), {})\n",
      "1 ((array([-0.53228377, -0.69278068]), array([-0.51789365, -0.56092341])), {})\n",
      "1 ((array([0.6607974 , 0.79183826]), array([ 0.14916959, -0.26151585])), {})\n",
      "2 ((array([-1.19132592, -0.28345352]), array([ 1.09686575, -0.19478652])), {})\n",
      "2 ((array([0.44180111, 1.11282898]), array([0.44292603, 0.48682004])), {})\n",
      "2 ((array([2.31674805, 0.28076942]), array([ 0.29107686, -0.8942938 ])), {})\n",
      "2 ((array([ 1.24496727, -0.0138902 ]), array([0.59741898, 0.78402565])), {})\n",
      "3 ((array([0.53461381, 1.49900197]), array([0.66733987, 0.03704089])), {})\n",
      "3 ((array([0.58058583, 0.79953351]), array([-0.01831505, -0.58785207])), {})\n",
      "3 ((array([-0.49019323, -0.50993254]), array([ 0.64091363, -1.44041226])), {})\n",
      "3 ((array([1.28665827, 1.23885241]), array([ 0.12093132, -0.16547588])), {})\n",
      "4 ((array([0.72652599, 0.56036332]), array([-0.12388048, -0.53874524])), {})\n",
      "4 ((array([ 1.23200426, -0.6167178 ]), array([-0.05127398, -0.81764269])), {})\n",
      "4 ((array([0.71074949, 1.68726325]), array([-1.07645973,  0.06755751])), {})\n",
      "4 ((array([ 0.72120196, -0.4156141 ]), array([-0.51598881, -0.71242541])), {})\n",
      "5 ((array([0.36829596, 1.48839169]), array([ 0.95618843, -1.02832694])), {})\n",
      "5 ((array([-0.28155218,  1.81794274]), array([2.62308844, 0.2394672 ])), {})\n",
      "5 ((array([0.98249061, 0.09120845]), array([1.17268365, 0.68330889])), {})\n",
      "5 ((array([0.35863297, 1.0611395 ]), array([0.16073181, 0.27546038])), {})\n",
      "6 ((array([0.72565765, 0.39411063]), array([-0.75410549, -0.20881614])), {})\n",
      "6 ((array([-0.16850843,  0.38454195]), array([-0.46924022, -0.66396956])), {})\n",
      "6 ((array([1.00183572, 0.56430331]), array([-0.21368406,  0.23134734])), {})\n",
      "6 ((array([1.32484749, 0.09825283]), array([ 0.05500039, -0.43488863])), {})\n",
      "7 ((array([0.74534672, 0.70872541]), array([ 0.28767511, -0.34035286])), {})\n",
      "7 ((array([0.6461664 , 0.94390097]), array([0.33671022, 0.70173643])), {})\n",
      "7 ((array([ 1.15428941, -0.05690789]), array([-0.44914892,  0.9185909 ])), {})\n",
      "7 ((array([0.39395517, 0.58051951]), array([ 0.78014714, -0.05669483])), {})\n",
      "8 ((array([1.31105419, 1.18152867]), array([0.32543512, 0.01204456])), {})\n",
      "8 ((array([1.69037742, 0.48167303]), array([ 0.72142641, -0.43495501])), {})\n",
      "8 ((array([0.72357317, 0.93206504]), array([0.81357576, 0.90217225])), {})\n",
      "8 ((array([0.58675918, 0.78904085]), array([0.23819734, 0.69593131])), {})\n",
      "9 ((array([0.82311329, 0.51371581]), array([-0.35650777,  0.13761511])), {})\n",
      "9 ((array([0.93077558, 0.39312689]), array([-0.13640334,  0.01513629])), {})\n",
      "9 ((array([0.48002086, 1.15599531]), array([-0.50578047, -0.82992361])), {})\n",
      "9 ((array([0.90121433, 0.7499672 ]), array([-0.24925056, -0.63671231])), {})\n",
      "10 ((array([1.50692127, 0.51436811]), array([-0.04929949,  0.64045542])), {})\n",
      "10 ((array([0.57702943, 1.02926196]), array([-0.5380488, -0.2408683])), {})\n",
      "10 ((array([1.05860627, 0.86092112]), array([-0.20847568,  0.35692343])), {})\n",
      "10 ((array([0.94393438, 0.97642951]), array([0.22694024, 0.96348497])), {})\n",
      "11 ((array([0.3465487 , 0.43815972]), array([-0.31579455,  0.08494739])), {})\n",
      "11 ((array([0.79501832, 0.88421068]), array([-0.15741763,  0.49398579])), {})\n",
      "11 ((array([0.54900944, 0.54402426]), array([-0.02203182,  0.38222317])), {})\n",
      "11 ((array([1.01748535, 0.92525492]), array([-0.19341277,  1.24679928])), {})\n",
      "12 ((array([0.07345374, 0.87032434]), array([0.07261227, 0.98731376])), {})\n",
      "12 ((array([0.11388106, 1.13938824]), array([-0.34269139,  0.43454607])), {})\n",
      "12 ((array([0.40524621, 0.81942078]), array([ 0.12262828, -0.07119906])), {})\n",
      "12 ((array([0.27875456, 0.22929566]), array([0.21770407, 0.31837866])), {})\n",
      "13 ((array([ 0.02449559, -0.39515791]), array([-0.7378337 ,  1.41968308])), {})\n",
      "13 ((array([0.30446039, 1.14714719]), array([0.17036476, 0.40387644])), {})\n",
      "13 ((array([0.59923246, 0.405137  ]), array([0.2693458 , 0.13827701])), {})\n",
      "13 ((array([0.03236726, 0.84510724]), array([-0.15061439,  0.70458136])), {})\n",
      "14 ((array([0.4628636 , 0.44332235]), array([ 0.39524481, -0.08951781])), {})\n",
      "14 ((array([0.72711348, 0.80448264]), array([0.8303219, 0.3218968])), {})\n",
      "14 ((array([0.15705522, 1.25795067]), array([ 0.2755014 , -0.10478458])), {})\n",
      "14 ((array([0.85477262, 0.14910995]), array([-0.02623411,  0.68075474])), {})\n",
      "15 ((array([0.49485035, 0.93519227]), array([ 0.37957747, -0.55959476])), {})\n",
      "15 ((array([0.54306172, 0.17087403]), array([ 0.42462593, -0.21820096])), {})\n",
      "15 ((array([0.63960743, 0.88710693]), array([-0.0774719 ,  0.34037267])), {})\n",
      "15 ((array([0.24514765, 1.22944445]), array([0.65750644, 0.46254928])), {})\n",
      "16 ((array([ 0.28445134, -0.52668107]), array([0.61723893, 0.19359481])), {})\n",
      "16 ((array([0.42770888, 0.5044687 ]), array([ 0.22526942, -0.25640978])), {})\n",
      "16 ((array([0.82793113, 0.70111251]), array([-0.12107395,  0.12442821])), {})\n",
      "16 ((array([0.81635815, 0.5629359 ]), array([-0.23292032,  0.04176356])), {})\n",
      "17 ((array([0.55003122, 0.72253863]), array([-0.34400949,  0.38992791])), {})\n",
      "17 ((array([0.84698384, 0.51492289]), array([-0.09761306, -0.16208837])), {})\n",
      "17 ((array([0.34665107, 0.14080324]), array([0.32756256, 0.34354858])), {})\n",
      "17 ((array([0.5239031 , 0.76660841]), array([ 0.2485823, -0.2130021])), {})\n",
      "18 ((array([0.48920981, 0.82278694]), array([-0.13459274, -0.28926   ])), {})\n",
      "18 ((array([0.39555232, 0.33674545]), array([ 0.51076877, -0.18518882])), {})\n",
      "18 ((array([0.91479359, 0.44428781]), array([-0.34375407,  0.07113284])), {})\n",
      "18 ((array([0.46654154, 0.4534673 ]), array([0.03378712, 0.05197623])), {})\n",
      "19 ((array([1.4360566 , 0.46604364]), array([-0.56938513, -0.11137062])), {})\n",
      "19 ((array([0.70899495, 0.53228612]), array([-0.5352293 ,  0.10345826])), {})\n",
      "19 ((array([1.11013439, 0.46885609]), array([-0.3702452 ,  0.01137236])), {})\n",
      "19 ((array([0.56575864, 0.82670733]), array([-0.21539804, -0.10646686])), {})\n",
      "20 ((array([0.37297862, 0.67191163]), array([-0.17951827, -0.3774839 ])), {})\n",
      "20 ((array([0.41155371, 0.32238029]), array([0.03263364, 0.16227881])), {})\n",
      "20 ((array([0.60876913, 0.76109479]), array([ 0.05445585, -0.28496551])), {})\n",
      "20 ((array([0.70555306, 0.37508061]), array([-0.37630374, -0.01338894])), {})\n",
      "21 ((array([0.34445322, 0.2419302 ]), array([-0.41080143,  0.12375434])), {})\n",
      "21 ((array([0.44250054, 0.7028426 ]), array([ 0.00624317, -0.19218552])), {})\n",
      "21 ((array([0.66951503, 0.83454932]), array([-0.2454023 ,  0.05432432])), {})\n",
      "21 ((array([0.71419323, 0.70972967]), array([ 0.08305445, -0.0545558 ])), {})\n",
      "22 ((array([0.68445395, 0.17574484]), array([-0.10158672, -0.02860109])), {})\n",
      "22 ((array([0.5709356 , 0.77979364]), array([-0.23325124, -0.01360819])), {})\n",
      "22 ((array([0.58422035, 0.50058492]), array([0.29175865, 0.26421028])), {})\n",
      "22 ((array([0.4584443, 1.0065453]), array([-0.19053578, -0.11017536])), {})\n",
      "23 ((array([0.90030948, 0.49163702]), array([ 0.36527805, -0.18592594])), {})\n",
      "23 ((array([0.39705629, 0.68195055]), array([-0.01542417, -0.19138821])), {})\n",
      "23 ((array([0.69436688, 0.62589848]), array([ 0.42882662, -0.04955621])), {})\n",
      "23 ((array([0.60739129, 0.73076455]), array([ 0.0928986 , -0.00609436])), {})\n",
      "24 ((array([0.52333816, 0.70288911]), array([-0.20843782, -0.08792654])), {})\n",
      "24 ((array([0.39379661, 0.58854925]), array([-0.000618  , -0.02742518])), {})\n",
      "24 ((array([0.58160835, 0.8081416 ]), array([-0.02597899,  0.16925882])), {})\n",
      "24 ((array([0.42822615, 0.46783115]), array([ 0.17978395, -0.09278439])), {})\n",
      "((array([0.39379661, 0.58854925]), array([-0.000618  , -0.02742518])), {})\n",
      "0.7823629379272461\n"
     ]
    }
   ],
   "source": [
    "import nevergrad as ng\n",
    "from joblib import Parallel,delayed\n",
    "\n",
    "def square(x, y):\n",
    "    #time.sleep(0.25)\n",
    "    return sum((x - 0.5) ** 2) + sum(abs(y))\n",
    "\n",
    "instrum = ng.p.Instrumentation(ng.p.Array(shape=(2,)), ng.p.Array(shape=(2,)))  # We are working on R^2 x R.\n",
    "optimizer = ng.optimizers.NGOpt(parametrization=instrum, budget=100, num_workers=1)\n",
    "n_jobs = 4\n",
    "start = time.time()\n",
    "for i in range(optimizer.budget//n_jobs):\n",
    "\n",
    "    #x = optimizer.ask()\n",
    "    x_list = [optimizer.ask() for _ in range(n_jobs)]\n",
    "    #print(i,x.value)\n",
    "    #loss = square(*x.args, **x.kwargs)\n",
    "    loss_list = Parallel(n_jobs=n_jobs)(delayed(square)(*x.args) for x in x_list)\n",
    "    for x,loss in zip(x_list,loss_list):\n",
    "        print(i,x.value)\n",
    "        optimizer.tell(x, loss)\n",
    "\n",
    "recommendation = optimizer.provide_recommendation()\n",
    "print(recommendation.value)\n",
    "print(time.time()-start)"
   ]
  },
  {
   "cell_type": "code",
   "execution_count": 127,
   "id": "02039b0a",
   "metadata": {},
   "outputs": [
    {
     "data": {
      "text/plain": [
       "0.6207345231106547"
      ]
     },
     "execution_count": 127,
     "metadata": {},
     "output_type": "execute_result"
    }
   ],
   "source": [
    "x.value[0][0][0]"
   ]
  },
  {
   "cell_type": "code",
   "execution_count": null,
   "id": "55862182",
   "metadata": {},
   "outputs": [],
   "source": []
  },
  {
   "cell_type": "code",
   "execution_count": 112,
   "id": "64d17648",
   "metadata": {},
   "outputs": [
    {
     "name": "stdout",
     "output_type": "stream",
     "text": [
      "((array([0.51991401, 0.54398059]),), {'y': 0.011652550503945765})\n",
      "26.241838216781616\n"
     ]
    }
   ],
   "source": [
    "import nevergrad as ng\n",
    "from joblib import Parallel,delayed\n",
    "\n",
    "def square(x, y=12):\n",
    "    time.sleep(0.25)\n",
    "    return sum((x - 0.5) ** 2) + abs(y)\n",
    "\n",
    "instrum = ng.p.Instrumentation(ng.p.Array(shape=(2,)), y=ng.p.Scalar())  # We are working on R^2 x R.\n",
    "optimizer = ng.optimizers.NGOpt(parametrization=instrum, budget=100, num_workers=1)\n",
    "\n",
    "start = time.time()\n",
    "for i in range(optimizer.budget):\n",
    "\n",
    "    x = optimizer.ask()\n",
    "    #print(i,x.value)\n",
    "    loss = square(*x.args, **x.kwargs)\n",
    "    #loss_list = Parallel(n_jobs=optimizer.num_workers)(delayed(square)(*x.args,**x.kwargs) for x in x_list)\n",
    "    optimizer.tell(x, loss)\n",
    "\n",
    "recommendation = optimizer.provide_recommendation()\n",
    "print(recommendation.value)\n",
    "print(time.time()-start)"
   ]
  },
  {
   "cell_type": "code",
   "execution_count": 43,
   "id": "26d0f4ca",
   "metadata": {},
   "outputs": [
    {
     "data": {
      "text/plain": [
       "((array([-0.43220543,  0.17509482]),), {'y': -0.13313246442153137})"
      ]
     },
     "execution_count": 43,
     "metadata": {},
     "output_type": "execute_result"
    }
   ],
   "source": [
    "x.value"
   ]
  },
  {
   "cell_type": "code",
   "execution_count": 52,
   "id": "5b14384b",
   "metadata": {},
   "outputs": [
    {
     "name": "stdout",
     "output_type": "stream",
     "text": [
      "1 , 1\n",
      "2 , 4\n",
      "3 , 9\n",
      "4 , 16\n",
      "5 , 25\n"
     ]
    }
   ],
   "source": [
    "x= [1,2,3,4,5]\n",
    "y = [1,4,9,16,25]\n",
    "for z1,z2 in zip(x,y):\n",
    "    print(z1,\",\",z2)"
   ]
  },
  {
   "cell_type": "code",
   "execution_count": 72,
   "id": "e768a80e",
   "metadata": {},
   "outputs": [
    {
     "data": {
      "text/plain": [
       "0.75"
      ]
     },
     "execution_count": 72,
     "metadata": {},
     "output_type": "execute_result"
    }
   ],
   "source": [
    "3/4"
   ]
  },
  {
   "cell_type": "code",
   "execution_count": 73,
   "id": "ef5f56a4",
   "metadata": {},
   "outputs": [
    {
     "data": {
      "text/plain": [
       "1.3333333333333333"
      ]
     },
     "execution_count": 73,
     "metadata": {},
     "output_type": "execute_result"
    }
   ],
   "source": [
    "4/3"
   ]
  },
  {
   "cell_type": "code",
   "execution_count": 75,
   "id": "09d72a0d",
   "metadata": {},
   "outputs": [
    {
     "data": {
      "text/plain": [
       "1"
      ]
     },
     "execution_count": 75,
     "metadata": {},
     "output_type": "execute_result"
    }
   ],
   "source": [
    "4//3"
   ]
  },
  {
   "cell_type": "code",
   "execution_count": 170,
   "id": "bbb75aef",
   "metadata": {},
   "outputs": [
    {
     "name": "stdout",
     "output_type": "stream",
     "text": [
      "[(0.0, 0.0), (0.0, 0.0)]\n",
      "(array([0., 0.]), array([0., 0.]), (0.0, 0.0, 0.0, 0.0))\n",
      "[(1.0, 0.0), (0.0, 0.0)]\n",
      "(array([1., 0.]), array([0., 0.]), (0.0, 0.0, 0.0, 0.0))\n",
      "[(1.0, 0.0), (1.0, 0.0)]\n",
      "(array([1., 1.]), array([0., 0.]), (0.0, 0.0, 0.0, 0.0))\n",
      "[(1.0, 1.0), (1.0, 0.0)]\n",
      "(array([1., 1.]), array([1., 0.]), (0.0, 0.0, 0.0, 0.0))\n",
      "[(1.0, 0.0), (1.0, 1.0)]\n",
      "(array([1., 1.]), array([0., 1.]), (0.0, 0.0, 0.0, 0.0))\n",
      "[(1.0, 0.0), (1.0, 0.0)]\n",
      "(array([1., 1.]), array([0., 0.]), (1.0, 0.0, 0.0, 0.0))\n",
      "[(1.0, 0.0), (1.0, 0.0)]\n",
      "(array([1., 1.]), array([0., 0.]), (1.0, 1.0, 0.0, 0.0))\n",
      "[(1.0, 0.0), (1.0, 0.0)]\n",
      "(array([1., 1.]), array([0., 0.]), (1.0, 0.0, 1.0, 0.0))\n",
      "[(1.0, 0.0), (1.0, 0.0)]\n",
      "(array([1., 1.]), array([0., 0.]), (1.0, 0.0, 0.0, 1.0))\n",
      "[(1.0671156055214024, -0.20134681656420733), (1.0671156055214024, -0.2013468165642073)]\n",
      "(array([1.06711561, 1.06711561]), array([-0.20134682, -0.20134682]), (1.6040404496926217, 0.7382716607354267, 0.0, 0.0))\n",
      "[(1.0335578027607013, -0.10067340828210367), (1.0335578027607013, -0.10067340828210365)]\n",
      "(array([1.0335578, 1.0335578]), array([-0.10067341, -0.10067341]), (1.3020202248463109, 0.36913583036771336, 0.0, 0.0))\n",
      "[(1.248973301616926, 0.0), (1.0, 0.0)]\n",
      "(array([1.2489733, 1.       ]), array([0., 0.]), (1.0, 0.022633936510629633, 0.0, 0.0))\n",
      "[(0.9286387329798911, -0.0953830521909603), (1.03179435073032, -0.0953830521909603)]\n",
      "(array([0.92863873, 1.03179435]), array([-0.09538305, -0.09538305]), (1.2861491565728809, 0.37923540938713, 0.0, 0.0))\n",
      "[(1.0, 0.07905694150420947), (1.2371708245126285, 0.0)]\n",
      "(array([1.        , 1.23717082]), array([0.07905694, 0.        ]), (1.0, 1.984409015055941e-18, 0.0, 0.0))\n",
      "[(0.986760064643695, 0.45831469772957456), (0.8361077128124883, -0.035865974506630295)]\n",
      "(array([0.98676006, 0.83610771]), array([ 0.4583147 , -0.03586597]), (1.107597923519891, 0.006926679157661717, 0.0, 0.0))\n",
      "[(0.9863880239028892, -0.0005063091447025568), (0.9887355573811287, 0.48723686211751355)]\n",
      "(array([0.98638802, 0.98873556]), array([-0.00050631,  0.48723686]), (1.1106214134462564, 0.00712131808721768, 0.0, 0.0))\n",
      "[(0.9381183963890665, -0.0023017394075298256), (0.9487905526672903, 0.002864726112589853)]\n",
      "(array([0.9381184 , 0.94879055]), array([-0.00230174,  0.00286473]), (0.7655076593038568, 0.03237432830594746, 0.0, 0.0))\n",
      "[(1.0, 0.0), (1.0, 0.0)]\n",
      "(array([1., 1.]), array([0., 0.]), (1.0, 0.0, 0.125, 0.0))\n",
      "[(0.9633752613824388, -0.046563939402767325), (1.0000222790139661, -0.04502334073208506)]\n",
      "(array([0.96337526, 1.00002228]), array([-0.04656394, -0.04502334]), (1.1441254870488737, 0.19023977066949943, 0.0, 0.0))\n",
      "[(1.0, 0.0), (1.0, 0.0)]\n",
      "(array([1., 1.]), array([0., 0.]), (1.0, 0.0, 0.0, 0.125))\n",
      "Best Parameters Found: ((array([1., 1.]), array([0., 0.]), (1.0, 0.0, 0.0, 0.125)), {})\n",
      "Best Objective Value: 43.0\n"
     ]
    }
   ],
   "source": [
    "import nevergrad as ng\n",
    "import numpy as np\n",
    "\n",
    "# Define the objective function\n",
    "def objective_function(x, y, z):\n",
    "    \"\"\"\n",
    "    Objective function to minimize.\n",
    "    Example: Sum of squares of x, y, and z.\n",
    "    Replace with your actual function.\n",
    "    \"\"\"\n",
    "    return np.sum((x - 1) ** 2) + np.sum((y + 1) ** 2) + np.sum((z[0] - 5) ** 2) + np.sum((z[1] + 5) ** 2)\n",
    "\n",
    "# Define the parameter space\n",
    "x = ng.p.Array(shape=(2,)).set_bounds(0, 10)  # x is an array of size 2\n",
    "y = ng.p.Array(shape=(2,)).set_bounds(-15, 15)    # y is an array of size 3\n",
    "z = ng.p.Tuple(\n",
    "    ng.p.Scalar().set_bounds(0, 30),           # z[0] is a scalar\n",
    "    ng.p.Scalar().set_bounds(0, 30),              # z[1] is a scalar\n",
    "    ng.p.Scalar().set_bounds(0, 30),           # z[2] is a scalar\n",
    "    ng.p.Scalar().set_bounds(0, 30),              # z[3] is a scalar\n",
    ")\n",
    "\n",
    "# Combine x, y, and z into a single parameter space\n",
    "param_space = ng.p.Instrumentation(x, y, z)\n",
    "\n",
    "optimizer = ng.optimizers.NGOpt(parametrization=param_space, budget=20, num_workers=1)\n",
    "\n",
    "# Initialize the optimizer\n",
    "#optimizer = ng.optimizers.NGOpt(param_space)\n",
    "\n",
    "# Define the optimization budget\n",
    "budget = 20  # Total number of evaluations\n",
    "\n",
    "# Optimization loop using `ask` and `tell`\n",
    "n_jobs = 4\n",
    "for i in range(optimizer.budget//n_jobs):\n",
    "\n",
    "    #x = optimizer.ask()\n",
    "    candidate_list = [optimizer.ask() for _ in range(n_jobs)]\n",
    "\n",
    "    rabi_det_list = []\n",
    "    omegas_list = []\n",
    "\n",
    "    for candidate in candidate_list:\n",
    "        rabis = candidate.args[0]\n",
    "        detunings =  candidate.args[1]\n",
    "\n",
    "        rabi_det_array = [(rabis[j],detunings[j]) for j in range(len(rabis))]\n",
    "        rabi_det_list.append(rabi_det_array)\n",
    "\n",
    "        omegas = candidate.args[2]\n",
    "        omegas_list.append(omegas)\n",
    "\n",
    "    #print(i,x.value)\n",
    "    #loss = square(*x.args, **x.kwargs)\n",
    "    loss_list = Parallel(n_jobs=n_jobs)(delayed(r22)(rabi_det_list[k],Ns,omegas_list[k]) for k in range(n_jobs))\n",
    "    for x,loss in zip(x_list,loss_list):\n",
    "        print(i,x.value)\n",
    "        optimizer.tell(x, loss)\n",
    "\"\"\"\n",
    "def r22(rabi_det_params:list,Ns,Omega_z_0 = 10.0, Omega_x_0 = 10.0,Omega_z_2 = 10.0, Omega_x_2 = 10.0,passes=1): #rabi_det_params was a field earlier\n",
    "    package = 'Python'\n",
    "\"\"\"\n",
    "for _ in range(budget):\n",
    "    # Ask for a new candidate solution\n",
    "    candidate = optimizer.ask()\n",
    "\n",
    "    #Rabis\n",
    "    rabis = candidate.args[0]\n",
    "\n",
    "    #Detunings\n",
    "    detunings =  candidate.args[1]\n",
    "\n",
    "    rabi_det_array = [(rabis[i],detunings[i]) for i in range(len(rabis))]\n",
    "    print(rabi_det_array)\n",
    "    #Omegas\n",
    "    omegas = candidate.args[2]\n",
    "\n",
    "    value = objective_function(*candidate.args)\n",
    "\n",
    "    # Provide feedback to the optimizer\n",
    "    optimizer.tell(candidate, value)\n",
    "\n",
    "# Retrieve the best solution found\n",
    "recommendation = optimizer.provide_recommendation()\n",
    "best_params = recommendation.value\n",
    "best_value = objective_function(best_params[0][0],best_params[0][1],best_params[0][2])\n",
    "\n",
    "print(\"Best Parameters Found:\", best_params)\n",
    "print(\"Best Objective Value:\", best_value)\n",
    "\n"
   ]
  },
  {
   "cell_type": "code",
   "execution_count": 167,
   "id": "0b683844",
   "metadata": {},
   "outputs": [
    {
     "data": {
      "text/plain": [
       "6.685234854089873e-07"
      ]
     },
     "execution_count": 167,
     "metadata": {},
     "output_type": "execute_result"
    }
   ],
   "source": [
    "a,b = candidate.args[2]\n",
    "b"
   ]
  },
  {
   "cell_type": "code",
   "execution_count": 144,
   "id": "ca3d15cb",
   "metadata": {},
   "outputs": [
    {
     "data": {
      "text/plain": [
       "(array([ 0.18552352, -0.10772839]),\n",
       " array([-0.09766244,  0.09656355]),\n",
       " (-0.00927475919376585, 0.26592554541343266))"
      ]
     },
     "execution_count": 144,
     "metadata": {},
     "output_type": "execute_result"
    }
   ],
   "source": [
    "candidate.args"
   ]
  },
  {
   "cell_type": "code",
   "execution_count": 172,
   "id": "c8a332b1",
   "metadata": {},
   "outputs": [
    {
     "data": {
      "text/plain": [
       "1"
      ]
     },
     "execution_count": 172,
     "metadata": {},
     "output_type": "execute_result"
    }
   ],
   "source": [
    "c= (1,2)\n",
    "(a,b) = c\n",
    "a"
   ]
  },
  {
   "cell_type": "code",
   "execution_count": null,
   "id": "40905fcc",
   "metadata": {},
   "outputs": [],
   "source": []
  }
 ],
 "metadata": {
  "kernelspec": {
   "display_name": "Python 3 (ipykernel)",
   "language": "python",
   "name": "python3"
  },
  "language_info": {
   "codemirror_mode": {
    "name": "ipython",
    "version": 3
   },
   "file_extension": ".py",
   "mimetype": "text/x-python",
   "name": "python",
   "nbconvert_exporter": "python",
   "pygments_lexer": "ipython3",
   "version": "3.9.7"
  }
 },
 "nbformat": 4,
 "nbformat_minor": 5
}
