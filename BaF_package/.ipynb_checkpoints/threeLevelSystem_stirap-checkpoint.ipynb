{
 "cells": [
  {
   "cell_type": "code",
   "execution_count": 1,
   "id": "7534a79c",
   "metadata": {},
   "outputs": [],
   "source": [
    "#Importing the standard libraries\n",
    "import numpy as np\n",
    "import matplotlib.pyplot as plt\n",
    "%matplotlib inline"
   ]
  },
  {
   "cell_type": "code",
   "execution_count": 2,
   "id": "17ab800a",
   "metadata": {},
   "outputs": [],
   "source": [
    "#Importing the solver modules\n",
    "import system\n",
    "from obe import obe\n",
    "from states import SigmaLevel,PiLevelParity\n",
    "from obe import Excitation\n",
    "import time\n",
    "import warnings\n",
    "warnings.filterwarnings('ignore')"
   ]
  },
  {
   "cell_type": "code",
   "execution_count": 3,
   "id": "2d87d349",
   "metadata": {},
   "outputs": [],
   "source": [
    "b=system.System([],[]) \n",
    "#Since the program is designed mailnly to address the states of a BaF molecule, it expects the rotational and the angular momentum states when defining the system\n",
    "#We will generate a ground state first. In a BaF molecule it is a Sigma level\n",
    "b.sigma_states.append(SigmaLevel(0.5,0,1/2,1,-1))     #state0\n",
    "b.sigma_states.append(SigmaLevel(0.5,0,1/2,1,1))     #state1\n",
    "b.sigma_states.append(SigmaLevel(0.5,0,1/2,1,0))     #state1\n",
    "#The excited state is a Pi level\n",
    "b.pi_states.append(PiLevelParity(-1,1/2,1/2,0,0))    #state2\n"
   ]
  },
  {
   "cell_type": "code",
   "execution_count": 4,
   "id": "6e8771fc",
   "metadata": {},
   "outputs": [
    {
     "data": {
      "text/latex": [
       "$\\displaystyle 0.272165526975909 \\sqrt{3}$"
      ],
      "text/plain": [
       "0.272165526975909*sqrt(3)"
      ]
     },
     "execution_count": 4,
     "metadata": {},
     "output_type": "execute_result"
    }
   ],
   "source": [
    "## To evaluate the matrix element manually\n",
    "from hamiltonian import H_int\n",
    "g0 = b.sigma_states[0]\n",
    "g1 = b.sigma_states[1]\n",
    "g2 = b.sigma_states[2]\n",
    "e0 = b.pi_states[0]\n",
    "H_int(g1,e0,pol = -1) #the acutal value of the dipole matrix element is this number multiplied by <sigma|d|pi>. It is useful to define the relative but not absolute strength of transitions\n",
    "\n"
   ]
  },
  {
   "cell_type": "code",
   "execution_count": 5,
   "id": "7fc29cf2",
   "metadata": {},
   "outputs": [],
   "source": [
    "#Next we will generate the Hamiltonian for this two level system\n",
    "b.sigma_Hamiltonian.generate_bare()\n",
    "b.pi_Hamiltonian.generate_bare()\n",
    "b.sigma_Hamiltonian.diagonalize()\n",
    "b.pi_Hamiltonian.diagonalize()"
   ]
  },
  {
   "cell_type": "code",
   "execution_count": 6,
   "id": "19146b46",
   "metadata": {},
   "outputs": [
    {
     "name": "stdout",
     "output_type": "stream",
     "text": [
      "Pi branching took : 2.816404104232788 sec\n",
      "Sigma- branching took : 0.3470308780670166 sec\n",
      "Sigma+ branching took : 0.012125968933105469 sec\n"
     ]
    }
   ],
   "source": [
    "G = b.sigma_Hamiltonian.diagonalized_states\n",
    "GH = b.sigma_Hamiltonian.diagonalized_Hamiltonian\n",
    "E =b.pi_Hamiltonian.diagonalized_states\n",
    "EH = b.pi_Hamiltonian.diagonalized_Hamiltonian\n",
    "BR = b.generate_branching_ratios(G,E)"
   ]
  },
  {
   "cell_type": "code",
   "execution_count": 7,
   "id": "b095f5ee",
   "metadata": {},
   "outputs": [
    {
     "data": {
      "text/plain": [
       "array([[0.33333333],\n",
       "       [0.33333333],\n",
       "       [0.33333333]])"
      ]
     },
     "execution_count": 7,
     "metadata": {},
     "output_type": "execute_result"
    }
   ],
   "source": [
    "b.branching_ratios"
   ]
  },
  {
   "cell_type": "code",
   "execution_count": 8,
   "id": "e474f775",
   "metadata": {},
   "outputs": [
    {
     "data": {
      "text/plain": [
       "array([[0.        +0.j, 0.        +0.j, 0.        +0.j, 0.47140452+0.j],\n",
       "       [0.        +0.j, 0.        +0.j, 0.        +0.j, 0.        +0.j],\n",
       "       [0.        +0.j, 0.        +0.j, 0.        +0.j, 0.        +0.j],\n",
       "       [0.47140452-0.j, 0.        -0.j, 0.        -0.j, 0.        +0.j]])"
      ]
     },
     "execution_count": 8,
     "metadata": {},
     "output_type": "execute_result"
    }
   ],
   "source": [
    "H0 = np.zeros((len(G)+len(E),len(G)+len(E)))\n",
    "H0[0:len(G),0:len(G)] = GH\n",
    "H0[len(G):,len(G):] = EH\n",
    "\n",
    "#Introduce interaction with sigma+ polarized light\n",
    "b.generate_interaction_Hamiltonian(G,E,pol=1)\n",
    "Hint_plus = b.interaction_Hamiltonian\n",
    "\n",
    "#Introduce interaction with sigma- polarized light\n",
    "b.generate_interaction_Hamiltonian(G,E,pol=-1)\n",
    "Hint_minus = b.interaction_Hamiltonian\n",
    "\n",
    "n0 = [1/len(G)]*len(G)+[0]*len(E)\n",
    "Hint_plus"
   ]
  },
  {
   "cell_type": "code",
   "execution_count": 9,
   "id": "bc337805",
   "metadata": {},
   "outputs": [
    {
     "data": {
      "text/plain": [
       "array([[1.64623683e+01, 0.00000000e+00, 0.00000000e+00, 0.00000000e+00],\n",
       "       [0.00000000e+00, 1.64623683e+01, 0.00000000e+00, 0.00000000e+00],\n",
       "       [0.00000000e+00, 0.00000000e+00, 1.64623683e+01, 0.00000000e+00],\n",
       "       [0.00000000e+00, 0.00000000e+00, 0.00000000e+00, 3.48665795e+08]])"
      ]
     },
     "execution_count": 9,
     "metadata": {},
     "output_type": "execute_result"
    }
   ],
   "source": [
    "H0"
   ]
  },
  {
   "cell_type": "code",
   "execution_count": 10,
   "id": "4aea60d8",
   "metadata": {},
   "outputs": [],
   "source": [
    "Gamma = 2*np.pi*2.7\n"
   ]
  },
  {
   "cell_type": "markdown",
   "id": "d0095768",
   "metadata": {},
   "source": [
    "#### Demonstrating STIRAP in three level system"
   ]
  },
  {
   "cell_type": "code",
   "execution_count": 11,
   "id": "3e3c2860",
   "metadata": {
    "scrolled": true
   },
   "outputs": [
    {
     "data": {
      "image/png": "[encoded data removed]",
      "text/plain": [
       "<Figure size 432x288 with 1 Axes>"
      ]
     },
     "metadata": {
      "needs_background": "light"
     },
     "output_type": "display_data"
    }
   ],
   "source": [
    "rabi_probe = 5.0 \n",
    "rabi_control = 5.0\n",
    "tsigma = 10/Gamma\n",
    "\n",
    "#Assuming that the population is in G[1] state and we want to move it all to G[0] state\n",
    "r_init = np.array([[0,0,0,0],[0,1,0,0],[0,0,0,0],[0,0,0,0]]).astype(np.complex128)\n",
    "#Counterintuitive sequence of pulse\n",
    "field1 = Excitation(rabi_probe,1,G[0],E[0],0,position=0, diameter=tsigma*4,shape = \"Gaussian\")\n",
    "field2 = Excitation(rabi_control,-1,G[1],E[0],0,position=2*tsigma, diameter=tsigma*4,shape = \"Gaussian\")\n",
    "field = [field1,field2]\n",
    "\n",
    "steps = 1000\n",
    "my_obe = obe(field,[G,E],H0,[Hint_plus, Hint_minus],b.branching_ratios)\n",
    "t,ans = my_obe.solve(steps,r_init,max_step_size = 1/Gamma)\n",
    "pop_0 = ans[:,0]\n",
    "plt.plot(t,pop_0,label = 'Pop state 0');\n",
    "\n",
    "#pulse shape\n",
    "def gaussian(x,x0,wid):\n",
    "    return np.exp(-(x-x0)**2/2/wid**2)\n",
    "t = np.linspace(-2.5*tsigma*4,2*tsigma*4,100)\n",
    "probe = gaussian(t,0,np.sqrt(2)*tsigma)\n",
    "control = gaussian(t,2*tsigma,np.sqrt(2)*tsigma)\n",
    "plt.plot(t,probe,'--r',label=\"Probe beam\")\n",
    "plt.plot(t,control,'--g',label=\"Control beam\")\n",
    "plt.legend();"
   ]
  },
  {
   "cell_type": "code",
   "execution_count": null,
   "id": "2386d1f9",
   "metadata": {},
   "outputs": [],
   "source": []
  }
 ],
 "metadata": {
  "kernelspec": {
   "display_name": "Python 3 (ipykernel)",
   "language": "python",
   "name": "python3"
  },
  "language_info": {
   "codemirror_mode": {
    "name": "ipython",
    "version": 3
   },
   "file_extension": ".py",
   "mimetype": "text/x-python",
   "name": "python",
   "nbconvert_exporter": "python",
   "pygments_lexer": "ipython3",
   "version": "3.9.12"
  }
 },
 "nbformat": 4,
 "nbformat_minor": 5
}
